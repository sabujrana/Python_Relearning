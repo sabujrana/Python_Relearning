{
 "cells": [
  {
   "cell_type": "markdown",
   "metadata": {},
   "source": [
    "## Python Operators"
   ]
  },
  {
   "cell_type": "code",
   "execution_count": 3,
   "metadata": {},
   "outputs": [
    {
     "data": {
      "text/plain": [
       "21"
      ]
     },
     "execution_count": 3,
     "metadata": {},
     "output_type": "execute_result"
    }
   ],
   "source": [
    "\"\"\"\n",
    "-> constructs which can manipulate value of operand\n",
    "-> eg: x+y; x and y are operand and + is operator\n",
    "-> carryout arithematic and logical computation\n",
    "\"\"\"\n",
    "23 - 2"
   ]
  },
  {
   "cell_type": "markdown",
   "metadata": {},
   "source": [
    "### Arithematic Operator"
   ]
  },
  {
   "cell_type": "code",
   "execution_count": 5,
   "metadata": {},
   "outputs": [
    {
     "name": "stdout",
     "output_type": "stream",
     "text": [
      "20\n",
      "30\n",
      "5.0\n",
      "125\n",
      "0\n",
      "9765625\n",
      "5\n"
     ]
    }
   ],
   "source": [
    "num1 = 25\n",
    "num2 = 5\n",
    "\n",
    "print(num1 - num2) # subtract\n",
    "print(num1 + num2) # addition\n",
    "print(num1 / num2) # division\n",
    "print(num1 * num2) # multiplication\n",
    "print(num1 % num2) # modulus(remainder)\n",
    "print(num1 ** num2) # exponent(power)\n",
    "print(num1 // num2) # floor division\n"
   ]
  },
  {
   "cell_type": "markdown",
   "metadata": {},
   "source": [
    "### Comparision Operators"
   ]
  },
  {
   "cell_type": "code",
   "execution_count": 6,
   "metadata": {},
   "outputs": [
    {
     "data": {
      "text/plain": [
       "'\\n-> Used to compare values\\n-> returns either True or False\\n'"
      ]
     },
     "execution_count": 6,
     "metadata": {},
     "output_type": "execute_result"
    }
   ],
   "source": [
    "\"\"\"\n",
    "-> Used to compare values\n",
    "-> returns either True or False\n",
    "\"\"\""
   ]
  },
  {
   "cell_type": "code",
   "execution_count": 8,
   "metadata": {},
   "outputs": [
    {
     "name": "stdout",
     "output_type": "stream",
     "text": [
      "True\n",
      "False\n",
      "True\n",
      "True\n",
      "True\n",
      "True\n"
     ]
    }
   ],
   "source": [
    "name = 25\n",
    "age = name\n",
    "new_age = 21\n",
    "\n",
    "print(age == 25) #  equals to\n",
    "print(age != 25) # not equals to\n",
    "print(new_age < age) # less than\n",
    "print(age > new_age) # greater than\n",
    "print(new_age <= age) # less or equals\n",
    "print(age >= age) #greater or equals\n"
   ]
  },
  {
   "cell_type": "markdown",
   "metadata": {},
   "source": [
    "### Assignment Operator"
   ]
  },
  {
   "cell_type": "code",
   "execution_count": 10,
   "metadata": {},
   "outputs": [
    {
     "name": "stdout",
     "output_type": "stream",
     "text": [
      "27\n",
      "25\n",
      "5.0\n",
      "10.0\n",
      "0.0\n",
      "0.0\n",
      "0.0\n"
     ]
    }
   ],
   "source": [
    "\"\"\"\n",
    "-> Used to assign values to variables\n",
    "\"\"\"\n",
    "number = 25 # assigned to number\n",
    "number += 2 # add and\n",
    "print(number) \n",
    "number -= 2 # subtract and\n",
    "print(number) \n",
    "number /= 5 # division an\n",
    "print(number) \n",
    "number *= 2 # multiply and\n",
    "print(number) \n",
    "number %= 5 # modulas and\n",
    "print(number ) \n",
    "number **= 2 # exponent and\n",
    "print(number ) \n",
    "number //= 5 # floor and\n",
    "print(number ) \n"
   ]
  },
  {
   "cell_type": "markdown",
   "metadata": {},
   "source": [
    "### Logical Operator"
   ]
  },
  {
   "cell_type": "code",
   "execution_count": 15,
   "metadata": {},
   "outputs": [
    {
     "name": "stdout",
     "output_type": "stream",
     "text": [
      "False\n",
      "True\n",
      "False\n",
      "True\n",
      "True\n",
      "False\n"
     ]
    }
   ],
   "source": [
    "a = True\n",
    "b = False\n",
    "\n",
    "print(a and b)# True if both operands are True\n",
    "print(a or b)# True if either of the operand is True\n",
    "print(not a)# complementing the operand\n",
    "\n",
    "x = True\n",
    "y = True\n",
    "\n",
    "print(x and y) # Logical And\n",
    "print(x or y) # Logical Or\n",
    "print (not y) # Logical Not\n"
   ]
  },
  {
   "cell_type": "markdown",
   "metadata": {},
   "source": [
    "### Bitwise Operators"
   ]
  },
  {
   "cell_type": "code",
   "execution_count": 17,
   "metadata": {},
   "outputs": [
    {
     "name": "stdout",
     "output_type": "stream",
     "text": [
      "1\n",
      "7\n",
      "6\n",
      "-4\n",
      "12\n",
      "0\n"
     ]
    }
   ],
   "source": [
    "\"\"\"\n",
    "-> acts on operand as if thery were strings of binary digits\n",
    "-> operate bit by bit\n",
    "\"\"\"\n",
    "a = 3 #0000 0011\n",
    "b = 5 #0000 0101\n",
    "\n",
    "print(a & b) # Bitwise and (if both values are 1 result will be 1 otherwise 0)\n",
    "print(a | b) # Bitwise or (if both values are 0 result will be 0 otherwise 1)\n",
    "print(a ^ b) # Bitwise xor (if both values are same result will be 0 otherwise 1)\n",
    "print(~ a) # Binary ones complement\n",
    "print(a << 2) # Left shift\n",
    "print(a >> 2) # Right shift\n"
   ]
  },
  {
   "cell_type": "code",
   "execution_count": null,
   "metadata": {},
   "outputs": [],
   "source": []
  }
 ],
 "metadata": {
  "kernelspec": {
   "display_name": "Python 3",
   "language": "python",
   "name": "python3"
  },
  "language_info": {
   "codemirror_mode": {
    "name": "ipython",
    "version": 3
   },
   "file_extension": ".py",
   "mimetype": "text/x-python",
   "name": "python",
   "nbconvert_exporter": "python",
   "pygments_lexer": "ipython3",
   "version": "3.8.5"
  }
 },
 "nbformat": 4,
 "nbformat_minor": 4
}
