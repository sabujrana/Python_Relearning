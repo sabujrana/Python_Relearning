{
 "cells": [
  {
   "cell_type": "markdown",
   "metadata": {},
   "source": [
    "## Recursion"
   ]
  },
  {
   "cell_type": "code",
   "execution_count": 1,
   "metadata": {},
   "outputs": [
    {
     "data": {
      "text/plain": [
       "'\\n-> Process of defining something in terms of itself\\n-> pysical real world example of recursion is two parallel mirror facing each other\\n'"
      ]
     },
     "execution_count": 1,
     "metadata": {},
     "output_type": "execute_result"
    }
   ],
   "source": [
    "\"\"\"\n",
    "-> Process of defining something in terms of itself\n",
    "-> pysical real world example of recursion is two parallel mirror facing each other\n",
    "\"\"\""
   ]
  },
  {
   "cell_type": "markdown",
   "metadata": {},
   "source": [
    "### Python recursive function"
   ]
  },
  {
   "cell_type": "code",
   "execution_count": 9,
   "metadata": {},
   "outputs": [
    {
     "name": "stdout",
     "output_type": "stream",
     "text": [
      "720\n",
      "1\n"
     ]
    }
   ],
   "source": [
    "\"\"\"\n",
    "-> In python function can call other function\n",
    "-> calliing function to itself is termed as recursive function\n",
    "\"\"\"\n",
    "def factorial_calculation(number):\n",
    "    if number == 0:\n",
    "        return 1\n",
    "    else:\n",
    "        factorial = number * factorial_calculation(number - 1)\n",
    "        return factorial\n",
    "print(factorial_calculation(6))\n",
    "print(factorial_calculation(0))"
   ]
  },
  {
   "cell_type": "markdown",
   "metadata": {},
   "source": [
    "#### Advantage of recursion"
   ]
  },
  {
   "cell_type": "code",
   "execution_count": 10,
   "metadata": {},
   "outputs": [
    {
     "data": {
      "text/plain": [
       "'\\n-> makes code looks clean and elegant\\n-> complex tasks broken down into simpler sub-problems\\n-> sequence generationis easier in comparision with nested loop iteration\\n'"
      ]
     },
     "execution_count": 10,
     "metadata": {},
     "output_type": "execute_result"
    }
   ],
   "source": [
    "\"\"\"\n",
    "-> makes code looks clean and elegant\n",
    "-> complex tasks broken down into simpler sub-problems\n",
    "-> sequence generationis easier in comparision with nested loop iteration\n",
    "\"\"\""
   ]
  },
  {
   "cell_type": "markdown",
   "metadata": {},
   "source": [
    "#### Disadvantage of recursion"
   ]
  },
  {
   "cell_type": "code",
   "execution_count": 11,
   "metadata": {},
   "outputs": [
    {
     "data": {
      "text/plain": [
       "'\\n-> sometimes logic behind recursion is hard to follow through\\n-> recursive calls are expesive(inefficient) as they take up a lot of memory and time\\n-> recursive function is hard to debug\\n'"
      ]
     },
     "execution_count": 11,
     "metadata": {},
     "output_type": "execute_result"
    }
   ],
   "source": [
    "\"\"\"\n",
    "-> sometimes logic behind recursion is hard to follow through\n",
    "-> recursive calls are expesive(inefficient) as they take up a lot of memory and time\n",
    "-> recursive function is hard to debug\n",
    "\"\"\""
   ]
  }
 ],
 "metadata": {
  "kernelspec": {
   "display_name": "Python 3",
   "language": "python",
   "name": "python3"
  },
  "language_info": {
   "codemirror_mode": {
    "name": "ipython",
    "version": 3
   },
   "file_extension": ".py",
   "mimetype": "text/x-python",
   "name": "python",
   "nbconvert_exporter": "python",
   "pygments_lexer": "ipython3",
   "version": "3.8.5"
  }
 },
 "nbformat": 4,
 "nbformat_minor": 4
}
