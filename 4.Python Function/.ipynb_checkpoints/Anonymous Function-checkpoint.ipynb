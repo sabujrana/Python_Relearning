{
 "cells": [
  {
   "cell_type": "markdown",
   "metadata": {},
   "source": [
    "## Anonymous/Lambda Function"
   ]
  },
  {
   "cell_type": "code",
   "execution_count": 2,
   "metadata": {},
   "outputs": [
    {
     "name": "stdout",
     "output_type": "stream",
     "text": [
      "9\n"
     ]
    }
   ],
   "source": [
    "\"\"\"\n",
    "-> Those function which are defined without name\n",
    "-> defined using \"lambda\" instead of \"def\" keyword\n",
    "-> so it's also known as lambda function\n",
    "\n",
    "Syntax: \n",
    "\n",
    "lambda arguments: expression\n",
    "-> can have any number of argument but only one expression\n",
    "-> expression is evaluated and returned\n",
    "-> lambda function can be used wherever function objects are required\n",
    "\"\"\"\n",
    "square = lambda x: x**2\n",
    "print(square(3))"
   ]
  },
  {
   "cell_type": "markdown",
   "metadata": {},
   "source": [
    "#### Use of lambda function in python"
   ]
  },
  {
   "cell_type": "code",
   "execution_count": 6,
   "metadata": {},
   "outputs": [
    {
     "data": {
      "text/plain": [
       "'\\n-> use when nameless function for short period of time is required\\n-> use it as argument to higher order function \\n-> used along with built-in function like filter(), map() etc.\\n'"
      ]
     },
     "execution_count": 6,
     "metadata": {},
     "output_type": "execute_result"
    }
   ],
   "source": [
    "\"\"\"\n",
    "-> use when nameless function for short period of time is required\n",
    "-> use it as argument to higher order function \n",
    "-> used along with built-in function like filter(), map() etc.\n",
    "\"\"\""
   ]
  },
  {
   "cell_type": "markdown",
   "metadata": {},
   "source": [
    "#### Use of lambda function with filter()"
   ]
  },
  {
   "cell_type": "code",
   "execution_count": 9,
   "metadata": {},
   "outputs": [
    {
     "name": "stdout",
     "output_type": "stream",
     "text": [
      "[3, 9]\n"
     ]
    }
   ],
   "source": [
    "\"\"\"\n",
    "-> filter() takes in a function and list as argument\n",
    "-> new list returned with items which function evaluates True\n",
    "\"\"\"\n",
    "\n",
    "my_list = [1, 2, 3, 5, 7, 9, 11, 17]\n",
    "new_list = list(filter(lambda x: (x % 3 == 0),my_list))\n",
    "print(new_list)"
   ]
  },
  {
   "cell_type": "markdown",
   "metadata": {},
   "source": [
    "#### Use of lambda function with map()"
   ]
  },
  {
   "cell_type": "code",
   "execution_count": 12,
   "metadata": {},
   "outputs": [
    {
     "name": "stdout",
     "output_type": "stream",
     "text": [
      "[1, 4, 9, 25, 49, 81, 121, 289]\n"
     ]
    }
   ],
   "source": [
    "\"\"\"\n",
    "-> takes in a function and list\n",
    "-> new list with all the items which are returned by function for each item\n",
    "\"\"\"\n",
    "\n",
    "new_list = list(map((lambda x: x**2),my_list))\n",
    "print(new_list)"
   ]
  }
 ],
 "metadata": {
  "kernelspec": {
   "display_name": "Python 3 (ipykernel)",
   "language": "python",
   "name": "python3"
  },
  "language_info": {
   "codemirror_mode": {
    "name": "ipython",
    "version": 3
   },
   "file_extension": ".py",
   "mimetype": "text/x-python",
   "name": "python",
   "nbconvert_exporter": "python",
   "pygments_lexer": "ipython3",
   "version": "3.12.3"
  }
 },
 "nbformat": 4,
 "nbformat_minor": 4
}
