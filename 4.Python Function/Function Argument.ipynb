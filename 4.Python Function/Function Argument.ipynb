{
 "cells": [
  {
   "cell_type": "code",
   "execution_count": 5,
   "metadata": {},
   "outputs": [
    {
     "name": "stdout",
     "output_type": "stream",
     "text": [
      "sabuj Rana\n"
     ]
    }
   ],
   "source": [
    "def my_function(fname, lname):\n",
    "    print(f\"{fname} {lname}\")\n",
    "my_function(\"sabuj\",\"Rana\")\n",
    "# two argument is passed to the functoin while calling function"
   ]
  },
  {
   "cell_type": "markdown",
   "metadata": {},
   "source": [
    "### Variabe Function Argument"
   ]
  },
  {
   "cell_type": "code",
   "execution_count": 10,
   "metadata": {},
   "outputs": [
    {
     "name": "stdout",
     "output_type": "stream",
     "text": [
      "Hello sabuj. Good Morning!.\n",
      "Hello Sabina. Good Evening!.\n"
     ]
    }
   ],
   "source": [
    "#python can take variable number of arguments\n",
    "\"\"\"\n",
    "Types of Argument\n",
    "(1) Default Argument:\n",
    "-> argument can have default value in python\n",
    "-> provided default argument using assignment operator(=)\n",
    "\"\"\"\n",
    "def greet_function(name, messege=\"Good Morning!\"):\n",
    "    print(f\"Hello {name}. {messege}.\")\n",
    "greet_function(\"sabuj\")# take default messege\n",
    "greet_function(\"Sabina\",\"Good Evening!\")# overwrite default messege\n",
    "# default argument must be at right, i.e all the arg at right from default arg must have default value\n",
    "# non-default argument follows default argument"
   ]
  },
  {
   "cell_type": "code",
   "execution_count": 15,
   "metadata": {},
   "outputs": [
    {
     "name": "stdout",
     "output_type": "stream",
     "text": [
      "Sabuj, Good Morning!.\n",
      "Hari, How do you do?.\n",
      "Shyam, Good Evening!.\n"
     ]
    }
   ],
   "source": [
    "\"\"\"\n",
    "(2) Python Keyword Argument:\n",
    "-> In previous example values are assigned to argument according to their position\n",
    "-> we can also call function using keyword argument, i.e position does not matter\n",
    "\"\"\"\n",
    "def greet_function2(name=\"Sabuj\", msg=\"How do you do?\"):\n",
    "    print(f\"{name}, {msg}.\")\n",
    "    \n",
    "greet_function2(msg=\"Good Morning!\")\n",
    "greet_function2(name=\"Hari\")\n",
    "greet_function2(msg=\"Good Evening!\", name=\"Shyam\")\n",
    "\n",
    "# keyword argument must follow positional argument\n",
    "#greet_function2(name=\"Sweta\",\"How are you?\") # raised error"
   ]
  },
  {
   "cell_type": "code",
   "execution_count": 18,
   "metadata": {},
   "outputs": [
    {
     "name": "stdout",
     "output_type": "stream",
     "text": [
      "Hello Hari\n",
      "Hello Ram\n",
      "Hello Rajesh\n",
      "Hello Sambhabi\n"
     ]
    }
   ],
   "source": [
    "\"\"\"\n",
    "(3) Python Arbitrary Argument\n",
    "-> if we don't know the exact number of argument then we can handle this by using arbitrary no of argument\n",
    "-> we use asterisk(*) before the name of the argument to specify arbitrary argument\n",
    "\"\"\"\n",
    "def greet_example(*names):\n",
    "    for name in names:#(names is tuple with argument)\n",
    "        print(f\"Hello {name}\")\n",
    "greet_example(\"Hari\", \"Ram\", \"Rajesh\", \"Sambhabi\")"
   ]
  },
  {
   "cell_type": "code",
   "execution_count": 19,
   "metadata": {},
   "outputs": [
    {
     "name": "stdout",
     "output_type": "stream",
     "text": [
      "9\n"
     ]
    }
   ],
   "source": [
    "def sum_of2(a, b):\n",
    "    return a+b\n",
    "print(sum_of2(4,5))"
   ]
  },
  {
   "cell_type": "markdown",
   "metadata": {},
   "source": [
    "#### Required Argument"
   ]
  },
  {
   "cell_type": "code",
   "execution_count": 21,
   "metadata": {},
   "outputs": [
    {
     "name": "stdout",
     "output_type": "stream",
     "text": [
      "Entered name is Hari.\n"
     ]
    }
   ],
   "source": [
    "# one required argument\n",
    "def person_name(name):\n",
    "    print(f\"Entered name is {name}.\")\n",
    "person_name(\"Hari\")"
   ]
  },
  {
   "cell_type": "code",
   "execution_count": 25,
   "metadata": {},
   "outputs": [
    {
     "name": "stdout",
     "output_type": "stream",
     "text": [
      "The sum of entered number is 9.\n"
     ]
    }
   ],
   "source": [
    "# two required positional argument\n",
    "def add_two(number1, number2):\n",
    "    sum = number1 + number2\n",
    "    print(f\"The sum of entered number is {sum}.\")\n",
    "add_two(4,5)"
   ]
  },
  {
   "cell_type": "markdown",
   "metadata": {},
   "source": [
    "#### Variable length positional argument"
   ]
  },
  {
   "cell_type": "code",
   "execution_count": 27,
   "metadata": {},
   "outputs": [
    {
     "name": "stdout",
     "output_type": "stream",
     "text": [
      "The 22 years old Sabuj is studying at NCIT    \n"
     ]
    }
   ],
   "source": [
    "def sab(name, age=21, *args):\n",
    "    \"\"\"\n",
    "    params:\n",
    "    name: positional argument\n",
    "    age: Default argument\n",
    "    args: variable length positional argument\n",
    "\n",
    "note : positional argument supports keyword argument\n",
    "    \"\"\"\n",
    "        #print(\"My name is {} and age is {}\".format(name, age))\n",
    "    print(\"The {} years old {} is studying at {}\".format(age,name,*args))\n",
    "    # print(f\"The {age} years old person name is {name}.\")\n",
    "sab(\"Sabuj\", 22, \"NCIT    \")\n"
   ]
  },
  {
   "cell_type": "code",
   "execution_count": 30,
   "metadata": {},
   "outputs": [
    {
     "name": "stdout",
     "output_type": "stream",
     "text": [
      "The 22 years old Sabuj person is studying at NCIT.\n"
     ]
    }
   ],
   "source": [
    "def func_main(name, age, *args):\n",
    "    # print(f\"The %d years old %s person is studying at %s\"%(age,name,args))\n",
    "    print(\"The {} years old {} person is studying at {}.\".format(age,name,*args))\n",
    "\n",
    "func_main(\"Sabuj\",22,\"NCIT\",\"Kathmadnu\")\n"
   ]
  },
  {
   "cell_type": "code",
   "execution_count": 31,
   "metadata": {},
   "outputs": [
    {
     "name": "stdout",
     "output_type": "stream",
     "text": [
      "Fetched Value is: \n",
      "10\n",
      "Another Fetched value is: \n",
      "20\n",
      "Another Fetched value is: \n",
      "30\n"
     ]
    }
   ],
   "source": [
    "def printinfo(val, *args):\n",
    "    print(\"Fetched Value is: \")\n",
    "    print(val)\n",
    "\n",
    "    for var in args:\n",
    "        print(\"Another Fetched value is: \")\n",
    "        print(var)\n",
    "\n",
    "if __name__ == \"__main__\":\n",
    "    printinfo(10, 20, 30)"
   ]
  },
  {
   "cell_type": "code",
   "execution_count": null,
   "metadata": {},
   "outputs": [],
   "source": []
  }
 ],
 "metadata": {
  "kernelspec": {
   "display_name": "Python 3",
   "language": "python",
   "name": "python3"
  },
  "language_info": {
   "codemirror_mode": {
    "name": "ipython",
    "version": 3
   },
   "file_extension": ".py",
   "mimetype": "text/x-python",
   "name": "python",
   "nbconvert_exporter": "python",
   "pygments_lexer": "ipython3",
   "version": "3.8.5"
  }
 },
 "nbformat": 4,
 "nbformat_minor": 4
}
