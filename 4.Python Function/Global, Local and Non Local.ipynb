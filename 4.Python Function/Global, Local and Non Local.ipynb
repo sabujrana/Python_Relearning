{
 "cells": [
  {
   "cell_type": "markdown",
   "metadata": {},
   "source": [
    "## Global Variables"
   ]
  },
  {
   "cell_type": "code",
   "execution_count": 11,
   "metadata": {},
   "outputs": [
    {
     "name": "stdout",
     "output_type": "stream",
     "text": [
      "The value is 13.\n"
     ]
    }
   ],
   "source": [
    "\"\"\"\n",
    "-> variable that declare outside of function or in global scope\n",
    "-> global variable can accessed from outside or inside of the function\n",
    "\n",
    "\"\"\"\n",
    "x = 13\n",
    "def global_example():\n",
    "    print(f\"The value is {x}.\")\n",
    "global_example()"
   ]
  },
  {
   "cell_type": "code",
   "execution_count": 9,
   "metadata": {},
   "outputs": [],
   "source": [
    "### If we change value inside funciton\n",
    "\n",
    "# x = 12\n",
    "# def global_example1():\n",
    "#     x += 5\n",
    "#     print(f\"The value is {x}.\")\n",
    "# global_example1()\n",
    "\n",
    "## referenced before assignment error raised\n",
    "## treats x as local variable and not defined inside function"
   ]
  },
  {
   "cell_type": "markdown",
   "metadata": {},
   "source": [
    "#### Local variable"
   ]
  },
  {
   "cell_type": "code",
   "execution_count": 14,
   "metadata": {},
   "outputs": [
    {
     "name": "stdout",
     "output_type": "stream",
     "text": [
      "The value is 2.\n"
     ]
    }
   ],
   "source": [
    "def local_example():\n",
    "    value = 2\n",
    "    print(f\"The value is {value}.\")\n",
    "local_example()\n",
    "#print(f\"The value is {value}\") # value not defined erro raised\n",
    "\n",
    "## error occured because we acces local variable in global scope, local variable only works inside function\n",
    "\n",
    "\n",
    "### normally we declare a variable inside function to create local variable"
   ]
  },
  {
   "cell_type": "markdown",
   "metadata": {},
   "source": [
    "### Global and Local Variable"
   ]
  },
  {
   "cell_type": "code",
   "execution_count": 15,
   "metadata": {},
   "outputs": [
    {
     "name": "stdout",
     "output_type": "stream",
     "text": [
      "26\n",
      "15\n"
     ]
    }
   ],
   "source": [
    "x = 24\n",
    "\n",
    "def example():\n",
    "    \n",
    "    global x\n",
    "    y = 15\n",
    "    x += 2\n",
    "    print(x)\n",
    "    print(y)\n",
    "example()"
   ]
  },
  {
   "cell_type": "code",
   "execution_count": 1,
   "metadata": {},
   "outputs": [
    {
     "name": "stdout",
     "output_type": "stream",
     "text": [
      "The value of number is: 20.\n",
      "The value of number is: 12.\n"
     ]
    }
   ],
   "source": [
    "# Global varaible and local variable with same name:\n",
    "number = 12\n",
    "\n",
    "def example():\n",
    "    number = 20\n",
    "    print(f\"The value of number is: {number}.\")\n",
    "example()\n",
    "print(f\"The value of number is: {number}.\")\n",
    "\n",
    "# x = 20 is local scope variable value and 12 is global scope variable balue\n"
   ]
  },
  {
   "cell_type": "markdown",
   "metadata": {},
   "source": [
    "### Nonlocal Variables"
   ]
  },
  {
   "cell_type": "code",
   "execution_count": 6,
   "metadata": {},
   "outputs": [
    {
     "name": "stdout",
     "output_type": "stream",
     "text": [
      "The value of count is: 5.\n",
      "The value of count outside inner function is 5.\n"
     ]
    }
   ],
   "source": [
    "\"\"\"\n",
    "-> used in nested function whose scope isn't defined.\n",
    "-> means the varibale can be neither in local nor global scope.\n",
    "-> used \"nonlocal\" keyword to create nonlocal variable\n",
    "\n",
    "\"\"\"\n",
    "def outer_function():\n",
    "    count = 2\n",
    "    \n",
    "    def inner_function():\n",
    "        nonlocal count\n",
    "        count = 5\n",
    "        print(f\"The value of count is: {count}.\")\n",
    "        \n",
    "    inner_function()\n",
    "    print(f\"The value of count outside inner function is {count}.\")\n",
    "outer_function()\n",
    "\n",
    "## If we change the value of nonlocal variable the changes appear in the local variable"
   ]
  }
 ],
 "metadata": {
  "kernelspec": {
   "display_name": "Python 3",
   "language": "python",
   "name": "python3"
  },
  "language_info": {
   "codemirror_mode": {
    "name": "ipython",
    "version": 3
   },
   "file_extension": ".py",
   "mimetype": "text/x-python",
   "name": "python",
   "nbconvert_exporter": "python",
   "pygments_lexer": "ipython3",
   "version": "3.8.5"
  }
 },
 "nbformat": 4,
 "nbformat_minor": 4
}
