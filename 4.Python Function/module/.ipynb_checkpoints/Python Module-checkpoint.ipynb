{
 "cells": [
  {
   "cell_type": "markdown",
   "metadata": {},
   "source": [
    "### Module in Python"
   ]
  },
  {
   "cell_type": "code",
   "execution_count": 2,
   "metadata": {},
   "outputs": [
    {
     "data": {
      "text/plain": [
       "'\\n-> refer to a file containing python statements and definition which can use in our program\\n-> used to break down large program into small manageable and organized files\\n-> provide reusability of code\\n'"
      ]
     },
     "execution_count": 2,
     "metadata": {},
     "output_type": "execute_result"
    }
   ],
   "source": [
    "\"\"\"\n",
    "-> refer to a file containing python statements and definition which can use in our program\n",
    "-> used to break down large program into small manageable and organized files\n",
    "-> provide reusability of code\n",
    "\"\"\""
   ]
  },
  {
   "cell_type": "code",
   "execution_count": 1,
   "metadata": {},
   "outputs": [],
   "source": [
    "## importing moduel example done in previous\n"
   ]
  },
  {
   "cell_type": "code",
   "execution_count": 2,
   "metadata": {},
   "outputs": [
    {
     "name": "stdout",
     "output_type": "stream",
     "text": [
      "The value of pi is 3.141592653589793\n"
     ]
    }
   ],
   "source": [
    "## python import statement\n",
    "import math\n",
    "print(f\"The value of pi is {math.pi}\")"
   ]
  },
  {
   "cell_type": "code",
   "execution_count": 3,
   "metadata": {},
   "outputs": [
    {
     "name": "stdout",
     "output_type": "stream",
     "text": [
      "The value of e is 2.718281828459045\n"
     ]
    }
   ],
   "source": [
    "## import with renaming\n",
    "\n",
    "import math as m\n",
    "print(f\"The value of e is {m.e}\")"
   ]
  },
  {
   "cell_type": "code",
   "execution_count": 5,
   "metadata": {},
   "outputs": [
    {
     "name": "stdout",
     "output_type": "stream",
     "text": [
      "The value of pi is 3.141592653589793\n",
      "The value of pi is 3.141592653589793 and e is 2.718281828459045\n"
     ]
    }
   ],
   "source": [
    "## Python from....import statement\n",
    "from math import pi\n",
    "print(f\"The value of pi is {pi}\")\n",
    "\n",
    "\n",
    "### importing multiple attribute\n",
    "from math import pi,e \n",
    "\n",
    "print(f\"The value of pi is {pi} and e is {e}\")"
   ]
  },
  {
   "cell_type": "code",
   "execution_count": 9,
   "metadata": {},
   "outputs": [
    {
     "name": "stdout",
     "output_type": "stream",
     "text": [
      "The value of e is 2.718281828459045\n"
     ]
    }
   ],
   "source": [
    "## importing all names(definition) from module\n",
    "from math import *\n",
    "print(f\"The value of e is {e}\")\n",
    "## importing everythin using * is not good practice\n"
   ]
  },
  {
   "cell_type": "code",
   "execution_count": 16,
   "metadata": {},
   "outputs": [
    {
     "data": {
      "text/plain": [
       "['/home/sabuz/Documents/Techdocs/Aago/Final Revision of Python/Python Function/module',\n",
       " '/usr/lib/python38.zip',\n",
       " '/usr/lib/python3.8',\n",
       " '/usr/lib/python3.8/lib-dynload',\n",
       " '',\n",
       " '/home/sabuz/.local/lib/python3.8/site-packages',\n",
       " '/usr/local/lib/python3.8/dist-packages',\n",
       " '/usr/lib/python3/dist-packages',\n",
       " '/usr/lib/python3/dist-packages/IPython/extensions',\n",
       " '/home/sabuz/.ipython']"
      ]
     },
     "execution_count": 16,
     "metadata": {},
     "output_type": "execute_result"
    }
   ],
   "source": [
    "## python module search path\n",
    "\"\"\"\n",
    "-> While importing module, interpreter search first at built-in module and then in list of directories in sys.path\n",
    "-> search will be in this order:\n",
    "        (1) current directory\n",
    "        (2) PYTHONPATH(environment variable with list of directories)\n",
    "        (3) installation-dependent default directory\n",
    "\"\"\"\n",
    "import sys\n",
    "sys.path"
   ]
  },
  {
   "cell_type": "code",
   "execution_count": 17,
   "metadata": {},
   "outputs": [
    {
     "data": {
      "text/plain": [
       "'\\n-> imports a module only once during a session, which makes things more efficient\\n'"
      ]
     },
     "execution_count": 17,
     "metadata": {},
     "output_type": "execute_result"
    }
   ],
   "source": [
    "### Reloading a module\n",
    "\"\"\"\n",
    "-> imports a module only once during a session, which makes things more efficient\n",
    "\"\"\""
   ]
  },
  {
   "cell_type": "code",
   "execution_count": 19,
   "metadata": {},
   "outputs": [
    {
     "data": {
      "text/plain": [
       "'\\ndir():\\n-> used to find out name that are defined inside module\\neg: dir(example)\\n\\n__name__ attribute contains name of mudule\\neg: example.__name__\\n'"
      ]
     },
     "execution_count": 19,
     "metadata": {},
     "output_type": "execute_result"
    }
   ],
   "source": [
    "\"\"\"\n",
    "dir():\n",
    "-> used to find out name that are defined inside module\n",
    "eg: dir(example)\n",
    "\n",
    "__name__ attribute contains name of mudule\n",
    "eg: example.__name__\n",
    "\"\"\""
   ]
  },
  {
   "cell_type": "code",
   "execution_count": null,
   "metadata": {},
   "outputs": [],
   "source": []
  }
 ],
 "metadata": {
  "kernelspec": {
   "display_name": "Python 3",
   "language": "python",
   "name": "python3"
  },
  "language_info": {
   "codemirror_mode": {
    "name": "ipython",
    "version": 3
   },
   "file_extension": ".py",
   "mimetype": "text/x-python",
   "name": "python",
   "nbconvert_exporter": "python",
   "pygments_lexer": "ipython3",
   "version": "3.8.5"
  }
 },
 "nbformat": 4,
 "nbformat_minor": 4
}
