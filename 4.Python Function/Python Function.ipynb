{
 "cells": [
  {
   "cell_type": "markdown",
   "metadata": {},
   "source": [
    "## Function"
   ]
  },
  {
   "cell_type": "code",
   "execution_count": 5,
   "metadata": {},
   "outputs": [
    {
     "name": "stdout",
     "output_type": "stream",
     "text": [
      "Hello, Sabuj.\n"
     ]
    }
   ],
   "source": [
    "\"\"\"\n",
    "-> group of related statement that performs specific task\n",
    "-> bresks program into smaller and modular chunks\n",
    "-> make program organized and manageable\n",
    "-> avoids repetition and makes code reusable\n",
    "\n",
    "Syntax: \n",
    "def function_name(parameters):\n",
    "    '''docstring'''\n",
    "    statement(s)\n",
    "    \n",
    "def-> marks start of the function header\n",
    "function_name-> used to uniquely identify function\n",
    "parameters(arguments)-> through which we pass values to function, are optional\n",
    "colon(:)-> mark end of function header\n",
    "docstring-> string to describe what function does, optional\n",
    "statement(s)-> function body\n",
    "return: statement to return value from function, optional\n",
    "    \n",
    "\"\"\"\n",
    "def greet_function(name):\n",
    "    \"\"\"\n",
    "    This Function will greet the person entered.\n",
    "    \"\"\"\n",
    "    print(f\"Hello, {name}.\")\n",
    "#function call\n",
    "\"\"\"\n",
    "proper function name with appropriate parameter.\n",
    "\"\"\"\n",
    "greet_function(\"Sabuj\")\n",
    "\n"
   ]
  },
  {
   "cell_type": "markdown",
   "metadata": {},
   "source": [
    "#### Docstrins"
   ]
  },
  {
   "cell_type": "code",
   "execution_count": 7,
   "metadata": {},
   "outputs": [
    {
     "name": "stdout",
     "output_type": "stream",
     "text": [
      "\n",
      "    This Function will greet the person entered.\n",
      "    \n"
     ]
    }
   ],
   "source": [
    "\"\"\"\n",
    "-> first string after the function header,i.e short form of documentation string\n",
    "-> briefly explains about what function does\n",
    "-> optional but good practice to do documentation\n",
    "-> we use triple quotes so that docstring can extend upto multiple lines.\n",
    "-> available to us as __doc__ attribute of function\n",
    "\"\"\"\n",
    "print(greet_function.__doc__)\n"
   ]
  },
  {
   "cell_type": "markdown",
   "metadata": {},
   "source": [
    "### return Statement "
   ]
  },
  {
   "cell_type": "code",
   "execution_count": 8,
   "metadata": {},
   "outputs": [
    {
     "name": "stdout",
     "output_type": "stream",
     "text": [
      "Hello, Hello.\n",
      "None\n"
     ]
    }
   ],
   "source": [
    "\"\"\"\n",
    "-> used to exit a function and go back to place from where it was called\n",
    "Syntax:\n",
    "return expression\n",
    "\n",
    "-> can contain an expression that gets evaluated and value is returned\n",
    "-> if there is no expressioin in statement, or return statement isn't present inside function, will return \"None\"\n",
    "\n",
    "\"\"\"\n",
    "print(greet_function(\"Hello\"))"
   ]
  },
  {
   "cell_type": "code",
   "execution_count": 9,
   "metadata": {},
   "outputs": [
    {
     "name": "stdout",
     "output_type": "stream",
     "text": [
      "2\n",
      "5\n"
     ]
    }
   ],
   "source": [
    "# return statement example\n",
    "def absolute_value(number):\n",
    "    \"\"\"\n",
    "    evaluate the absolute value of number\n",
    "    \"\"\"\n",
    "    if number >= 0:\n",
    "        return number\n",
    "    else:\n",
    "        return -number\n",
    "    \n",
    "print(absolute_value(2))\n",
    "print(absolute_value(-5))\n",
    "    "
   ]
  },
  {
   "cell_type": "markdown",
   "metadata": {},
   "source": [
    "### Scope and Lifetime of variable"
   ]
  },
  {
   "cell_type": "code",
   "execution_count": 13,
   "metadata": {},
   "outputs": [
    {
     "name": "stdout",
     "output_type": "stream",
     "text": [
      "The value is x.\n",
      "The value is y\n"
     ]
    }
   ],
   "source": [
    "\"\"\"\n",
    "Scope of variable:\n",
    "-> protion of program where variable is recognized.\n",
    "-> params and variable defined inside function not visible from outside, so they have local scope\n",
    "\n",
    "Liferime of Variable:\n",
    "-> period throughout which the variable exits in the memory\n",
    "-> lifetime of variable inside a function is as long as the function executes\n",
    "-> variables destroyed once they are returned from function,so function does not remember value from previous call\n",
    "\n",
    "\"\"\"\n",
    "\n",
    "def my_function():\n",
    "    val = \"x\"\n",
    "    print(f\"The value is {val}.\")\n",
    "val = \"y\"\n",
    "my_function()\n",
    "print(f\"The value is {val}\")"
   ]
  },
  {
   "cell_type": "markdown",
   "metadata": {},
   "source": [
    "### Types of function"
   ]
  },
  {
   "cell_type": "code",
   "execution_count": 14,
   "metadata": {},
   "outputs": [
    {
     "data": {
      "text/plain": [
       "'\\n(1) Built-in Function: Function that are built into python\\n(2) User-defined Function: Function defined by the users themselves\\n\\n'"
      ]
     },
     "execution_count": 14,
     "metadata": {},
     "output_type": "execute_result"
    }
   ],
   "source": [
    "\"\"\"\n",
    "(1) Built-in Function: Function that are built into python\n",
    "(2) User-defined Function: Function defined by the users themselves\n",
    "\n",
    "\"\"\""
   ]
  }
 ],
 "metadata": {
  "kernelspec": {
   "display_name": "Python 3",
   "language": "python",
   "name": "python3"
  },
  "language_info": {
   "codemirror_mode": {
    "name": "ipython",
    "version": 3
   },
   "file_extension": ".py",
   "mimetype": "text/x-python",
   "name": "python",
   "nbconvert_exporter": "python",
   "pygments_lexer": "ipython3",
   "version": "3.8.5"
  }
 },
 "nbformat": 4,
 "nbformat_minor": 4
}
