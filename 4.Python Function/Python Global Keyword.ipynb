{
 "cells": [
  {
   "cell_type": "markdown",
   "metadata": {},
   "source": [
    "### Global Keyword"
   ]
  },
  {
   "cell_type": "code",
   "execution_count": 2,
   "metadata": {},
   "outputs": [
    {
     "data": {
      "text/plain": [
       "'\\n-> \"global\" keyword allows to modify variable outside the current scope\\n-> used to create global variable and make changes to variable in local context\\n'"
      ]
     },
     "execution_count": 2,
     "metadata": {},
     "output_type": "execute_result"
    }
   ],
   "source": [
    "\"\"\"\n",
    "-> \"global\" keyword allows to modify variable outside the current scope\n",
    "-> used to create global variable and make changes to variable in local context\n",
    "\"\"\""
   ]
  },
  {
   "cell_type": "code",
   "execution_count": 3,
   "metadata": {},
   "outputs": [
    {
     "data": {
      "text/plain": [
       "'\\n-> \"global\" keyword allows to modify variable outside the current scope\\n-> used to create global variable and make changes to variable in local context\\n'"
      ]
     },
     "execution_count": 3,
     "metadata": {},
     "output_type": "execute_result"
    }
   ],
   "source": [
    "\"\"\"\n",
    "-> \"global\" keyword allows to modify variable outside the current scope\n",
    "-> used to create global variable and make changes to variable in local context\n",
    "\"\"\""
   ]
  },
  {
   "cell_type": "markdown",
   "metadata": {},
   "source": [
    "#### Rules of Global Keyword:"
   ]
  },
  {
   "cell_type": "code",
   "execution_count": 4,
   "metadata": {},
   "outputs": [
    {
     "data": {
      "text/plain": [
       "'\\n(1) variable created inside function is local by default\\n(2) variable created outside function is global by default, don\\'t have to use \"global keyword\"\\n(3) used \"global\" keyword to read and write global variable inside and outside the function.\\n(4) Use of \"global\" keyword outside function has no effect\\n'"
      ]
     },
     "execution_count": 4,
     "metadata": {},
     "output_type": "execute_result"
    }
   ],
   "source": [
    "\"\"\"\n",
    "(1) variable created inside function is local by default\n",
    "(2) variable created outside function is global by default, don't have to use \"global keyword\"\n",
    "(3) used \"global\" keyword to read and write global variable inside and outside the function.\n",
    "(4) Use of \"global\" keyword outside function has no effect\n",
    "\"\"\""
   ]
  },
  {
   "cell_type": "markdown",
   "metadata": {},
   "source": [
    "### Use of global keyword"
   ]
  },
  {
   "cell_type": "code",
   "execution_count": 5,
   "metadata": {},
   "outputs": [
    {
     "name": "stdout",
     "output_type": "stream",
     "text": [
      "The value is 5.\n"
     ]
    }
   ],
   "source": [
    "# Use of global variable from inside function\n",
    "\n",
    "count = 5\n",
    "\n",
    "def count_global():\n",
    "    print(f\"The value is {count}.\")\n",
    "    \n",
    "count_global()"
   ]
  },
  {
   "cell_type": "code",
   "execution_count": 7,
   "metadata": {},
   "outputs": [],
   "source": [
    "# Modifying global variable inside of function\n",
    "\n",
    "# def count_update_exampla():\n",
    "#     count += 4\n",
    "#     print(f\"The value is {count}.\")\n",
    "# count_update_exampla()\n",
    "\n",
    "#In above scenario error will be raised because we can only access global variable but can't modify inside function"
   ]
  },
  {
   "cell_type": "code",
   "execution_count": 10,
   "metadata": {},
   "outputs": [
    {
     "name": "stdout",
     "output_type": "stream",
     "text": [
      "Inside function 1600.\n",
      "Outside function 1600.\n"
     ]
    }
   ],
   "source": [
    "# Changing global variable inside function using global keyword\n",
    "number = 40\n",
    "\n",
    "def exponent():\n",
    "    global number\n",
    "    number **= 2\n",
    "    print(f\"Inside function {number}.\")\n",
    "exponent()\n",
    "print(f\"Outside function {number}.\")\n",
    "\n",
    "# change also occured on global variable outside functilo"
   ]
  },
  {
   "cell_type": "markdown",
   "metadata": {},
   "source": [
    "### Global in nested Function"
   ]
  },
  {
   "cell_type": "code",
   "execution_count": 12,
   "metadata": {},
   "outputs": [
    {
     "name": "stdout",
     "output_type": "stream",
     "text": [
      "Before calling innermost 20.\n",
      "Calling innnermost now.\n",
      "After Calling innermost 20.\n",
      "In main 25.\n"
     ]
    }
   ],
   "source": [
    "def outermost():\n",
    "    count = 20\n",
    "    \n",
    "    def innermost():\n",
    "        global count\n",
    "        count = 25\n",
    "    print(f\"Before calling innermost {count}.\")\n",
    "    print(\"Calling innnermost now.\")\n",
    "    innermost()\n",
    "    print(f\"After Calling innermost {count}.\")\n",
    "\n",
    "outermost()\n",
    "print(f\"In main {count}.\")\n",
    "\n",
    "# Inside outermost() count has no effect of global keyword\n",
    "# Before and After calling innermost() count takes local variable i.e count = 20\n",
    "# Outside of outermost() value will be same as defined in innermost() i.e x = 25\n",
    "# This is because we use global keyword to create global variable inside innermost(), local scope\n",
    "# Any changes inside of innermost(), changes will appear outside local scope. i.e outermost()"
   ]
  },
  {
   "cell_type": "code",
   "execution_count": null,
   "metadata": {},
   "outputs": [],
   "source": []
  }
 ],
 "metadata": {
  "kernelspec": {
   "display_name": "Python 3",
   "language": "python",
   "name": "python3"
  },
  "language_info": {
   "codemirror_mode": {
    "name": "ipython",
    "version": 3
   },
   "file_extension": ".py",
   "mimetype": "text/x-python",
   "name": "python",
   "nbconvert_exporter": "python",
   "pygments_lexer": "ipython3",
   "version": "3.8.5"
  }
 },
 "nbformat": 4,
 "nbformat_minor": 4
}
