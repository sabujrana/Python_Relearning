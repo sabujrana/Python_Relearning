{
 "cells": [
  {
   "cell_type": "markdown",
   "metadata": {},
   "source": [
    "## Python pass statement"
   ]
  },
  {
   "cell_type": "code",
   "execution_count": 4,
   "metadata": {},
   "outputs": [],
   "source": [
    "\"\"\"\n",
    "-> pass is null statement in python programming language\n",
    "-> different in comment and pass statement is that comment will entirely igonred by interpreter but not for pass\n",
    "-> When pass stetement is execute but nothing will happen i.e result in no Operation(NOP)\n",
    "Syntax: \n",
    "pass\n",
    "\n",
    "-> generally used as placeholder\n",
    "-> loop and function that will be implemented in future can't have empty body which will raise error.\n",
    "-> to avoid these error we will put pass inside the body of such loop and function.\n",
    "\n",
    "\"\"\"\n",
    "letters = [\"a\", \"b\", \"c\", \"d\"]\n",
    "for i in letters:\n",
    "        pass\n",
    "# pass is just place holder for functionality to be added later\n",
    "\n",
    "\n",
    "# can be used pass in class as well as function\n",
    "\n",
    "def function(args):\n",
    "    pass\n",
    "\n",
    "class Example:\n",
    "    pass\n"
   ]
  }
 ],
 "metadata": {
  "kernelspec": {
   "display_name": "Python 3",
   "language": "python",
   "name": "python3"
  },
  "language_info": {
   "codemirror_mode": {
    "name": "ipython",
    "version": 3
   },
   "file_extension": ".py",
   "mimetype": "text/x-python",
   "name": "python",
   "nbconvert_exporter": "python",
   "pygments_lexer": "ipython3",
   "version": "3.8.5"
  }
 },
 "nbformat": 4,
 "nbformat_minor": 4
}
