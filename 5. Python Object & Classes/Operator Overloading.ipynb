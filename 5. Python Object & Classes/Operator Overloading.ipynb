{
 "cells": [
  {
   "cell_type": "markdown",
   "metadata": {},
   "source": [
    "## Operator overloading"
   ]
  },
  {
   "cell_type": "code",
   "execution_count": 2,
   "metadata": {},
   "outputs": [
    {
     "ename": "TypeError",
     "evalue": "unsupported operand type(s) for +: 'Point' and 'Point'",
     "output_type": "error",
     "traceback": [
      "\u001b[0;31m---------------------------------------------------------------------------\u001b[0m",
      "\u001b[0;31mTypeError\u001b[0m                                 Traceback (most recent call last)",
      "\u001b[0;32m<ipython-input-2-d59d29a1d363>\u001b[0m in \u001b[0;36m<module>\u001b[0;34m\u001b[0m\n\u001b[1;32m     14\u001b[0m \u001b[0mp1\u001b[0m \u001b[0;34m=\u001b[0m \u001b[0mPoint\u001b[0m\u001b[0;34m(\u001b[0m\u001b[0;36m2\u001b[0m\u001b[0;34m,\u001b[0m\u001b[0;36m3\u001b[0m\u001b[0;34m)\u001b[0m\u001b[0;34m\u001b[0m\u001b[0;34m\u001b[0m\u001b[0m\n\u001b[1;32m     15\u001b[0m \u001b[0mp2\u001b[0m \u001b[0;34m=\u001b[0m \u001b[0mPoint\u001b[0m\u001b[0;34m(\u001b[0m\u001b[0;36m1\u001b[0m\u001b[0;34m,\u001b[0m\u001b[0;36m2\u001b[0m\u001b[0;34m)\u001b[0m\u001b[0;34m\u001b[0m\u001b[0;34m\u001b[0m\u001b[0m\n\u001b[0;32m---> 16\u001b[0;31m \u001b[0mprint\u001b[0m\u001b[0;34m(\u001b[0m\u001b[0mp1\u001b[0m\u001b[0;34m+\u001b[0m\u001b[0mp2\u001b[0m\u001b[0;34m)\u001b[0m\u001b[0;34m\u001b[0m\u001b[0;34m\u001b[0m\u001b[0m\n\u001b[0m\u001b[1;32m     17\u001b[0m \u001b[0;34m\u001b[0m\u001b[0m\n\u001b[1;32m     18\u001b[0m \"\"\"\n",
      "\u001b[0;31mTypeError\u001b[0m: unsupported operand type(s) for +: 'Point' and 'Point'"
     ]
    }
   ],
   "source": [
    "\"\"\"\n",
    "-> same operator behaves differently with different types\n",
    "-> + will add two numbers, merge two list and concatenate two string\n",
    "-> operator have different meaning according to context is called operator overloading\n",
    "\n",
    "\n",
    "\"\"\"\n",
    "\n",
    "class Point:\n",
    "    def __init__(self, x=0, y=0):\n",
    "        self.x = x\n",
    "        self.y = y\n",
    "        \n",
    "p1 = Point(2,3)\n",
    "p2 = Point(1,2)\n",
    "print(p1+p2)\n",
    "\n",
    "\"\"\"\n",
    "-> TypeError was raised since it didn't know how to add two Point object\n",
    "-> we can achieve thi through operator overloading\n",
    "\"\"\""
   ]
  },
  {
   "cell_type": "markdown",
   "metadata": {},
   "source": [
    "### Python Special Function "
   ]
  },
  {
   "cell_type": "code",
   "execution_count": 11,
   "metadata": {},
   "outputs": [
    {
     "name": "stdout",
     "output_type": "stream",
     "text": [
      "2,3\n",
      "2,3\n",
      "2,3\n"
     ]
    }
   ],
   "source": [
    "\"\"\"\n",
    "-> class function which starts with double underscore __ are called special function\n",
    "-> not typical function that we define for class __init__() is example\n",
    "\n",
    "\"\"\"\n",
    "\n",
    "# p1 = Point(4,5)\n",
    "# print(p1)\n",
    "\n",
    "\n",
    "class Point:\n",
    "    def __init__(self, x=0, y=0):\n",
    "        self.x = x\n",
    "        self.y = y\n",
    "        \n",
    "    def __str__(self):\n",
    "        return(f\"{self.x},{self.y}\")\n",
    "p1 = Point(2,3)\n",
    "print(p1)\n",
    "\n",
    "## same with built in function str() or format()\n",
    "## internally calls p1.__str__() method\n",
    "print(str(p1))\n",
    "print(format(p1))"
   ]
  },
  {
   "cell_type": "markdown",
   "metadata": {},
   "source": [
    "## Overloading + Operator\n"
   ]
  },
  {
   "cell_type": "code",
   "execution_count": 28,
   "metadata": {},
   "outputs": [
    {
     "name": "stdout",
     "output_type": "stream",
     "text": [
      "3, 6\n",
      "1, 4\n"
     ]
    }
   ],
   "source": [
    "\"\"\"\n",
    "-> we need to immplement __add__() function class\n",
    "-> great power comes great responsibility\n",
    "-> we can do whatever we want inside this function\n",
    "-> it more sensible to return Point object of coordinate sum\n",
    "\"\"\"\n",
    "class Point:\n",
    "    def __init__(self, x=0, y=0):\n",
    "        self.x = x\n",
    "        self.y = y\n",
    "        \n",
    "    def __str__(self):\n",
    "        return(f\"{self.x}, {self.y}\")\n",
    "    \n",
    "    def __add__(self, other):\n",
    "        x = self.x + other.x    \n",
    "        y = self.y + other.y\n",
    "        return Point(x,y)\n",
    "    \n",
    "    def __sub__(self, other):\n",
    "        x = self.x - other.x\n",
    "        y = self.y - other.y\n",
    "        return Point(x, y)\n",
    "    \n",
    "p1 = Point(1, 1)\n",
    "p2 = Point(2, 5)\n",
    "print(p1+p2)\n",
    "print(p2 - p1)\n"
   ]
  },
  {
   "cell_type": "markdown",
   "metadata": {},
   "source": [
    "## Overloading comparision operator"
   ]
  },
  {
   "cell_type": "code",
   "execution_count": 31,
   "metadata": {},
   "outputs": [
    {
     "name": "stdout",
     "output_type": "stream",
     "text": [
      "True\n",
      "False\n",
      "False\n"
     ]
    }
   ],
   "source": [
    "\"\"\"\n",
    "-> not only arithematic operator we can also overload comparision operator\n",
    "-> overloading < using Point class\n",
    "\"\"\"\n",
    "#overlaoding < operator\n",
    "class Point:\n",
    "    def __init__(self, x=0, y=0):\n",
    "        self.x = x\n",
    "        self.y = y\n",
    "        \n",
    "    def __str__(self):\n",
    "        return(f\"{self.x},{self.y}\")\n",
    "    \n",
    "    def __lt__(self, other):\n",
    "        self_mag = (self.x**2) + (self.y**2)\n",
    "        other_mag = (other.x**2) + (other.y**2)\n",
    "        return self_mag < other_mag\n",
    "    \n",
    "p1 = Point(1,1)\n",
    "p2 = Point(-2,-3)\n",
    "p3 = Point(1,-1)\n",
    "\n",
    "#use less than\n",
    "print(p1<p2)\n",
    "print(p2<p3)\n",
    "print(p1<p3)"
   ]
  },
  {
   "cell_type": "code",
   "execution_count": null,
   "metadata": {},
   "outputs": [],
   "source": []
  }
 ],
 "metadata": {
  "kernelspec": {
   "display_name": "Python 3",
   "language": "python",
   "name": "python3"
  },
  "language_info": {
   "codemirror_mode": {
    "name": "ipython",
    "version": 3
   },
   "file_extension": ".py",
   "mimetype": "text/x-python",
   "name": "python",
   "nbconvert_exporter": "python",
   "pygments_lexer": "ipython3",
   "version": "3.8.10"
  }
 },
 "nbformat": 4,
 "nbformat_minor": 4
}
