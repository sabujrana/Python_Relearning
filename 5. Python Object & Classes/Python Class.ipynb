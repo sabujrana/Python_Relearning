{
 "cells": [
  {
   "cell_type": "markdown",
   "metadata": {},
   "source": [
    "## Pyhton Object and class:"
   ]
  },
  {
   "cell_type": "code",
   "execution_count": 1,
   "metadata": {},
   "outputs": [
    {
     "data": {
      "text/plain": [
       "'\\n-> main emphasis on function, OOP stresses on objects\\n-> object is collection of data(variables) and methods(function) act on those data\\n-> class is blueprint of object\\n-> '"
      ]
     },
     "execution_count": 1,
     "metadata": {},
     "output_type": "execute_result"
    }
   ],
   "source": [
    "\"\"\"\n",
    "-> main emphasis on function, OOP stresses on objects\n",
    "-> object is collection of data(variables) and methods(function) act on those data\n",
    "-> class is blueprint of object\n",
    "-> \"\"\""
   ]
  },
  {
   "cell_type": "markdown",
   "metadata": {},
   "source": [
    "### Defining class in python"
   ]
  },
  {
   "cell_type": "code",
   "execution_count": 3,
   "metadata": {},
   "outputs": [
    {
     "name": "stdout",
     "output_type": "stream",
     "text": [
      "23\n",
      "<function Person.greet at 0x7fec6c621a60>\n",
      " This is person class\n"
     ]
    }
   ],
   "source": [
    "\"\"\"\n",
    "-> begins with \"class\" keyword\n",
    "-> first string inside class is docstring i.e description of class\n",
    "-> class will create local namespace where all it's attributes are defined; attributes may be data or function\n",
    "-> Have special keyword like __doc__ which gives docstring of class\n",
    "-> as soon as class is defined object will create with same name\n",
    "-> this object will allows us to acces different attributes as well as to instantiate new object of that class.\n",
    "\"\"\"\n",
    "class Hello:\n",
    "    \"\"\" Docstring section\"\"\"\n",
    "    pass\n",
    "\n",
    "class Person:\n",
    "    \"\"\" This is person class\"\"\"\n",
    "    \n",
    "    age = 23\n",
    "    \n",
    "    def greet(self):\n",
    "        print(\"hello world\")\n",
    "\n",
    "print(Person.age)\n",
    "print(Person.greet)\n",
    "print(Person.__doc__)"
   ]
  },
  {
   "cell_type": "markdown",
   "metadata": {},
   "source": [
    "### Creating Object"
   ]
  },
  {
   "cell_type": "code",
   "execution_count": 4,
   "metadata": {},
   "outputs": [
    {
     "name": "stdout",
     "output_type": "stream",
     "text": [
      "<function Person.greet at 0x7fec6c621a60>\n",
      "<bound method Person.greet of <__main__.Person object at 0x7fec6c68bbb0>>\n",
      "hello world\n"
     ]
    },
    {
     "data": {
      "text/plain": [
       "\"\\n-> whenever objects call it's method, object itself is passed as first argument\\ni.e obj.greet() works instead Person.greet(obj)\\n-> first argument of function in class must be object itself(self)\\n\""
      ]
     },
     "execution_count": 4,
     "metadata": {},
     "output_type": "execute_result"
    }
   ],
   "source": [
    "\"\"\"\n",
    "-> class object also can used to access different attributes\n",
    "-> we can used it to create new object instance of that class\n",
    "-> creating object is similar to function call\n",
    "\"\"\"\n",
    "obj = Person()\n",
    "\n",
    "\"\"\"\n",
    "-> we can access attribute of object using object name prefix\n",
    "-> attributes could be data or method; method of objects are corresponding to function of that class\n",
    "-> i.e Person.greet is function object , will be method object\n",
    "\"\"\"\n",
    "print(Person.greet)\n",
    "print(obj.greet)\n",
    "#calling objects gree() method\n",
    "obj.greet()\n",
    "\n",
    "\"\"\"\n",
    "-> whenever objects call it's method, object itself is passed as first argument\n",
    "i.e obj.greet() works instead Person.greet(obj)\n",
    "-> first argument of function in class must be object itself(self)\n",
    "\"\"\"\n",
    "\n"
   ]
  },
  {
   "cell_type": "markdown",
   "metadata": {},
   "source": [
    "### Constructor in Python"
   ]
  },
  {
   "cell_type": "code",
   "execution_count": 16,
   "metadata": {},
   "outputs": [
    {
     "name": "stdout",
     "output_type": "stream",
     "text": [
      "2+3j\n",
      "5 0 6\n"
     ]
    }
   ],
   "source": [
    "\"\"\"\n",
    "-> special function starting with double undrscore(__)\n",
    "Eg: __init__(); called whenever a new object of that class is instantiated\n",
    "-> also called cunstructor; normally used to initialize variables\n",
    "\"\"\"\n",
    "class ComplexNumber:\n",
    "    \n",
    "    def __init__(self, r=0, i=0):\n",
    "        self.real = r\n",
    "        self.imag = i\n",
    "        \n",
    "    def get_data(self):\n",
    "        print(f\"{self.real}+{self.imag}j\")\n",
    "        \n",
    "num1 = ComplexNumber(2,3)\n",
    "num1.get_data()\n",
    "\n",
    "\n",
    "num2 = ComplexNumber(5)\n",
    "num2.attr = 6 # creating new attribute\n",
    "print(num2.real, num2.imag, num2.attr)\n"
   ]
  },
  {
   "cell_type": "markdown",
   "metadata": {},
   "source": [
    "### Deleting attributes and object"
   ]
  },
  {
   "cell_type": "code",
   "execution_count": 26,
   "metadata": {},
   "outputs": [
    {
     "ename": "NameError",
     "evalue": "name 'c1' is not defined",
     "output_type": "error",
     "traceback": [
      "\u001b[0;31m---------------------------------------------------------------------------\u001b[0m",
      "\u001b[0;31mNameError\u001b[0m                                 Traceback (most recent call last)",
      "\u001b[0;32m<ipython-input-26-ae45d1dfeb0a>\u001b[0m in \u001b[0;36m<module>\u001b[0;34m\u001b[0m\n\u001b[1;32m     15\u001b[0m \u001b[0mc1\u001b[0m \u001b[0;34m=\u001b[0m \u001b[0mComplexNumber\u001b[0m\u001b[0;34m(\u001b[0m\u001b[0;36m2\u001b[0m\u001b[0;34m,\u001b[0m\u001b[0;36m3\u001b[0m\u001b[0;34m)\u001b[0m\u001b[0;34m\u001b[0m\u001b[0;34m\u001b[0m\u001b[0m\n\u001b[1;32m     16\u001b[0m \u001b[0;32mdel\u001b[0m \u001b[0mc1\u001b[0m\u001b[0;34m\u001b[0m\u001b[0;34m\u001b[0m\u001b[0m\n\u001b[0;32m---> 17\u001b[0;31m \u001b[0mc1\u001b[0m\u001b[0;34m\u001b[0m\u001b[0;34m\u001b[0m\u001b[0m\n\u001b[0m",
      "\u001b[0;31mNameError\u001b[0m: name 'c1' is not defined"
     ]
    }
   ],
   "source": [
    "\"\"\"\n",
    "-> any attribute of any object can be deleted anytime using del statement\n",
    "\n",
    "\"\"\"\n",
    "num3 = ComplexNumber(5,9)\n",
    "#del num3.imag\n",
    "\n",
    "#num3.get_data()\n",
    "\n",
    "# del ComplexNumber.get_data\n",
    "# num3.get_data()\n",
    "\"\"\"\n",
    "Automatic destruction of unreferenced object in Python is called garbage collection\n",
    "\"\"\"\n",
    "c1 = ComplexNumber(2,3)\n",
    "del c1\n",
    "c1"
   ]
  }
 ],
 "metadata": {
  "kernelspec": {
   "display_name": "Python 3",
   "language": "python",
   "name": "python3"
  },
  "language_info": {
   "codemirror_mode": {
    "name": "ipython",
    "version": 3
   },
   "file_extension": ".py",
   "mimetype": "text/x-python",
   "name": "python",
   "nbconvert_exporter": "python",
   "pygments_lexer": "ipython3",
   "version": "3.8.10"
  }
 },
 "nbformat": 4,
 "nbformat_minor": 4
}
