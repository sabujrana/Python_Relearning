{
 "cells": [
  {
   "cell_type": "markdown",
   "metadata": {},
   "source": [
    "## Python Inheritance"
   ]
  },
  {
   "cell_type": "code",
   "execution_count": 5,
   "metadata": {},
   "outputs": [
    {
     "ename": "SyntaxError",
     "evalue": "invalid syntax (<ipython-input-5-37a02ad9bc84>, line 9)",
     "output_type": "error",
     "traceback": [
      "\u001b[0;36m  File \u001b[0;32m\"<ipython-input-5-37a02ad9bc84>\"\u001b[0;36m, line \u001b[0;32m9\u001b[0m\n\u001b[0;31m    Body of base class\u001b[0m\n\u001b[0m         ^\u001b[0m\n\u001b[0;31mSyntaxError\u001b[0m\u001b[0;31m:\u001b[0m invalid syntax\n"
     ]
    }
   ],
   "source": [
    "\"\"\"\n",
    "-> enable to define class that takes all functionality from parent class and allows us to add more\n",
    "-> refers to defining a new class with little or no modification to an existing class\n",
    "-> new class is derived(child) and from which inherits called base(parent) class.\n",
    "-> derived class inherits features from base class where new features can be added to it\n",
    "-> This results re-usability of code\n",
    "\"\"\"\n",
    "class BaseClass:\n",
    "    Body of base class\n",
    "class DerivedClass(BaseClass):\n",
    "    Body of derived class\n",
    "    "
   ]
  },
  {
   "cell_type": "code",
   "execution_count": 4,
   "metadata": {},
   "outputs": [],
   "source": [
    "## Example \n",
    "class Polygon:\n",
    "    \n",
    "    def __init__(self, no_of_side):\n",
    "        self.n = no_of_side\n",
    "        self.sides = [0 for i in range(no_of_side)]\n",
    "        \n",
    "    def inputSides(self):\n",
    "        self.sides = [float(input(\"Enter side\"+str(i+1)+\" : \" )) for i in range(self.n)]\n",
    "    \n",
    "    def dispSides(self):\n",
    "        for i in range(self.n):\n",
    "            print(\"side\",i+1,\"is\",self.sides[i])"
   ]
  },
  {
   "cell_type": "code",
   "execution_count": 5,
   "metadata": {},
   "outputs": [],
   "source": [
    "class Triangle(Polygon):\n",
    "\n",
    "    def __init__(self):\n",
    "        Polygon.__init__(self,3)\n",
    "        \n",
    "        \n",
    "    def findArea(self):\n",
    "        a, b, c = self.sides\n",
    "        \n",
    "        s = (a + b + c)/2\n",
    "        area = (s*(s-a)*(s-b)*(s-c))**0.5\n",
    "        print(f\"The are of traingle is {area}\")"
   ]
  },
  {
   "cell_type": "code",
   "execution_count": 6,
   "metadata": {},
   "outputs": [
    {
     "name": "stdout",
     "output_type": "stream",
     "text": [
      "Enter side1 : 3\n",
      "Enter side2 : 5\n",
      "Enter side3 : 4\n",
      "side 1 is 3.0\n",
      "side 2 is 5.0\n",
      "side 3 is 4.0\n",
      "The are of traingle is 6.0\n"
     ]
    }
   ],
   "source": [
    "t = Triangle()\n",
    "t.inputSides()\n",
    "t.dispSides()\n",
    "t.findArea()"
   ]
  },
  {
   "cell_type": "markdown",
   "metadata": {},
   "source": [
    "## Mehod Overriding in Python"
   ]
  },
  {
   "cell_type": "code",
   "execution_count": 13,
   "metadata": {},
   "outputs": [
    {
     "name": "stdout",
     "output_type": "stream",
     "text": [
      "True\n",
      "True\n",
      "False\n",
      "True\n",
      "False\n",
      "True\n",
      "True\n"
     ]
    }
   ],
   "source": [
    "\"\"\"\n",
    "-> If same method is defined in base as well as derived class then, derived class method will override base class.\n",
    "-> derived class method will preference over base class.\n",
    "-> basically when overriding base class method, we extend definition rather than simply replace it.\n",
    "-> i.e it's done by calling method in base class from one in derived class\n",
    "-> super().__init__(3) is equivalent Polygon.__init__(self,3)\n",
    "\n",
    "\n",
    "-> two function isinstance() and issubclass() used to check inheritances\n",
    "-> isinstance() returns True if obj is an instance of class or other classes derived from it\n",
    "-> each and everything is inherits from base class object.\n",
    "\n",
    "\"\"\"\n",
    "print(isinstance(t, Triangle))\n",
    "\n",
    "print(isinstance(t,Polygon))\n",
    "\n",
    "print(isinstance(t,int))\n",
    "\n",
    "print(isinstance(t,object))\n",
    "\n",
    "\"\"\"\n",
    "issubclass() is used to check for class inheritance\n",
    "\"\"\"\n",
    "print(issubclass(Polygon, Triangle))\n",
    "\n",
    "print(issubclass(Triangle, Polygon))\n",
    "\n",
    "print(issubclass(bool, int))"
   ]
  },
  {
   "cell_type": "markdown",
   "metadata": {},
   "source": [
    "### Python super()"
   ]
  },
  {
   "cell_type": "code",
   "execution_count": 10,
   "metadata": {},
   "outputs": [
    {
     "name": "stdout",
     "output_type": "stream",
     "text": [
      "Dog has four legs.\n",
      "Mammal name is Dog\n"
     ]
    }
   ],
   "source": [
    "\"\"\"\n",
    "-> returns a proxy object (temporary object of superclass)\n",
    "-> allows us to access methods of base class \n",
    "Use cases of super():\n",
    "-> allows us to avoid using base class name explicitly\n",
    "-> working with Multiple inheritance\n",
    "\n",
    "\n",
    "\"\"\"\n",
    "### Example1\n",
    "class Mammal(object):\n",
    "    def __init__(self, mammalName):\n",
    "        print(f\"Mammal name is {mammalName}\")\n",
    "        \n",
    "class Dog(Mammal):\n",
    "    def __init__(slef):\n",
    "        print(\"Dog has four legs.\")\n",
    "        super().__init__('Dog')##Mammal.__init__(self,'Dog')\n",
    "dobj = Dog()"
   ]
  },
  {
   "cell_type": "code",
   "execution_count": 17,
   "metadata": {},
   "outputs": [
    {
     "name": "stdout",
     "output_type": "stream",
     "text": [
      "Dog has 4 legs.\n",
      "Dog can't swim.\n",
      "Dog can't fly.\n",
      "Dog is warm-blooded animal.\n",
      "Dog is an animal.\n",
      "\n",
      "Bat can't swim.\n",
      "Bat is warm-blooded animal.\n",
      "Bat is an animal.\n"
     ]
    }
   ],
   "source": [
    "## super with multiple inheritance\n",
    "class Animal:\n",
    "    def __init__(self, Animal):\n",
    "        print(f\"{Animal} is an animal.\")\n",
    "        \n",
    "class Mammal(Animal):\n",
    "    def __init__(self, mammalName):\n",
    "        print(f\"{mammalName} is warm-blooded animal.\")\n",
    "        super().__init__(mammalName)\n",
    "        \n",
    "class NonWingedMammal(Mammal):\n",
    "    def __init__(self, NonWingedMammal):\n",
    "        print(f\"{NonWingedMammal} can't fly.\")\n",
    "        super().__init__(NonWingedMammal)\n",
    "        \n",
    "class NonMarineMammal(Mammal):\n",
    "    def __init__(self, NonMarineMammal):\n",
    "        print(f\"{NonMarineMammal} can't swim.\")\n",
    "        super().__init__(NonMarineMammal)\n",
    "                         \n",
    "class Dog(NonMarineMammal,NonWingedMammal):\n",
    "    def __init__(self):\n",
    "        print(f\"Dog has 4 legs.\")\n",
    "        super().__init__('Dog')\n",
    "\n",
    "d = Dog()\n",
    "print(\"\")\n",
    "bat = NonMarineMammal(\"Bat\")                         \n",
    "                         "
   ]
  },
  {
   "cell_type": "code",
   "execution_count": 18,
   "metadata": {},
   "outputs": [
    {
     "ename": "SyntaxError",
     "evalue": "invalid syntax (<ipython-input-18-01441fac1cb7>, line 3)",
     "output_type": "error",
     "traceback": [
      "\u001b[0;36m  File \u001b[0;32m\"<ipython-input-18-01441fac1cb7>\"\u001b[0;36m, line \u001b[0;32m3\u001b[0m\n\u001b[0;31m    print(password)`\u001b[0m\n\u001b[0m                   ^\u001b[0m\n\u001b[0;31mSyntaxError\u001b[0m\u001b[0;31m:\u001b[0m invalid syntax\n"
     ]
    }
   ],
   "source": [
    "from getpass import getpass\n",
    "password = getpass(\"Enter password: \")\n",
    "print(password)`"
   ]
  },
  {
   "cell_type": "code",
   "execution_count": null,
   "metadata": {},
   "outputs": [],
   "source": []
  }
 ],
 "metadata": {
  "kernelspec": {
   "display_name": "Python 3",
   "language": "python",
   "name": "python3"
  },
  "language_info": {
   "codemirror_mode": {
    "name": "ipython",
    "version": 3
   },
   "file_extension": ".py",
   "mimetype": "text/x-python",
   "name": "python",
   "nbconvert_exporter": "python",
   "pygments_lexer": "ipython3",
   "version": "3.8.10"
  }
 },
 "nbformat": 4,
 "nbformat_minor": 4
}
