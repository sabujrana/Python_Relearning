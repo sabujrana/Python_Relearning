{
 "cells": [
  {
   "cell_type": "markdown",
   "metadata": {},
   "source": [
    "## Object Oriented Programming"
   ]
  },
  {
   "cell_type": "code",
   "execution_count": 1,
   "metadata": {},
   "outputs": [
    {
     "data": {
      "text/plain": [
       "'\\n-> multi-paradigm which supports different programming approaches\\n-> Most popular approaches is by creating objects, known as OOP\\nCharacteristics of object:\\n(1) attributes: for eg: name, age, color\\n(2) behavior: singing, dancing\\n\\n'"
      ]
     },
     "execution_count": 1,
     "metadata": {},
     "output_type": "execute_result"
    }
   ],
   "source": [
    "\"\"\"\n",
    "-> multi-paradigm which supports different programming approaches\n",
    "-> Most popular approaches is by creating objects, known as OOP\n",
    "Characteristics of object:\n",
    "(1) attributes: for eg: name, age, color\n",
    "(2) behavior: singing, dancing\n",
    "\n",
    "\"\"\""
   ]
  },
  {
   "cell_type": "markdown",
   "metadata": {},
   "source": [
    "### Class"
   ]
  },
  {
   "cell_type": "code",
   "execution_count": 3,
   "metadata": {},
   "outputs": [
    {
     "data": {
      "text/plain": [
       "'\\n-> blueprint for objecct\\nsyntax:\\nclass classname:\\n    #code block\\n-> we can construct instance from class, which is specific object created from particular class\\n'"
      ]
     },
     "execution_count": 3,
     "metadata": {},
     "output_type": "execute_result"
    }
   ],
   "source": [
    "\"\"\"\n",
    "-> blueprint for objecct\n",
    "syntax:\n",
    "class classname:\n",
    "    #code block\n",
    "-> we can construct instance from class, which is specific object created from particular class\n",
    "\"\"\"\n"
   ]
  },
  {
   "cell_type": "markdown",
   "metadata": {},
   "source": [
    "### Object"
   ]
  },
  {
   "cell_type": "code",
   "execution_count": 12,
   "metadata": {},
   "outputs": [
    {
     "name": "stdout",
     "output_type": "stream",
     "text": [
      "Blabla is bird.\n",
      "Wool is bird.\n",
      "Blabla is 5 years old.\n",
      "wool is 3 years old.\n"
     ]
    }
   ],
   "source": [
    "\"\"\"\n",
    "-> object(instance) is instantiation of class\n",
    "-> when class is defined, only description for object is defined\n",
    "-> memory allocation is not performed\n",
    "Eg:obj = ClassName()\n",
    "\"\"\"\n",
    "class Parrot:\n",
    "    \n",
    "    #class attribute: characteristics of an object\n",
    "    species = \"bird\"\n",
    "    \n",
    "    #instance attribute\n",
    "    def __init__(self, name, age):# initializer method which will run first as soon as objecct is created\n",
    "        self.name = name\n",
    "        self.age = age\n",
    "\n",
    "#instantiate the Parrot class\n",
    "bobj1 = Parrot(\"Blabla\", 5)# bobj1 and bobj2 are references (values) to new object\n",
    "bobj2 = Parrot(\"wool\", 3)\n",
    "\n",
    "#accessing class attribute: class attribute is same for all instance in class \n",
    "print(f\"Blabla is {bobj1.__class__.species}.\")\n",
    "print(f\"Wool is {bobj2.__class__.species}.\")\n",
    "\n",
    "#accessing instance attribute: instance attribute are different for every instancee\n",
    "print(f\"{bobj1.name} is {bobj1.age} years old.\")\n",
    "print(f\"{bobj2.name} is {bobj2.age} years old.\")"
   ]
  },
  {
   "cell_type": "markdown",
   "metadata": {},
   "source": [
    "### Methods"
   ]
  },
  {
   "cell_type": "code",
   "execution_count": 17,
   "metadata": {},
   "outputs": [
    {
     "name": "stdout",
     "output_type": "stream",
     "text": [
      "wool sings Happy Birthday.\n",
      "wool is dancing.\n"
     ]
    }
   ],
   "source": [
    "\"\"\"\n",
    "-> methods are function defined inside the body of class\n",
    "-> used to define behavior of an object \n",
    "\"\"\"\n",
    "class Parrot:\n",
    "    \n",
    "    #instance attribute\n",
    "    def __init__(self, name, age):\n",
    "        self.name = name\n",
    "        self.age = age\n",
    "        \n",
    "    #instance method\n",
    "    def sing(self, song):\n",
    "        return f\"{self.name} sings {song}.\"\n",
    "\n",
    "    def dance(self):\n",
    "        return f\"{self.name} is dancing.\"\n",
    "\n",
    "#object instantiation\n",
    "pobj = Parrot(\"wool\", 4)\n",
    "\n",
    "#calling instance method\n",
    "print(pobj.sing(\"Happy Birthday\"))\n",
    "print(pobj.dance())\n",
    "\n",
    "# sing() and dance() is two instance methods because they are called on an instance object"
   ]
  },
  {
   "cell_type": "markdown",
   "metadata": {},
   "source": [
    "### Inheritance"
   ]
  },
  {
   "cell_type": "code",
   "execution_count": 20,
   "metadata": {},
   "outputs": [
    {
     "name": "stdout",
     "output_type": "stream",
     "text": [
      "Bird is ready.\n",
      "Penguin is ready.\n",
      "Penguiin\n",
      "swim faster.\n",
      "Run Faster.\n"
     ]
    }
   ],
   "source": [
    "\"\"\"\n",
    "-> way for creating new class using details of an existing class without modifying it\n",
    "-> newly formed class is derived(child) class and existing class is base(parent) class\n",
    "\n",
    "\"\"\"\n",
    "#Parent class\n",
    "class Bird:\n",
    "    \n",
    "    def __init__(self):\n",
    "        print(\"Bird is ready.\")\n",
    "        \n",
    "    def whoisThis(self):\n",
    "        print(\"Bird\")\n",
    "    \n",
    "    def swim(self):\n",
    "        print(\"swim faster.\")\n",
    "        \n",
    "#child class\n",
    "class Penguin(Bird):\n",
    "    \n",
    "    def __init__(self):\n",
    "        #call super() function\n",
    "        \n",
    "        super().__init__()#allow us to run __init__() method of parent inside child class\n",
    "        print(\"Penguin is ready.\")\n",
    "        \n",
    "    def whoisThis(self):\n",
    "        print(\"Penguiin\")\n",
    "        \n",
    "    def run(self):\n",
    "        print(\"Run Faster.\")\n",
    "\n",
    "pobj = Penguin()\n",
    "pobj.whoisThis()\n",
    "pobj.swim()\n",
    "pobj.run()\n",
    "\n",
    "#child class modified behavior of parent class which reflects by whoisThis() method"
   ]
  },
  {
   "cell_type": "markdown",
   "metadata": {},
   "source": [
    "### Encapsulation"
   ]
  },
  {
   "cell_type": "code",
   "execution_count": 30,
   "metadata": {},
   "outputs": [
    {
     "name": "stdout",
     "output_type": "stream",
     "text": [
      "Selling price is 900\n",
      "Selling price is 900\n",
      "Selling price is 1000\n"
     ]
    }
   ],
   "source": [
    "\"\"\"\n",
    "-> we can restrict access to method and varibble using OOP\n",
    "-> it will prevent data from direct modification; called encapsulation\n",
    "-> denote private attribute by underscore as prefix; single(_) or double(__)\n",
    "\"\"\"\n",
    "class Computer:\n",
    "    \n",
    "    def __init__(self):\n",
    "        self.__maxprice = 900\n",
    "        \n",
    "    def sell(self):\n",
    "        print(f\"Selling price is {self.__maxprice}\")\n",
    "        \n",
    "    def setMaxPrice(self, price):\n",
    "        self.__maxprice = price\n",
    "        \n",
    "cobject = Computer()\n",
    "cobject.sell()\n",
    "\n",
    "\n",
    "#changing price\n",
    "cobject.__maxprice = 1000\n",
    "cobject.sell()\n",
    "\n",
    "#using setter function\n",
    "cobject.setMaxPrice(1000)\n",
    "cobject.sell()\n"
   ]
  },
  {
   "cell_type": "markdown",
   "metadata": {},
   "source": [
    "### Polymorphism"
   ]
  },
  {
   "cell_type": "code",
   "execution_count": 38,
   "metadata": {},
   "outputs": [
    {
     "name": "stdout",
     "output_type": "stream",
     "text": [
      "Parrot can fly.\n",
      "Parrot can't swim.\n",
      "Penguin can't fly.\n",
      "Penguin can swim.\n"
     ]
    }
   ],
   "source": [
    "\"\"\"\n",
    "-> ability to use common interface for multiple forms(data types)\n",
    "-> to color any shape we can use polymorphism\n",
    "\"\"\"\n",
    "class Parrot:\n",
    "    \n",
    "    def fly(self):\n",
    "        print(\"Parrot can fly.\")\n",
    "        \n",
    "    def swim(self):\n",
    "        print(\"Parrot can't swim.\")\n",
    "        \n",
    "class Penguin:\n",
    "    \n",
    "    def fly(self):\n",
    "        print(\"Penguin can't fly.\")\n",
    "        \n",
    "    def swim(self):\n",
    "        print(\"Penguin can swim.\")\n",
    "        \n",
    "#common interface\n",
    "def flying_test(bird):\n",
    "    bird.fly()\n",
    "    bird.swim()\n",
    "    \n",
    "#instantiate object\n",
    "obj1 = Parrot()\n",
    "obj2 = Penguin()\n",
    "\n",
    "#passing object\n",
    "flying_test(obj1)\n",
    "flying_test(obj2)"
   ]
  },
  {
   "cell_type": "code",
   "execution_count": 2,
   "metadata": {},
   "outputs": [
    {
     "data": {
      "text/plain": [
       "'\\nkey points:\\n(1) OOP makes program easy to understand as well as efficient\\n(2) class is shareable so code can be reused\\n(3) Data is safe and secure with data abstraction\\n(4) Polymorphism allows same interface for different object, so programmers can write efficient code\\n'"
      ]
     },
     "execution_count": 2,
     "metadata": {},
     "output_type": "execute_result"
    }
   ],
   "source": [
    "\"\"\"\n",
    "key points:\n",
    "(1) OOP makes program easy to understand as well as efficient\n",
    "(2) class is shareable so code can be reused\n",
    "(3) Data is safe and secure with data abstraction\n",
    "(4) Polymorphism allows same interface for different object, so programmers can write efficient code\n",
    "\"\"\"\n"
   ]
  },
  {
   "cell_type": "code",
   "execution_count": 6,
   "metadata": {},
   "outputs": [
    {
     "name": "stdout",
     "output_type": "stream",
     "text": [
      "Sabuj\n",
      "22\n"
     ]
    }
   ],
   "source": [
    "class Student:\n",
    "     pass\n",
    "\n",
    "student1 = Student()\n",
    "#student2 = Student()\n",
    "\n",
    "#not proper way of assigning attribute to object\n",
    "student1.name = \"Sabuj\"\n",
    "student1.age = 22\n",
    "\n",
    "print(student1.name)\n",
    "print(student1.age)"
   ]
  },
  {
   "cell_type": "code",
   "execution_count": 22,
   "metadata": {},
   "outputs": [
    {
     "name": "stdout",
     "output_type": "stream",
     "text": [
      "Pass\n",
      "Fail\n"
     ]
    }
   ],
   "source": [
    "class StudentsResult:#self is object calling it\n",
    "    \n",
    "    def check_pass_fail(self):\n",
    "        if self.marks >= 40:\n",
    "            return \"Pass\"\n",
    "        else:\n",
    "            return \"Fail\"\n",
    "        \n",
    "st1 = StudentsResult()\n",
    "st2 = StudentsResult()\n",
    "\n",
    "st1.marks = 56\n",
    "st2.marks = 35\n",
    "\n",
    "check1 = st1.check_pass_fail()\n",
    "check2 = st2.check_pass_fail()\n",
    "\n",
    "print(check1)\n",
    "print(check2)\n"
   ]
  },
  {
   "cell_type": "code",
   "execution_count": 26,
   "metadata": {},
   "outputs": [
    {
     "name": "stdout",
     "output_type": "stream",
     "text": [
      "Ram is passed the exam.\n",
      "Sita is not passed the exam.\n"
     ]
    }
   ],
   "source": [
    "class StudentResult:\n",
    "    \n",
    "    def __init__(self, name, marks):\n",
    "        self.name = name\n",
    "        self.marks = marks\n",
    "        \n",
    "    \n",
    "    def check_pass_fail(self):\n",
    "        if self.marks >= 35:\n",
    "            print(f\"{self.name} is passed the exam.\")\n",
    "            \n",
    "        else:\n",
    "            print(f\"{self.name} is not passed the exam.\")\n",
    "            \n",
    "stu1 = StudentResult(\"Ram\", 44)\n",
    "stu2 = StudentResult(\"Sita\", 23)\n",
    "\n",
    "stu1.check_pass_fail()\n",
    "stu2.check_pass_fail()"
   ]
  },
  {
   "cell_type": "code",
   "execution_count": 29,
   "metadata": {},
   "outputs": [
    {
     "name": "stdout",
     "output_type": "stream",
     "text": [
      "real = 13\n",
      "imag = 9\n"
     ]
    }
   ],
   "source": [
    "class Complex:\n",
    "    \n",
    "    def __init__(self, real, imag):\n",
    "        self.real = real\n",
    "        self.imag = imag\n",
    "        \n",
    "    def add(self, number):\n",
    "        real = self.real + number.real\n",
    "        imag = self.imag + number.imag\n",
    "        result = Complex(real, imag)\n",
    "        return result\n",
    "            \n",
    "n1 = Complex(4,2)\n",
    "n2 = Complex(9,7)\n",
    "result = n1.add(n2)\n",
    "print(f\"real = {result.real}\")\n",
    "print(f\"imag = {result.imag}\")"
   ]
  },
  {
   "cell_type": "code",
   "execution_count": 33,
   "metadata": {},
   "outputs": [
    {
     "data": {
      "text/plain": [
       "6"
      ]
     },
     "execution_count": 33,
     "metadata": {},
     "output_type": "execute_result"
    }
   ],
   "source": [
    "class Triangle:\n",
    "    \n",
    "    def __init__(self, a, b, c):\n",
    "        self.a = a\n",
    "        self.b = b \n",
    "        self.c = c\n",
    "    \n",
    "    def perimeter(self):\n",
    "        p = self.a + self.b + self.c\n",
    "        return p\n",
    "    \n",
    "t1 = Triangle(1, 2, 3)\n",
    "t1.perimeter()\n",
    "        \n",
    "        "
   ]
  },
  {
   "cell_type": "code",
   "execution_count": 36,
   "metadata": {},
   "outputs": [
    {
     "name": "stdout",
     "output_type": "stream",
     "text": [
      "<class 'list'>\n",
      "<class 'int'>\n",
      "<class 'bool'>\n"
     ]
    }
   ],
   "source": [
    "#Everything is object\n",
    "numbers = [2, 4, 6]\n",
    "print(type(numbers))\n",
    "\n",
    "n1 = 4\n",
    "print(type(n1))\n",
    "    \n",
    "flag = True\n",
    "print(type(flag))"
   ]
  },
  {
   "cell_type": "code",
   "execution_count": 43,
   "metadata": {},
   "outputs": [
    {
     "name": "stdout",
     "output_type": "stream",
     "text": [
      "['__add__', '__class__', '__contains__', '__delattr__', '__delitem__', '__dir__', '__doc__', '__eq__', '__format__', '__ge__', '__getattribute__', '__getitem__', '__gt__', '__hash__', '__iadd__', '__imul__', '__init__', '__init_subclass__', '__iter__', '__le__', '__len__', '__lt__', '__mul__', '__ne__', '__new__', '__reduce__', '__reduce_ex__', '__repr__', '__reversed__', '__rmul__', '__setattr__', '__setitem__', '__sizeof__', '__str__', '__subclasshook__', 'append', 'clear', 'copy', 'count', 'extend', 'index', 'insert', 'pop', 'remove', 'reverse', 'sort']\n",
      "[2, 3, 4, 5]\n"
     ]
    }
   ],
   "source": [
    "numbers_list = [2, 3]\n",
    "print(dir(numbers_list))\n",
    "\n",
    "#result = numbers_list.__add__([4, 5])\n",
    "reuslt = numbers_list + [4, 5]\n",
    "print(result)\n"
   ]
  },
  {
   "cell_type": "code",
   "execution_count": 46,
   "metadata": {},
   "outputs": [
    {
     "name": "stdout",
     "output_type": "stream",
     "text": [
      "9788736\n",
      "9788768\n"
     ]
    }
   ],
   "source": [
    "#id function: id for identity\n",
    "#id of an object is always unique and constant for\n",
    "# this object during lifetime\n",
    "number1 = 5\n",
    "print(id(number1))\n",
    "\n",
    "number2 = 6\n",
    "print(id(number2))"
   ]
  },
  {
   "cell_type": "code",
   "execution_count": null,
   "metadata": {},
   "outputs": [],
   "source": []
  }
 ],
 "metadata": {
  "kernelspec": {
   "display_name": "Python 3",
   "language": "python",
   "name": "python3"
  },
  "language_info": {
   "codemirror_mode": {
    "name": "ipython",
    "version": 3
   },
   "file_extension": ".py",
   "mimetype": "text/x-python",
   "name": "python",
   "nbconvert_exporter": "python",
   "pygments_lexer": "ipython3",
   "version": "3.8.10"
  }
 },
 "nbformat": 4,
 "nbformat_minor": 4
}
