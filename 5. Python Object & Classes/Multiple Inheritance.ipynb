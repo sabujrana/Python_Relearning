{
 "cells": [
  {
   "cell_type": "markdown",
   "metadata": {},
   "source": [
    "## Multiple Inheritance"
   ]
  },
  {
   "cell_type": "code",
   "execution_count": 1,
   "metadata": {},
   "outputs": [
    {
     "data": {
      "text/plain": [
       "'\\n-> class can be derived from more than one base class called multiple inheritance\\n-> features of all base class are inherited into derived class\\nsyntax:\\nclass Base1:\\n    pass\\nclass Base2:\\n    pass\\n    \\nclass MultiDerived(Base1, Base2):\\n    pass\\n'"
      ]
     },
     "execution_count": 1,
     "metadata": {},
     "output_type": "execute_result"
    }
   ],
   "source": [
    "\"\"\"\n",
    "-> class can be derived from more than one base class called multiple inheritance\n",
    "-> features of all base class are inherited into derived class\n",
    "syntax:\n",
    "class Base1:\n",
    "    pass\n",
    "class Base2:\n",
    "    pass\n",
    "    \n",
    "class MultiDerived(Base1, Base2):\n",
    "    pass\n",
    "\"\"\""
   ]
  },
  {
   "cell_type": "markdown",
   "metadata": {},
   "source": [
    "## Multilevel Inheritance"
   ]
  },
  {
   "cell_type": "code",
   "execution_count": null,
   "metadata": {},
   "outputs": [],
   "source": [
    "\"\"\"\n",
    "-> we can again inherit from derived class which is known as multileverl inheritance\n",
    "-> feature of base class and derived calss are inherit into new derived class\n",
    "Syntax:\n",
    "\n",
    "class Base:\n",
    "    pass\n",
    "    \n",
    "class Derived1(Base):\n",
    "    pass\n",
    "\n",
    "class Derived2(Derived1):\n",
    "    pass\n",
    "\"\"\"\n"
   ]
  },
  {
   "cell_type": "markdown",
   "metadata": {},
   "source": [
    "## Method Resolution Order"
   ]
  },
  {
   "cell_type": "code",
   "execution_count": 7,
   "metadata": {},
   "outputs": [
    {
     "name": "stdout",
     "output_type": "stream",
     "text": [
      "True\n",
      "True\n",
      "True\n",
      "(<class '__main__.MultiVeried'>, <class '__main__.Base1'>, <class '__main__.Base2'>, <class 'object'>)\n",
      "[<class '__main__.MultiVeried'>, <class '__main__.Base1'>, <class '__main__.Base2'>, <class 'object'>]\n"
     ]
    }
   ],
   "source": [
    "\"\"\"\n",
    "-> Every class is derived from object class, most base type in python\n",
    "-> so technically all user-defined and derived classes and all objects are instances of object class\n",
    "-> \n",
    "\"\"\"\n",
    "print(isinstance(list, object))\n",
    "\n",
    "print(isinstance(5.5, object))\n",
    "\n",
    "print(isinstance(\"hello\", object))\n",
    "\n",
    "\"\"\"\n",
    "-> specified attribute is searched first in current class in multiple inheritance\n",
    "-> if not found it goes to parent class in depth-first, left-right \n",
    "fashion without searching same class twice\n",
    "-> also known as linearization of 'multiderived' class \n",
    "-> it prevents local precedence ordering and provide monotoncity\n",
    "-> ensures class always appears before its parent\n",
    "-> in case of multiple parent order is same as tuple of base classes\n",
    "-> can be viewed as __mro__ or mro() method\n",
    "-> former returns tuple while latter retuns list\n",
    "\"\"\"\n",
    "class Base1:\n",
    "    pass\n",
    "\n",
    "class Base2:\n",
    "    pass\n",
    "\n",
    "class MultiVeried(Base1, Base2):\n",
    "    pass\n",
    "\n",
    "print(MultiVeried.__mro__)\n",
    "\n",
    "print(MultiVeried.mro())"
   ]
  },
  {
   "cell_type": "code",
   "execution_count": 9,
   "metadata": {},
   "outputs": [
    {
     "name": "stdout",
     "output_type": "stream",
     "text": [
      "(<class '__main__.M'>, <class '__main__.B'>, <class '__main__.A'>, <class '__main__.X'>, <class '__main__.Y'>, <class '__main__.Z'>, <class 'object'>)\n"
     ]
    }
   ],
   "source": [
    "#Demonstration of MRO\n",
    "\n",
    "class X:\n",
    "    pass\n",
    "\n",
    "class Y:\n",
    "    pass\n",
    "\n",
    "class Z:\n",
    "    pass\n",
    "\n",
    "class A(X, Y):\n",
    "    pass\n",
    "\n",
    "class B(Y, Z):\n",
    "    pass\n",
    "\n",
    "class M(B, A, Z):\n",
    "    pass\n",
    "\n",
    "print(M.__mro__)"
   ]
  },
  {
   "cell_type": "code",
   "execution_count": null,
   "metadata": {},
   "outputs": [],
   "source": []
  }
 ],
 "metadata": {
  "kernelspec": {
   "display_name": "Python 3",
   "language": "python",
   "name": "python3"
  },
  "language_info": {
   "codemirror_mode": {
    "name": "ipython",
    "version": 3
   },
   "file_extension": ".py",
   "mimetype": "text/x-python",
   "name": "python",
   "nbconvert_exporter": "python",
   "pygments_lexer": "ipython3",
   "version": "3.8.10"
  }
 },
 "nbformat": 4,
 "nbformat_minor": 4
}
