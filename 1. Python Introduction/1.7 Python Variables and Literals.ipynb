{
 "cells": [
  {
   "cell_type": "markdown",
   "metadata": {},
   "source": [
    "## Python Variables"
   ]
  },
  {
   "cell_type": "code",
   "execution_count": 1,
   "metadata": {},
   "outputs": [
    {
     "data": {
      "text/plain": [
       "\"\\n(1) named location used to store data in memory\\n(2) similar to container which holds data that can be changed later\\nNote: we don't actually assign values to variable but python gives reference of the object(values) to the variable\\n\""
      ]
     },
     "execution_count": 1,
     "metadata": {},
     "output_type": "execute_result"
    }
   ],
   "source": [
    "\"\"\"\n",
    "(1) named location used to store data in memory\n",
    "(2) similar to container which holds data that can be changed later\n",
    "Note: we don't actually assign values to variable but python gives reference of the object(values) to the variable\n",
    "\"\"\""
   ]
  },
  {
   "cell_type": "markdown",
   "metadata": {},
   "source": [
    "#### Assigning values to variable"
   ]
  },
  {
   "cell_type": "code",
   "execution_count": 11,
   "metadata": {},
   "outputs": [
    {
     "name": "stdout",
     "output_type": "stream",
     "text": [
      "tutorialspoint.com\n",
      "apple.com\n",
      "10\n",
      "sabuz\n",
      "22\n",
      "22\n",
      "22\n",
      "22\n",
      "True\n"
     ]
    }
   ],
   "source": [
    "## Declaring and assigning values to variable\n",
    "\"\"\"\n",
    "we can use assignment operator(=) to assign values to variable.\n",
    "\"\"\"\n",
    "website = \"tutorialspoint.com\"\n",
    "print(website)\n",
    "\n",
    "\"\"\"\n",
    "Note: python is type-inferred language so that we don't have to explicitly define variable type\n",
    "    : It automatically knows the type of the data that variable stores\n",
    "\"\"\"\n",
    "## changing values of variable\n",
    "website = \"apple.com\"\n",
    "print(website)\n",
    "\n",
    "## Assigning multiple values to multiple variables\n",
    "count, name, age = 10, \"sabuz\", 22\n",
    "print(count)\n",
    "print(name)\n",
    "print(age)\n",
    "\n",
    "## Assigning same value to multiple variable in the same line\n",
    "count = num = value = 22\n",
    "print(count)\n",
    "print(num)\n",
    "print(value)\n",
    "print(count == num)\n"
   ]
  },
  {
   "cell_type": "markdown",
   "metadata": {},
   "source": [
    "### Constant"
   ]
  },
  {
   "cell_type": "code",
   "execution_count": 12,
   "metadata": {},
   "outputs": [
    {
     "data": {
      "text/plain": [
       "\"\\n(1) type of variable whose value can't be changed i.e value can't change later\\n\""
      ]
     },
     "execution_count": 12,
     "metadata": {},
     "output_type": "execute_result"
    }
   ],
   "source": [
    "\"\"\"\n",
    "(1) type of variable whose value can't be changed i.e value can't change later\n",
    "\"\"\""
   ]
  },
  {
   "cell_type": "markdown",
   "metadata": {},
   "source": [
    "### Assigning value to constant"
   ]
  },
  {
   "cell_type": "code",
   "execution_count": 15,
   "metadata": {},
   "outputs": [
    {
     "name": "stdout",
     "output_type": "stream",
     "text": [
      "The value of PI is 3.14\n",
      "The value of S for water is 4200.\n"
     ]
    }
   ],
   "source": [
    "\"\"\"\n",
    "(1) constant are usually declared and assigned in module in python.\n",
    "(2) modules are file containing vavriables, functions etc. whih are imported to main file.\n",
    "(3) constant are written in capital letters and underscore separating the words.\n",
    "\"\"\"\n",
    "## Declaring and assigning alues to constant\n",
    "\n",
    "PI = 3.14\n",
    "SPECIFIC_HEAT_CAPACITY = 4200\n",
    "print(f\"The value of PI is {PI}\")\n",
    "print(f\"The value of S for water is {SPECIFIC_HEAT_CAPACITY}.\")"
   ]
  },
  {
   "cell_type": "markdown",
   "metadata": {},
   "source": [
    "## Naming Convention for Variables and Constant"
   ]
  },
  {
   "cell_type": "code",
   "execution_count": 17,
   "metadata": {},
   "outputs": [
    {
     "data": {
      "text/plain": [
       "\"\\n(1) contains both uppercase lowrcase, digits and underscore. Eg. snake_case, MACRO_CASe, camelCase CapWords\\n(2) Sensible name is much preferrable. Eg number instead of n\\n(3) use underscore if variable have more than one words. Eg my_name\\n(4) used capital letters for constant variable declaration. Eg. G\\n(5) special symbol !, @, #, $ and % are never use.\\n(6) variable name can't be start with digit. Eg. 1number\\n\\n\""
      ]
     },
     "execution_count": 17,
     "metadata": {},
     "output_type": "execute_result"
    }
   ],
   "source": [
    "\"\"\"\n",
    "(1) contains both uppercase lowrcase, digits and underscore. Eg. snake_case, MACRO_CASe, camelCase CapWords\n",
    "(2) Sensible name is much preferrable. Eg number instead of n\n",
    "(3) use underscore if variable have more than one words. Eg my_name\n",
    "(4) used capital letters for constant variable declaration. Eg. G\n",
    "(5) special symbol !, @, #, $ and % are never use.\n",
    "(6) variable name can't be start with digit. Eg. 1number\n",
    "\n",
    "\"\"\""
   ]
  },
  {
   "cell_type": "markdown",
   "metadata": {},
   "source": [
    "## Literals "
   ]
  },
  {
   "cell_type": "code",
   "execution_count": 21,
   "metadata": {},
   "outputs": [
    {
     "name": "stdout",
     "output_type": "stream",
     "text": [
      "10\n",
      "100\n",
      "200\n",
      "300\n",
      "10.5\n",
      "150.0\n",
      "2.5j 2.5 0.0\n"
     ]
    }
   ],
   "source": [
    "\"\"\"\n",
    "Literals are the raw data given to variable or constant.\n",
    "Types of Literals:\n",
    "(1) Numeric Literals:\n",
    "    : immutable(unchangeable)\n",
    "    types:\n",
    "    (i) Integer\n",
    "    (ii) Float\n",
    "    (iii) Complex\n",
    "\"\"\"\n",
    "## Integer Literal\n",
    "a = 0b1010 # binary\n",
    "b = 100 # decimal\n",
    "c = 0o310 # octal\n",
    "d = 0x12c # hexadecimal\n",
    "print(a)\n",
    "print(b)\n",
    "print(c)\n",
    "print(d)\n",
    "\n",
    "## Float Literal\n",
    "float_value1 = 10.5\n",
    "float_value2 = 1.5e2\n",
    "print(float_value1)\n",
    "print(float_value2)\n",
    "\n",
    "## Complex Literal\n",
    "complex_value = 2.5j\n",
    "print(complex_value, complex_value.imag, complex_value.real)"
   ]
  },
  {
   "cell_type": "code",
   "execution_count": 25,
   "metadata": {},
   "outputs": [
    {
     "name": "stdout",
     "output_type": "stream",
     "text": [
      "Sabuj Rana\n",
      "H\n",
      "Hello how are you guys\n",
      "Ünicöde\n",
      "raw \\n string\n"
     ]
    }
   ],
   "source": [
    "\"\"\"\n",
    "(2) String Literal:\n",
    "                : sequence of character surrounded by quote\n",
    "                : can use single double or triple quotes for string\n",
    "                : character literal is the character surrounded by single or double quote\n",
    "                types:\n",
    "                (i) string\n",
    "                (ii) character\n",
    "                (iii) multiline string\n",
    "                (iv) unicode \n",
    "                (v) raw string\n",
    "\"\"\" \n",
    "## String Literal\n",
    "name = \"Sabuj Rana\" # string literal\n",
    "print(name)\n",
    "character = \"H\" # character literal\n",
    "print(character)\n",
    "multiline_str = \"\"\"Hello how are you guys\"\"\" # multiline string literal\n",
    "print(multiline_str) \n",
    "unicode = u\"\\u00dcnic\\u00f6de\" # unicode literal\n",
    "print(unicode)\n",
    "raw_string = r\"raw \\n string\" # raw string literal\n",
    "print(raw_string)\n",
    "\n"
   ]
  },
  {
   "cell_type": "code",
   "execution_count": 26,
   "metadata": {},
   "outputs": [
    {
     "name": "stdout",
     "output_type": "stream",
     "text": [
      "True\n",
      "False\n",
      "16\n",
      "13\n"
     ]
    }
   ],
   "source": [
    "\"\"\"\n",
    "(3) Boolean Literal\n",
    "    -> It can have any of two value either True or False.\n",
    "    -> True represents 1 and False represents 0\n",
    "\"\"\"\n",
    "# Boolean Literal\n",
    "x_value = (1 == True)\n",
    "y_value = ( 1 == False)\n",
    "a_value = True + 15\n",
    "b_value = False + 13\n",
    "print(x_value)\n",
    "print(y_value)\n",
    "print(a_value)\n",
    "print(b_value)\n"
   ]
  },
  {
   "cell_type": "code",
   "execution_count": 27,
   "metadata": {},
   "outputs": [
    {
     "name": "stdout",
     "output_type": "stream",
     "text": [
      "Available\n",
      "None\n"
     ]
    }
   ],
   "source": [
    "\"\"\"\n",
    "(4) Special Literal:\n",
    "                -> There are only one special litral in python i.e None.\n",
    "                -> It is used to specify that the field has not been created\n",
    "\"\"\"\n",
    "drink = \"Available\"\n",
    "food = None\n",
    "def menu(x):\n",
    "    if x == drink:\n",
    "        print(drink)\n",
    "    else: \n",
    "        print(food)\n",
    "menu(drink)\n",
    "menu(food)"
   ]
  },
  {
   "cell_type": "markdown",
   "metadata": {},
   "source": [
    "#### Literal Collection in python"
   ]
  },
  {
   "cell_type": "code",
   "execution_count": 31,
   "metadata": {},
   "outputs": [
    {
     "name": "stdout",
     "output_type": "stream",
     "text": [
      "['mango', 'orange', 'apple']\n",
      "(2, 4, 6)\n",
      "{'a': 'apple', 'b': 'ball', 'c': 'cat'}\n",
      "{'u', 'e', 'o', 'a', 'i'}\n"
     ]
    }
   ],
   "source": [
    "\"\"\"\n",
    "four literal collections are available in python\n",
    "(1) List Literals\n",
    "(2) Tuple Literals\n",
    "(3) Dictionary Literal\n",
    "(4) Set Literal\n",
    "\"\"\"\n",
    "fruits = [\"mango\", \"orange\", \"apple\"] # list\n",
    "print(fruits)\n",
    "numbers = (2, 4, 6) # tuple\n",
    "print(numbers)\n",
    "alphabet = {'a': 'apple', 'b':'ball', 'c':'cat'} # dictionary\n",
    "print(alphabet)\n",
    "vowels = {'a', 'e', 'i', 'o', 'u'}\n",
    "print(vowels)"
   ]
  }
 ],
 "metadata": {
  "kernelspec": {
   "display_name": "Python 3 (ipykernel)",
   "language": "python",
   "name": "python3"
  },
  "language_info": {
   "codemirror_mode": {
    "name": "ipython",
    "version": 3
   },
   "file_extension": ".py",
   "mimetype": "text/x-python",
   "name": "python",
   "nbconvert_exporter": "python",
   "pygments_lexer": "ipython3",
   "version": "3.12.3"
  }
 },
 "nbformat": 4,
 "nbformat_minor": 4
}
