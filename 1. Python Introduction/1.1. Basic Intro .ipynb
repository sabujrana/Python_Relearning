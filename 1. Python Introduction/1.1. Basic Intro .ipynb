{
 "cells": [
  {
   "cell_type": "code",
   "execution_count": null,
   "id": "e3b79d07",
   "metadata": {},
   "outputs": [],
   "source": [
    "\"\"\"\n",
    "Python Introduction:\n",
    "\n",
    "(1) What is Python?\n",
    "-> Python is a popular programming language. It was created by Guido van Rossum, and released in 1991.\n",
    "\n",
    "(2)It is used for:\n",
    "(a) web development (server-side),\n",
    "(b) software development,\n",
    "(c) mathematics,\n",
    "(d) system scripting.\n",
    "\n",
    "(3)What can Python do?\n",
    "(a) Python can be used on a server to create web applications.\n",
    "(b) Python can be used alongside software to create workflows.\n",
    "(c) Python can connect to database systems. It can also read and modify files.\n",
    "(d) Python can be used to handle big data and perform complex mathematics.\n",
    "(e) Python can be used for rapid prototyping, or for production-ready software development.\n",
    "\n",
    "(4)Why Python?\n",
    "(a) Python works on different platforms (Windows, Mac, Linux, Raspberry Pi, etc).\n",
    "(b) Python has a simple syntax similar to the English language.\n",
    "(c) Python has syntax that allows developers to write programs with fewer lines than some other programming languages.\n",
    "(d) Python runs on an interpreter system, meaning that code can be executed as soon as it is written. This means that prototyping can be very quick.\n",
    "(e) Python can be treated in a procedural way, an object-oriented way or a functional way.\n",
    "\n",
    "(5)Good to know\n",
    "(a) The most recent major version of Python is Python 3, which we shall be using in this tutorial. However, Python 2, although not being updated with anything other than security updates, is still quite popular.\n",
    "(b) In this tutorial Python will be written in a text editor. It is possible to write Python in an Integrated Development Environment, such as Thonny, Pycharm, Netbeans or Eclipse which are particularly useful when managing larger collections of Python files.\n",
    "(c) Python Syntax compared to other programming languages\n",
    "(d) Python was designed for readability, and has some similarities to the English language with influence from mathematics.\n",
    "(e) Python uses new lines to complete a command, as opposed to other programming languages which often use semicolons or parentheses.\n",
    "(f) Python relies on indentation, using whitespace, to define scope; such as the scope of loops, functions and classes. Other programming languages often use curly-brackets for this purpose.\n",
    "\n",
    "\"\"\""
   ]
  }
 ],
 "metadata": {
  "kernelspec": {
   "display_name": "Python 3 (ipykernel)",
   "language": "python",
   "name": "python3"
  },
  "language_info": {
   "codemirror_mode": {
    "name": "ipython",
    "version": 3
   },
   "file_extension": ".py",
   "mimetype": "text/x-python",
   "name": "python",
   "nbconvert_exporter": "python",
   "pygments_lexer": "ipython3",
   "version": "3.12.3"
  }
 },
 "nbformat": 4,
 "nbformat_minor": 5
}
