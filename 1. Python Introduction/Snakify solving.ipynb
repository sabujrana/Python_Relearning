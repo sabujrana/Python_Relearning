{
 "cells": [
  {
   "cell_type": "markdown",
   "id": "46472a7b",
   "metadata": {},
   "source": [
    "### Snakify problem solving"
   ]
  },
  {
   "cell_type": "code",
   "execution_count": 1,
   "id": "d7b70334",
   "metadata": {},
   "outputs": [
    {
     "name": "stdout",
     "output_type": "stream",
     "text": [
      "Enter the value of number1: 1\n",
      "Enter the value of numeber2: 2\n",
      "Enter the value of number3: 3\n",
      "Sum of three numbers are: 6\n"
     ]
    }
   ],
   "source": [
    "\"\"\"\n",
    "Question1: Sum of Three numbers\n",
    "Write a program that takes three numbers and prints their sum. Every number is given on a separate line.\n",
    "\n",
    "\"\"\"\n",
    "number1 = int(input(\"Enter the value of number1: \"))\n",
    "number2 = int(input(\"Enter the value of numeber2: \"))\n",
    "number3 = int(input(\"Enter the value of number3: \"))\n",
    "sum_of_three = number1 + number2 + number3\n",
    "print(f\"Sum of three numbers are: {sum_of_three}\")"
   ]
  },
  {
   "cell_type": "code",
   "execution_count": 8,
   "id": "4e0b3420",
   "metadata": {},
   "outputs": [
    {
     "name": "stdout",
     "output_type": "stream",
     "text": [
      "Enter name: Sabuz\n",
      "Hi Sabuz \n"
     ]
    }
   ],
   "source": [
    "\"\"\"\n",
    "Question2: Greeting\n",
    "Write a program that greets the person by printing the word \"Hi\" and the name of the person. See the examples below.\n",
    "\n",
    "\"\"\"\n",
    "name = input(\"Enter name: \")\n",
    "# print(\"HI\"+\" \"+f\"{name}\")\n",
    "print(f\"Hi {name} \")\n"
   ]
  },
  {
   "cell_type": "code",
   "execution_count": 10,
   "id": "3c384fed",
   "metadata": {},
   "outputs": [
    {
     "name": "stdout",
     "output_type": "stream",
     "text": [
      "Enter a number: 4\n",
      "Square value is 16\n"
     ]
    }
   ],
   "source": [
    "\"\"\"\n",
    "Question3: Square\n",
    "Write a program that takes a number and print its square.\n",
    "\"\"\"\n",
    "number = int(input(\"Enter a number: \"))\n",
    "# square = number**2\n",
    "# print(square)\n",
    "print(f\"Square value is {number**2}\")"
   ]
  },
  {
   "cell_type": "code",
   "execution_count": 11,
   "id": "c7a38b64",
   "metadata": {},
   "outputs": [
    {
     "name": "stdout",
     "output_type": "stream",
     "text": [
      "Enter the value for length of the base: 15\n",
      "Enter the value for height: 3\n",
      "22.5\n"
     ]
    }
   ],
   "source": [
    "\"\"\"\n",
    "Question4: Areaa of right angle traingle\n",
    "Write a program that reads the length of the base and the height of a right-angled triangle and prints the area. Every number is given on a separate line.\n",
    "\n",
    "\"\"\"\n",
    "length_of_base = int(input(\"Enter the value for length of the base: \"))\n",
    "height = int(input(\"Enter the value for height: \"))\n",
    "Area = 0.5 * length_of_base * height\n",
    "print(Area)"
   ]
  },
  {
   "cell_type": "code",
   "execution_count": 13,
   "id": "32a31afa",
   "metadata": {},
   "outputs": [
    {
     "name": "stdout",
     "output_type": "stream",
     "text": [
      "Enter value for name: Sabuz\n",
      "hello , Sabuz!\n"
     ]
    }
   ],
   "source": [
    "\"\"\"\n",
    "Question5: Hello Harry !\n",
    "Write a program that greets the user by printing the word \"Hello\", a comma, the name of the user and an exclamation mark after it. See the examples below.\n",
    "Warning. Your program's output should strictly match the desired one, character by character. There shouldn't be any space between the name and the exclamation mark. You can use + operator to concatenate two strings. See the lesson for details.\n",
    "\n",
    "\n",
    "\"\"\"\n",
    "name = input(\"Enter value for name: \")\n",
    "print(f\"hello , {name}!\")"
   ]
  },
  {
   "cell_type": "code",
   "execution_count": 15,
   "id": "e21bb12e",
   "metadata": {},
   "outputs": [
    {
     "name": "stdout",
     "output_type": "stream",
     "text": [
      "Enter the number of students6\n",
      "Enter the number of apples to distribute: 50\n",
      "The apple remaining in basket are: 2.\n",
      "8 is the number apple of got by each students.\n"
     ]
    }
   ],
   "source": [
    "\"\"\"\n",
    "Question6: Apple Sharing\n",
    "N students take K apples and distribute them among each other evenly. The remaining (the undivisible) part remains in the basket. How many apples will each single student get? How many apples will remain in the basket?\n",
    "The program reads the numbers N and K. It should print the two answers for the questions above.\n",
    "\n",
    "\"\"\"\n",
    "N = int(input(\"Enter the number of students\"))\n",
    "K = int(input(\"Enter the number of apples to distribute: \"))\n",
    "basket_value = K % N\n",
    "apple_for_each_student = K // N\n",
    "print(f\"The apple remaining in basket are: {basket_value}.\")\n",
    "print(f\"{apple_for_each_student} is the number apple of got by each students.\")"
   ]
  },
  {
   "cell_type": "code",
   "execution_count": 17,
   "id": "127c7c54",
   "metadata": {},
   "outputs": [
    {
     "name": "stdout",
     "output_type": "stream",
     "text": [
      "Enter the number: 0\n",
      "The next number for the number 0 is 1.\n",
      "The previous number for the number 0 is -1.\n"
     ]
    }
   ],
   "source": [
    "\"\"\"\n",
    "Question7: Previous and Next\n",
    "Write a program that reads an integer number and prints its previous and next numbers. See the examples below for the exact format your answers should take. There shouldn't be a space before the period.\n",
    "Remember that you can convert the numbers to strings using the function str.\n",
    "\"\"\"\n",
    "number = int(input(\"Enter the number: \"))\n",
    "previous_number = number - 1\n",
    "next_number = number + 1\n",
    "print(f\"The next number for the number {number} is {next_number}.\")\n",
    "print(f\"The previous number for the number {number} is {previous_number}.\")"
   ]
  },
  {
   "cell_type": "code",
   "execution_count": 3,
   "id": "71ac58fa",
   "metadata": {},
   "outputs": [
    {
     "name": "stdout",
     "output_type": "stream",
     "text": [
      "Enter the value for first hour: 10\n",
      "Enter the value for first minute: 8\n",
      "Enter the value for first seconds: 2\n",
      "Enter the value fo second hour: 10\n",
      "Enter the value for second minute: 8\n",
      "Enter the value for second seconds: 2\n",
      "0\n"
     ]
    }
   ],
   "source": [
    "\"\"\"\n",
    "Question8: Two timestamp\n",
    "A timestamp is three numbers: a number of hours, minutes and seconds. Given two timestamps, calculate how many seconds is between them. The moment of the first timestamp occurred before the moment of the second timestamp.\n",
    "\"\"\"\n",
    "first_input_hours = int(input(\"Enter the value for first hour: \"))\n",
    "first_input_minute = int(input(\"Enter the value for first minute: \"))\n",
    "first_input_seconds = int(input(\"Enter the value for first seconds: \"))\n",
    "second_input_hours = int(input(\"Enter the value fo second hour: \"))\n",
    "second_input_minute = int(input(\"Enter the value for second minute: \"))\n",
    "second_input_second = int(input(\"Enter the value for second seconds: \"))\n",
    "first_input_total_seconds = (first_input_hours*60*60) + (first_input_minute*60) + first_input_seconds\n",
    "second_input_total_seconds = (second_input_hours*60*60) + (second_input_minute*60) + second_input_second\n",
    "total_second_difference = second_input_total_seconds - first_input_total_seconds\n",
    "print(total_second_difference)"
   ]
  },
  {
   "cell_type": "code",
   "execution_count": 6,
   "id": "1c9e4deb",
   "metadata": {},
   "outputs": [
    {
     "name": "stdout",
     "output_type": "stream",
     "text": [
      "Enter the number of students: 17\n",
      "Enter the number of students: 19\n",
      "Enter the number of students: 18\n",
      "28\n"
     ]
    }
   ],
   "source": [
    "\"\"\"\n",
    "Question9: School Desks\n",
    "A school decided to replace the desks in three classrooms. Each desk sits two students. Given the number of students in each class, print the smallest possible number of desks that can be purchased.\n",
    "The program should read three integers: the number of students in each of the three classes, a, b and c respectively.\n",
    "\n",
    "In the first test there are three groups. The first group has 20 students and thus needs 10 desks. The second group has 21 students, so they can get by with no fewer than 11 desks. 11 desks is also enough for the third group of 22 students. So we need 32 desks in total.\n",
    "\n",
    "\n",
    "\"\"\"\n",
    "first_class_students_number = int(input(\"Enter the number of students: \"))\n",
    "number_of_bench_for_first_class = (first_class_students_number % 2) + (first_class_students_number // 2)\n",
    "second_class_students_number = int(input(\"Enter the number of students: \"))\n",
    "number_of_bench_for_second_class = (second_class_students_number % 2) + (second_class_students_number // 2)\n",
    "third_class_students_number = int(input(\"Enter the number of students: \"))\n",
    "number_of_bench_for_third_class = (third_class_students_number % 2) + (third_class_students_number // 2)\n",
    "total_bench = number_of_bench_for_first_class + number_of_bench_for_second_class + number_of_bench_for_third_class\n",
    "print(total_bench)"
   ]
  },
  {
   "cell_type": "markdown",
   "id": "d7be2d77",
   "metadata": {},
   "source": [
    "## Integer and float Number"
   ]
  },
  {
   "cell_type": "code",
   "execution_count": 1,
   "id": "9e02b7b2",
   "metadata": {},
   "outputs": [
    {
     "name": "stdout",
     "output_type": "stream",
     "text": [
      "Enter the value for number: 179\n",
      "9\n"
     ]
    }
   ],
   "source": [
    "\"\"\" \n",
    "Question1: Last digit of interger\n",
    "Given an integer number, print its last digit.\n",
    "\"\"\"\n",
    "number = int(input(\"Enter the value for number: \"))\n",
    "last_digit = number % 10\n",
    "print(last_digit)\n"
   ]
  },
  {
   "cell_type": "code",
   "execution_count": 2,
   "id": "1ce0a91c",
   "metadata": {},
   "outputs": [
    {
     "name": "stdout",
     "output_type": "stream",
     "text": [
      "Enter the value for number: 1234\n",
      "3\n"
     ]
    }
   ],
   "source": [
    "\"\"\"\n",
    "Question2: Tens Digit\n",
    "Given an integer. Print its tens digit.\n",
    "\"\"\"\n",
    "number = int(input(\"Enter the value for number: \"))\n",
    "tens_digit = ((number//10)%10)\n",
    "print(tens_digit)\n"
   ]
  },
  {
   "cell_type": "code",
   "execution_count": 5,
   "id": "253ecd9a",
   "metadata": {},
   "outputs": [
    {
     "name": "stdout",
     "output_type": "stream",
     "text": [
      "Enter the value for number: 792\n",
      "18\n"
     ]
    }
   ],
   "source": [
    "\"\"\"\n",
    "Question3: Sum of digits\n",
    "Given a three-digit number. Find the sum of its digits.\n",
    "\n",
    "\"\"\"\n",
    "number = int(input(\"Enter the value for number: \"))\n",
    "last_digit = number%10\n",
    "tens_digit = ((number//10)%10)\n",
    "hundred_digit = ((number//100)%10)\n",
    "sum_of_digit = last_digit + tens_digit + hundred_digit\n",
    "print(sum_of_digit)"
   ]
  },
  {
   "cell_type": "code",
   "execution_count": 9,
   "id": "c2d6783c",
   "metadata": {},
   "outputs": [
    {
     "name": "stdout",
     "output_type": "stream",
     "text": [
      "Enter the value for number: 19.99\n",
      "0.9899999999999984\n"
     ]
    }
   ],
   "source": [
    "\"\"\"\n",
    "Question4: Fractional part\n",
    "Given a positive real number, print its fractional part.\n",
    "\n",
    "\"\"\"\n",
    "number = float(input(\"Enter the value for number: \"))\n",
    "fractional_part = float(number % 1)\n",
    "print(fractional_part)"
   ]
  },
  {
   "cell_type": "code",
   "execution_count": 13,
   "id": "ced0f795",
   "metadata": {},
   "outputs": [
    {
     "name": "stdout",
     "output_type": "stream",
     "text": [
      "Enter the value for number: 1.78\n",
      "7\n"
     ]
    }
   ],
   "source": [
    "\"\"\"\n",
    "Question5: First digit after decimal point\n",
    "Given a positive real number, print its first digit to the right of the decimal point.\n",
    "\"\"\"\n",
    "number = float(input(\"Enter the value for number: \"))\n",
    "fractional_part = float(number%1)\n",
    "first_digit = int(fractional_part * 10)\n",
    "print(first_digit)"
   ]
  },
  {
   "cell_type": "code",
   "execution_count": 4,
   "id": "b12ddc6b",
   "metadata": {},
   "outputs": [
    {
     "name": "stdout",
     "output_type": "stream",
     "text": [
      "Enter the distance that can cover in kilometers: 123\n",
      "Enter the distance to cover: 234234\n",
      "1905\n"
     ]
    }
   ],
   "source": [
    "\"\"\"\n",
    "Question6: Car route\n",
    "A car can cover distance of N kilometers per day. How many days will it take to cover a route of length M kilometers? The program gets two numbers: N and M.\n",
    "\n",
    "\"\"\"\n",
    "from math import ceil as c\n",
    "N = int(input(\"Enter the distance that can cover in kilometers: \"))\n",
    "M = int(input(\"Enter the distance to cover: \"))\n",
    "day = c(M / N) \n",
    "print(day)\n"
   ]
  },
  {
   "cell_type": "code",
   "execution_count": 6,
   "id": "854c204d",
   "metadata": {},
   "outputs": [
    {
     "name": "stdout",
     "output_type": "stream",
     "text": [
      "Enter the value: 1439\n",
      "23, 59\n"
     ]
    }
   ],
   "source": [
    "\"\"\"\n",
    "Question7: Digital Clock\n",
    "Given the integer N - the number of minutes that is passed since midnight - how many hours and minutes are displayed on the 24h digital clock?\n",
    "The program should print two numbers: the number of hours (between 0 and 23) and the number of minutes (between 0 and 59).\n",
    "\n",
    "For example, if N = 150, then 150 minutes have passed since midnight - i.e. now is 2:30 am. So the program should print 2 30.\n",
    "\"\"\"\n",
    "total_time_in_minutes = int(input(\"Enter the value: \"))\n",
    "hours = total_time_in_minutes // 60\n",
    "minutes = total_time_in_minutes % 60\n",
    "print(f\"{hours}, {minutes}\")"
   ]
  },
  {
   "cell_type": "code",
   "execution_count": 9,
   "id": "0f185cd6",
   "metadata": {},
   "outputs": [
    {
     "name": "stdout",
     "output_type": "stream",
     "text": [
      "Enter dollor price: 1886\n",
      "Enter cents price: 73\n",
      "Enter the number of cupcakes to buy: 295\n",
      "556585, 35\n"
     ]
    }
   ],
   "source": [
    "\"\"\"\n",
    "Question8: Total cost \n",
    "A cupcake costs A dollars and B cents. Determine, how many dollars and cents should one pay for N cupcakes. A program gets three numbers: A, B, N. It should print two numbers: total cost in dollars and cents.\n",
    "\n",
    "\"\"\"\n",
    "A = int(input(\"Enter dollor price: \"))\n",
    "B = int(input(\"Enter cents price: \"))\n",
    "N = int(input(\"Enter the number of cupcakes to buy: \"))\n",
    "total_price_in_cents = (A * 100) + B\"\n",
    "price_per_n_in_dollor = (total_price_in_cents * N)//100\n",
    "price_per_n_in_cents = (total_price_in_cents*N) % 100\n",
    "print(f\"{price_per_n_in_dollor}, {price_per_n_in_cents}\")"
   ]
  },
  {
   "cell_type": "code",
   "execution_count": 15,
   "id": "3ef30777",
   "metadata": {},
   "outputs": [
    {
     "name": "stdout",
     "output_type": "stream",
     "text": [
      "Enter the value for hour: 11\n",
      "Enter the value for minutes: 59\n",
      "Enter the value for seconds: 59\n",
      "359.9916666666667\n"
     ]
    }
   ],
   "source": [
    "\"\"\"\n",
    "Question9: Clock face - 1\n",
    "H hours, M minutes and S seconds are passed since the midnight (0 ≤ H < 12, 0 ≤ M < 60, 0 ≤ S < 60). Determine the angle (in degrees) of the hour hand on the clock face right now.\n",
    "\"\"\"\n",
    "H = int(input(\"Enter the value for hour: \"))\n",
    "M = int(input(\"Enter the value for minutes: \"))\n",
    "S = int(input(\"Enter the value for seconds: \"))\n",
    "total_degrees = ((360/12)*H) + ((360/(12*60))*M) + ((360/(12*60*60))*S)\n",
    "print(total_degrees)"
   ]
  },
  {
   "cell_type": "code",
   "execution_count": 19,
   "id": "7e9b8108",
   "metadata": {},
   "outputs": [
    {
     "name": "stdout",
     "output_type": "stream",
     "text": [
      "Enter the value of hour hand in degree: 59\n",
      "348.0\n"
     ]
    }
   ],
   "source": [
    "\"\"\"\n",
    "Question10: Clock face - 2\n",
    "Hour hand turned by α degrees since the midnight. Determine the angle by which minute hand turned since the start of the current hour. Input and output in this problems are floating-point numbers.\n",
    "\"\"\"\n",
    "\"\"\"\n",
    "Hour hand move 0.5 degree per minute\n",
    "Min hand move 6 degree per minutes\n",
    "\"\"\"\n",
    "value_of_hour_hand_degree = float(input(\"Enter the value of hour hand in degree: \"))\n",
    "total_minutes_passed = value_of_hour_hand_degree * 2\n",
    "remaining_min_from_total_minutes = total_minutes_passed % 60\n",
    "total_degree = remaining_min_from_total_minutes * 6\n",
    "print(total_degree)"
   ]
  },
  {
   "cell_type": "code",
   "execution_count": null,
   "id": "3dc32266",
   "metadata": {},
   "outputs": [],
   "source": []
  }
 ],
 "metadata": {
  "kernelspec": {
   "display_name": "Python 3 (ipykernel)",
   "language": "python",
   "name": "python3"
  },
  "language_info": {
   "codemirror_mode": {
    "name": "ipython",
    "version": 3
   },
   "file_extension": ".py",
   "mimetype": "text/x-python",
   "name": "python",
   "nbconvert_exporter": "python",
   "pygments_lexer": "ipython3",
   "version": "3.12.3"
  }
 },
 "nbformat": 4,
 "nbformat_minor": 5
}
