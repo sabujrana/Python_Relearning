{
 "cells": [
  {
   "cell_type": "code",
   "execution_count": 1,
   "id": "257b9a08",
   "metadata": {},
   "outputs": [
    {
     "data": {
      "text/plain": [
       "'\\n-> Everything is object in python.\\n-> data types are classes and variables are instance(object) of these classes.\\nImportant data types of python:\\n(1) Numbers\\n(2) List\\n(3) Tuple\\n(4) String\\n(5) Set\\n(6) Dictionary\\n'"
      ]
     },
     "execution_count": 1,
     "metadata": {},
     "output_type": "execute_result"
    }
   ],
   "source": [
    "\"\"\"\n",
    "-> Everything is object in python.\n",
    "-> data types are classes and variables are instance(object) of these classes.\n",
    "Important data types of python:\n",
    "(1) Numbers\n",
    "(2) List\n",
    "(3) Tuple\n",
    "(4) String\n",
    "(5) Set\n",
    "(6) Dictionary\n",
    "\"\"\""
   ]
  },
  {
   "cell_type": "markdown",
   "id": "cd37b496",
   "metadata": {},
   "source": [
    "### Python Numbers"
   ]
  },
  {
   "cell_type": "code",
   "execution_count": 3,
   "id": "fe984f8a",
   "metadata": {},
   "outputs": [
    {
     "name": "stdout",
     "output_type": "stream",
     "text": [
      "Integer Section\n",
      "22\n",
      "<class 'int'>\n",
      "True\n",
      "Float Section\n",
      "24.56\n",
      "<class 'float'>\n",
      "True\n",
      "Complex number section\n",
      "(2+3j)\n",
      "<class 'complex'>\n",
      "True\n"
     ]
    }
   ],
   "source": [
    "\"\"\"\n",
    "Number are also of three types:\n",
    "(i) Integer: can be of any length, limited by the memory\n",
    "(ii) Float: accurate upto 15 decimal places, separated by decimal points\n",
    "(iii) Complex: consist of real and imaginary no(i.e real+imag*j)\n",
    "we can use type() to know which class a variable or value belongs to.\n",
    "isinstance() function cna be used to check if an object belongs to paricular class.\n",
    "\"\"\"\n",
    "print(\"Integer Section\")\n",
    "age = 22 # integer\n",
    "print(age)\n",
    "print(type(age))\n",
    "print(isinstance(age,int))\n",
    "\n",
    "print(\"Float Section\")\n",
    "price = 24.56 # float\n",
    "print(price)\n",
    "print(type(price))\n",
    "print(isinstance(price,float))\n",
    "\n",
    "print(\"Complex number section\")\n",
    "number = 2+3j # complex\n",
    "print(number)\n",
    "print(type(number))\n",
    "print(isinstance(number,complex))"
   ]
  },
  {
   "cell_type": "markdown",
   "id": "a8ca4c9c",
   "metadata": {},
   "source": [
    "## Python List"
   ]
  },
  {
   "cell_type": "code",
   "execution_count": 4,
   "id": "99fce2dd",
   "metadata": {},
   "outputs": [
    {
     "name": "stdout",
     "output_type": "stream",
     "text": [
      "[3, (3+4j), 'hello', 20.5]\n"
     ]
    }
   ],
   "source": [
    "\"\"\"\n",
    "-> ordered sequence of items\n",
    "-> mutable, i.e elements of list can be altered\n",
    "-> different type of items are supported\n",
    "-> items are separated by comma inside of the brackets[]\n",
    "\"\"\"\n",
    "\n",
    "list_example = [3, 3+4j, \"hello\", 20.5]\n",
    "print(list_example)"
   ]
  },
  {
   "cell_type": "code",
   "execution_count": 5,
   "id": "9f13e76f",
   "metadata": {},
   "outputs": [
    {
     "name": "stdout",
     "output_type": "stream",
     "text": [
      "[3, (3+4j), 'hello', 20.5]\n",
      "20.5\n",
      "[3, (3+4j), 'hello', 20.5]\n",
      "['hello', 20.5]\n",
      "[2, 4, 6, 8]\n",
      "[2, 4, 5, 8]\n"
     ]
    }
   ],
   "source": [
    "\"\"\"\n",
    "-> slicing of the list using slicing operator []\n",
    "-> indexing starts from 0 \n",
    "\"\"\"\n",
    "print(list_example)\n",
    "print(list_example[3])\n",
    "print(list_example[:])\n",
    "print(list_example[2:])\n",
    "\n",
    "number = [2, 4, 6, 8]\n",
    "print(number)\n",
    "number[2] = 5\n",
    "print(number)"
   ]
  },
  {
   "cell_type": "markdown",
   "id": "c3273b84",
   "metadata": {},
   "source": [
    "## Python String"
   ]
  },
  {
   "cell_type": "code",
   "execution_count": 6,
   "id": "74f3ca44",
   "metadata": {},
   "outputs": [
    {
     "name": "stdout",
     "output_type": "stream",
     "text": [
      "Hey, how are you?\n",
      " Hello \n",
      "It's me Sabuj.\n"
     ]
    }
   ],
   "source": [
    "\"\"\"\n",
    "-> Sequence of unicode characters\n",
    "-> can use single, double quotes for string representation\n",
    "-> multi-line strings can be denoted using triple quotes\n",
    "\"\"\"\n",
    "string_example = \"Hey, how are you?\"\n",
    "print(string_example)\n",
    "\n",
    "multiline_string_example = ''' Hello \n",
    "It's me Sabuj.'''\n",
    "print(multiline_string_example)"
   ]
  },
  {
   "cell_type": "code",
   "execution_count": 7,
   "id": "762caaa6",
   "metadata": {},
   "outputs": [
    {
     "name": "stdout",
     "output_type": "stream",
     "text": [
      "i\n",
      "This \n",
      "is python string short description.\n"
     ]
    }
   ],
   "source": [
    "\"\"\"\n",
    "-> slicing can be done using slicing operator []\n",
    "-> string are immutable\n",
    "\"\"\"\n",
    "this_example = \"This is python string short description.\"\n",
    "print(this_example[5])\n",
    "print(this_example[:5])\n",
    "print(this_example[5:])\n",
    "\n",
    "#print(this_example[:5] = \"Hello\") # error will raised "
   ]
  },
  {
   "cell_type": "markdown",
   "id": "90df1d79",
   "metadata": {},
   "source": [
    "## Python Set"
   ]
  },
  {
   "cell_type": "code",
   "execution_count": 9,
   "id": "55522df2",
   "metadata": {},
   "outputs": [
    {
     "name": "stdout",
     "output_type": "stream",
     "text": [
      "{1, 2, 3, 5, 7, 11, 13, 17}\n",
      "<class 'set'>\n"
     ]
    }
   ],
   "source": [
    "\"\"\"\n",
    "-> Unordered collection of unique items\n",
    "-> values are separated by comma inside {}\n",
    "-> Items are not ordered\n",
    "-> can perform union intersection, symmetric difference between two sets of unique value\n",
    "->> Indexing and slicing can't be perform in sets due to unordered collection of items\n",
    "\"\"\"\n",
    "\n",
    "set_example = {1, 2, 3, 5, 7, 11, 13, 17}\n",
    "print(set_example)\n",
    "print(type(set_example))"
   ]
  },
  {
   "cell_type": "markdown",
   "id": "2f768570",
   "metadata": {},
   "source": [
    "## Python Dictionary"
   ]
  },
  {
   "cell_type": "code",
   "execution_count": 10,
   "id": "f7f9498b",
   "metadata": {},
   "outputs": [
    {
     "name": "stdout",
     "output_type": "stream",
     "text": [
      "{1: 'value1', 'key1': 23}\n",
      "<class 'dict'>\n",
      "value1\n",
      "23\n"
     ]
    }
   ],
   "source": [
    "\"\"\"\n",
    "-> Dictionary is an unordered collection of key-value pairs.\n",
    "-> defined within braces{} separated by comma between the key value pair\n",
    "-> key:value; where key and value can be of any type\n",
    "\"\"\"\n",
    "\n",
    "dictionary_example = {1: \"value1\", \"key1\": 23}\n",
    "print(dictionary_example)\n",
    "print(type(dictionary_example))\n",
    "#retrieving\n",
    "print(dictionary_example[1])\n",
    "print(dictionary_example[\"key1\"])"
   ]
  },
  {
   "cell_type": "markdown",
   "id": "8347b2da",
   "metadata": {},
   "source": [
    "### Data type Conversion"
   ]
  },
  {
   "cell_type": "code",
   "execution_count": null,
   "id": "ef461700",
   "metadata": {},
   "outputs": [],
   "source": [
    "\"\"\"\n",
    "we can convert data using various conversion function.\n",
    "Eg: str(), float(), int(), bin(), tuple(), dict(), list()\n",
    "\"\"\""
   ]
  }
 ],
 "metadata": {
  "kernelspec": {
   "display_name": "Python 3 (ipykernel)",
   "language": "python",
   "name": "python3"
  },
  "language_info": {
   "codemirror_mode": {
    "name": "ipython",
    "version": 3
   },
   "file_extension": ".py",
   "mimetype": "text/x-python",
   "name": "python",
   "nbconvert_exporter": "python",
   "pygments_lexer": "ipython3",
   "version": "3.12.3"
  }
 },
 "nbformat": 4,
 "nbformat_minor": 5
}
