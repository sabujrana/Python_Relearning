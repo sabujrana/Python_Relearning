{
 "cells": [
  {
   "cell_type": "code",
   "execution_count": 1,
   "metadata": {},
   "outputs": [
    {
     "name": "stdout",
     "output_type": "stream",
     "text": [
      "The Zen of Python, by Tim Peters\n",
      "\n",
      "Beautiful is better than ugly.\n",
      "Explicit is better than implicit.\n",
      "Simple is better than complex.\n",
      "Complex is better than complicated.\n",
      "Flat is better than nested.\n",
      "Sparse is better than dense.\n",
      "Readability counts.\n",
      "Special cases aren't special enough to break the rules.\n",
      "Although practicality beats purity.\n",
      "Errors should never pass silently.\n",
      "Unless explicitly silenced.\n",
      "In the face of ambiguity, refuse the temptation to guess.\n",
      "There should be one-- and preferably only one --obvious way to do it.\n",
      "Although that way may not be obvious at first unless you're Dutch.\n",
      "Now is better than never.\n",
      "Although never is often better than *right* now.\n",
      "If the implementation is hard to explain, it's a bad idea.\n",
      "If the implementation is easy to explain, it may be a good idea.\n",
      "Namespaces are one honking great idea -- let's do more of those!\n"
     ]
    }
   ],
   "source": [
    "import this"
   ]
  },
  {
   "cell_type": "code",
   "execution_count": 3,
   "metadata": {},
   "outputs": [
    {
     "name": "stdout",
     "output_type": "stream",
     "text": [
      "9785952\n",
      "9785952\n"
     ]
    }
   ],
   "source": [
    "a = 34\n",
    "print(id(34))\n",
    "print(id(a))\n",
    "## both refer to same object 34 so they have same id()\n"
   ]
  },
  {
   "cell_type": "code",
   "execution_count": 5,
   "metadata": {},
   "outputs": [
    {
     "name": "stdout",
     "output_type": "stream",
     "text": [
      "Count Section\n",
      "9785280\n",
      "9785280\n",
      "incresed count section\n",
      "9785312\n",
      "9785312\n",
      "Number section\n",
      "9785280\n",
      "9785280\n"
     ]
    }
   ],
   "source": [
    "count = 13\n",
    "print(\"Count Section\")\n",
    "print(id(count))\n",
    "print(id(13))\n",
    "\n",
    "print(\"incresed count section\")\n",
    "count += 1\n",
    "print(id(count))\n",
    "print(id(14))\n",
    "\n",
    "print(\"Number section\")\n",
    "number = 13\n",
    "print(id(number))\n",
    "print(id(13))"
   ]
  },
  {
   "cell_type": "code",
   "execution_count": 7,
   "metadata": {},
   "outputs": [
    {
     "name": "stdout",
     "output_type": "stream",
     "text": [
      "Hello everybody\n"
     ]
    }
   ],
   "source": [
    "\"\"\"\n",
    "Function are objects too, so name can refer to them as well\n",
    "\"\"\"\n",
    "def helloExample():\n",
    "    print(\"Hello everybody\")\n",
    "obj1 = helloExample # obj1 refer to function\n",
    "obj1()# function call"
   ]
  },
  {
   "cell_type": "markdown",
   "metadata": {},
   "source": [
    "### Namespace in Python"
   ]
  },
  {
   "cell_type": "code",
   "execution_count": 10,
   "metadata": {},
   "outputs": [
    {
     "data": {
      "text/plain": [
       "\"\\n-> namespace is collection of names\\n-> we can imagine namespace is the mapping of every name we defined to corresponding object\\n-> different namespace can co-exist at similar time but completely isolated\\n->namespace containing all built-in names is created when we start interpreter and exists as long as interpreterrun\\n-> that's why id(), print() can use easily, each module create it's own global namespace\\n-> these different namespace are isolated hence, same name that may exist in different module does not collide\\n-> modules can have various function and classes.\\n-> local namespace is created when function is called, which has all name defined in it.(similar with class) \\n\""
      ]
     },
     "execution_count": 10,
     "metadata": {},
     "output_type": "execute_result"
    }
   ],
   "source": [
    "\"\"\"\n",
    "-> namespace is collection of names\n",
    "-> we can imagine namespace is the mapping of every name we defined to corresponding object\n",
    "-> different namespace can co-exist at similar time but completely isolated\n",
    "->namespace containing all built-in names is created when we start interpreter and exists as long as interpreterrun\n",
    "-> that's why id(), print() can use easily, each module create it's own global namespace\n",
    "-> these different namespace are isolated hence, same name that may exist in different module does not collide\n",
    "-> modules can have various function and classes.\n",
    "-> local namespace is created when function is called, which has all name defined in it.(similar with class) \n",
    "\"\"\"\n"
   ]
  },
  {
   "cell_type": "markdown",
   "metadata": {},
   "source": [
    "## Python Variable Scope"
   ]
  },
  {
   "cell_type": "code",
   "execution_count": 11,
   "metadata": {},
   "outputs": [
    {
     "data": {
      "text/plain": [
       "'\\nAlthough various unique name space is defined, we may not be able to access all of them from every part of program.\\nThen the concept of scope is come into play.\\n\\nScope: portion of program from where namespace can be accessed directly without any prefix\\n\\nAt any given moment, there are at least 3 nested scopes:\\n(1) Scope of current function which has local name\\n(2) scope of module which has global name\\n(3) Outermost scope which has built-in name\\n\\n--> When reference is made inside a function, name is searched in local namespace, then global namespace and \\nfinally into the built-in namespace.\\n--> If tehre is nested function, new scope is nested inside local scope\\n'"
      ]
     },
     "execution_count": 11,
     "metadata": {},
     "output_type": "execute_result"
    }
   ],
   "source": [
    "\"\"\"\n",
    "Although various unique name space is defined, we may not be able to access all of them from every part of program.\n",
    "Then the concept of scope is come into play.\n",
    "\n",
    "Scope: portion of program from where namespace can be accessed directly without any prefix\n",
    "\n",
    "At any given moment, there are at least 3 nested scopes:\n",
    "(1) Scope of current function which has local name\n",
    "(2) scope of module which has global name\n",
    "(3) Outermost scope which has built-in name\n",
    "\n",
    "--> When reference is made inside a function, name is searched in local namespace, then global namespace and \n",
    "finally into the built-in namespace.\n",
    "--> If tehre is nested function, new scope is nested inside local scope\n",
    "\"\"\""
   ]
  },
  {
   "cell_type": "code",
   "execution_count": 12,
   "metadata": {},
   "outputs": [
    {
     "data": {
      "text/plain": [
       "'\\na --> global namespace\\nb --> localnamespace\\nc --> nested loaclnamespace\\n\\nWhile we are in inside inner_function:\\nc --> local namespace\\nb --> nonlocal\\na --> global\\ncan read and assign c\\nonly read for b and a\\n->if we assign a value to \"b\", new variable name \"b\" is created in local namespace which is different than \\n  nonlocal \"b\" similar case will happen if we assign a value to \"a\" however if we declare \"a\" as global, all \\n  reference goto global \"a\", similarly if we want to rebind \"b\", it must be declare as nonlocal \\n  \\n\\n'"
      ]
     },
     "execution_count": 12,
     "metadata": {},
     "output_type": "execute_result"
    }
   ],
   "source": [
    "## imortant Example\n",
    "def outer_function():\n",
    "    b = 15\n",
    "    def inner_function():\n",
    "        c = 20\n",
    "        \n",
    "a = 25\n",
    "\"\"\"\n",
    "a --> global namespace\n",
    "b --> localnamespace\n",
    "c --> nested loaclnamespace\n",
    "\n",
    "While we are in inside inner_function:\n",
    "c --> local namespace\n",
    "b --> nonlocal\n",
    "a --> global\n",
    "can read and assign c\n",
    "only read for b and a\n",
    "->if we assign a value to \"b\", new variable name \"b\" is created in local namespace which is different than \n",
    "  nonlocal \"b\" similar case will happen if we assign a value to \"a\" however if we declare \"a\" as global, all \n",
    "  reference goto global \"a\", similarly if we want to rebind \"b\", it must be declare as nonlocal \n",
    "  \n",
    "\n",
    "\"\"\""
   ]
  },
  {
   "cell_type": "code",
   "execution_count": 15,
   "metadata": {},
   "outputs": [
    {
     "name": "stdout",
     "output_type": "stream",
     "text": [
      "30\n",
      "15\n",
      "10\n"
     ]
    },
    {
     "data": {
      "text/plain": [
       "'\\nThree different variables \"a\" are defined in separate namespaces and access accordingly.\\n'"
      ]
     },
     "execution_count": 15,
     "metadata": {},
     "output_type": "execute_result"
    }
   ],
   "source": [
    "def outer_function():\n",
    "    a = 15\n",
    "    \n",
    "    def inner_function():\n",
    "        a = 30 \n",
    "        print(a)\n",
    "    inner_function()\n",
    "    print(a)\n",
    "a = 10\n",
    "outer_function()\n",
    "print(a)\n",
    "\"\"\"\n",
    "Three different variables \"a\" are defined in separate namespaces and access accordingly.\n",
    "\"\"\""
   ]
  },
  {
   "cell_type": "code",
   "execution_count": 17,
   "metadata": {},
   "outputs": [
    {
     "name": "stdout",
     "output_type": "stream",
     "text": [
      "30\n",
      "30\n",
      "30\n"
     ]
    },
    {
     "data": {
      "text/plain": [
       "'\\nAll references and assignments are to the global a due to \"global\" keyword\\n'"
      ]
     },
     "execution_count": 17,
     "metadata": {},
     "output_type": "execute_result"
    }
   ],
   "source": [
    "def outer_function():\n",
    "    global a \n",
    "    a = 20\n",
    "    \n",
    "    def inner_function():\n",
    "        global a\n",
    "        a = 30\n",
    "        print(a)\n",
    "        \n",
    "    inner_function()\n",
    "    print(a)\n",
    "    \n",
    "a = 10\n",
    "a = outer_function\n",
    "a()\n",
    "print(a)\n",
    "\"\"\"\n",
    "All references and assignments are to the global a due to \"global\" keyword\n",
    "\"\"\""
   ]
  }
 ],
 "metadata": {
  "kernelspec": {
   "display_name": "Python 3 (ipykernel)",
   "language": "python",
   "name": "python3"
  },
  "language_info": {
   "codemirror_mode": {
    "name": "ipython",
    "version": 3
   },
   "file_extension": ".py",
   "mimetype": "text/x-python",
   "name": "python",
   "nbconvert_exporter": "python",
   "pygments_lexer": "ipython3",
   "version": "3.12.3"
  }
 },
 "nbformat": 4,
 "nbformat_minor": 4
}
