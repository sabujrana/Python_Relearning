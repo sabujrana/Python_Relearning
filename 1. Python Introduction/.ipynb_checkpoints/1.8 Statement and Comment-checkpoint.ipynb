{
 "cells": [
  {
   "cell_type": "markdown",
   "metadata": {},
   "source": [
    "## Python Statement"
   ]
  },
  {
   "cell_type": "code",
   "execution_count": 1,
   "metadata": {},
   "outputs": [
    {
     "data": {
      "text/plain": [
       "'\\n(1) Statement are those instruction which can be execute by interpreter. \\n(2) Eg a = 1 is assignement statement. for, while are other example of statement\\n'"
      ]
     },
     "execution_count": 1,
     "metadata": {},
     "output_type": "execute_result"
    }
   ],
   "source": [
    "\"\"\"\n",
    "(1) Statement are those instruction which can be execute by interpreter. \n",
    "(2) Eg a = 1 is assignement statement. for, while are other example of statement\n",
    "\"\"\""
   ]
  },
  {
   "cell_type": "markdown",
   "metadata": {},
   "source": [
    "### Multiline Statement"
   ]
  },
  {
   "cell_type": "code",
   "execution_count": 3,
   "metadata": {},
   "outputs": [
    {
     "name": "stdout",
     "output_type": "stream",
     "text": [
      "25\n"
     ]
    }
   ],
   "source": [
    "\"\"\"\n",
    "(1) end of staement is marked by newline character\n",
    "(2) can extend statement over multipe line using continuation character (\\)\n",
    "\"\"\"\n",
    "a = 1 + 3 + \\\n",
    "    5 + 7 + \\\n",
    "    9\n",
    "print(a)"
   ]
  },
  {
   "cell_type": "code",
   "execution_count": 6,
   "metadata": {},
   "outputs": [
    {
     "name": "stdout",
     "output_type": "stream",
     "text": [
      "22\n",
      "['Ram', 'Shyam', 'Hari']\n"
     ]
    }
   ],
   "source": [
    "\"\"\"\n",
    "(1) The above example is explicit line continuation\n",
    "(2) We can use parenthesis (), brackets [] and braces {} for line continuation, this will be known as implicit\n",
    "\"\"\"\n",
    "total_sum = (1 + 2 +\n",
    "             3 + 4 +\n",
    "            5 + 7)\n",
    "print(total_sum)\n",
    "\n",
    "names = [\"Ram\",\n",
    "        \"Shyam\",\n",
    "        \"Hari\"\n",
    "       ]\n",
    "print(names)\n"
   ]
  },
  {
   "cell_type": "code",
   "execution_count": 7,
   "metadata": {},
   "outputs": [
    {
     "name": "stdout",
     "output_type": "stream",
     "text": [
      "20\n",
      "25\n",
      "22\n"
     ]
    }
   ],
   "source": [
    "\"\"\"\n",
    "we can also write multiple statement in single line using semicolons\n",
    "\"\"\"\n",
    "num = 20; count = 25; age = 22\n",
    "print(num)\n",
    "print(count)\n",
    "print(age)"
   ]
  },
  {
   "cell_type": "markdown",
   "metadata": {},
   "source": [
    "## Python Indentation"
   ]
  },
  {
   "cell_type": "code",
   "execution_count": 9,
   "metadata": {},
   "outputs": [
    {
     "name": "stdout",
     "output_type": "stream",
     "text": [
      "1\n",
      "2\n",
      "3\n",
      "4\n",
      "5\n",
      "6\n",
      "7\n",
      "8\n",
      "9\n"
     ]
    }
   ],
   "source": [
    "\"\"\"\n",
    "(1) Python uses indentation to define block of code.\n",
    "(2) block of function, loop etc start with indentaiton and ends with first unindented line\n",
    "(3) amount of indentation is up to programmer but there must be consistent throught that block \n",
    "(4) Generally four whitespaces are used for indentation(one tab)\n",
    "(5) helps to make code look neat and clean\n",
    "(6) indentaton can be ignore in line continuation but good idea to indent so that code will be readable\n",
    "\"\"\"\n",
    "for no in range(1,10):\n",
    "    print(no)\n",
    "    "
   ]
  },
  {
   "cell_type": "markdown",
   "metadata": {},
   "source": [
    "## Python Comment"
   ]
  },
  {
   "cell_type": "code",
   "execution_count": 10,
   "metadata": {},
   "outputs": [
    {
     "data": {
      "text/plain": [
       "'\\n(1) Describes what is going on inside a program that reduces time to figure out the code\\n(2) key details of the program that helps later on to figure out and understand\\n(3) hash(#) symbol is used in python to describe the comment\\n(4) interpreter will ignore the comment\\n'"
      ]
     },
     "execution_count": 10,
     "metadata": {},
     "output_type": "execute_result"
    }
   ],
   "source": [
    "\"\"\"\n",
    "(1) Describes what is going on inside a program that reduces time to figure out the code\n",
    "(2) key details of the program that helps later on to figure out and understand\n",
    "(3) hash(#) symbol is used in python to describe the comment\n",
    "(4) interpreter will ignore the comment\n",
    "\"\"\"\n"
   ]
  },
  {
   "cell_type": "markdown",
   "metadata": {},
   "source": [
    "#### Multi-line comments "
   ]
  },
  {
   "cell_type": "code",
   "execution_count": 14,
   "metadata": {},
   "outputs": [
    {
     "data": {
      "text/plain": [
       "'\\n(1) can have comment that extend up to multiple lines\\n(2) two methods are available\\n        (a) adding hash(#) symbol to starting of each line\\n        (b) using triple quotes:\\n            -> they are generally used in multi-line string\\n            -> can be used as multi-line comment as well\\n            -> thery are not docstring and do not generate extra code.\\n            \\n'"
      ]
     },
     "execution_count": 14,
     "metadata": {},
     "output_type": "execute_result"
    }
   ],
   "source": [
    "\"\"\"\n",
    "(1) can have comment that extend up to multiple lines\n",
    "(2) two methods are available\n",
    "        (a) adding hash(#) symbol to starting of each line\n",
    "        (b) using triple quotes:\n",
    "            -> they are generally used in multi-line string\n",
    "            -> can be used as multi-line comment as well\n",
    "            -> thery are not docstring and do not generate extra code.\n",
    "            \n",
    "\"\"\""
   ]
  },
  {
   "cell_type": "markdown",
   "metadata": {},
   "source": [
    "#### Docstrings in Python"
   ]
  },
  {
   "cell_type": "code",
   "execution_count": 15,
   "metadata": {},
   "outputs": [
    {
     "data": {
      "text/plain": [
       "'\\n(1) short for documentation string\\n(2) string literals that appear right after the difinition of a function, method, class or module.\\n(3) triple quores are used for writing docstring\\n(4) separate docstrings from multiline comments using triple quotes\\n(5) associated with the object as therir __doc__ attribute.\\n'"
      ]
     },
     "execution_count": 15,
     "metadata": {},
     "output_type": "execute_result"
    }
   ],
   "source": [
    "\"\"\"\n",
    "(1) short for documentation string\n",
    "(2) string literals that appear right after the difinition of a function, method, class or module.\n",
    "(3) triple quores are used for writing docstring\n",
    "(4) separate docstrings from multiline comments using triple quotes\n",
    "(5) associated with the object as therir __doc__ attribute.\n",
    "\"\"\""
   ]
  },
  {
   "cell_type": "code",
   "execution_count": null,
   "metadata": {},
   "outputs": [],
   "source": []
  }
 ],
 "metadata": {
  "kernelspec": {
   "display_name": "Python 3 (ipykernel)",
   "language": "python",
   "name": "python3"
  },
  "language_info": {
   "codemirror_mode": {
    "name": "ipython",
    "version": 3
   },
   "file_extension": ".py",
   "mimetype": "text/x-python",
   "name": "python",
   "nbconvert_exporter": "python",
   "pygments_lexer": "ipython3",
   "version": "3.12.3"
  }
 },
 "nbformat": 4,
 "nbformat_minor": 4
}
