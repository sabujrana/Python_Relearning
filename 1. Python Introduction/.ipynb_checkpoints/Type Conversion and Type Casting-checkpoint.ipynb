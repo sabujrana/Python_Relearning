{
 "cells": [
  {
   "cell_type": "markdown",
   "metadata": {},
   "source": [
    "### Type Conversion"
   ]
  },
  {
   "cell_type": "code",
   "execution_count": 1,
   "metadata": {},
   "outputs": [
    {
     "data": {
      "text/plain": [
       "'\\n-> process of converting value of one data type into another data type\\n-> Consist of two types:\\n (i) Implicit Type Conversion\\n (ii) Explicit Type Conversion\\n'"
      ]
     },
     "execution_count": 1,
     "metadata": {},
     "output_type": "execute_result"
    }
   ],
   "source": [
    "\"\"\"\n",
    "-> process of converting value of one data type into another data type\n",
    "-> Consist of two types:\n",
    " (i) Implicit Type Conversion\n",
    " (ii) Explicit Type Conversion\n",
    "\"\"\""
   ]
  },
  {
   "cell_type": "markdown",
   "metadata": {},
   "source": [
    "#### Implicit Type Concersioin"
   ]
  },
  {
   "cell_type": "code",
   "execution_count": 2,
   "metadata": {},
   "outputs": [
    {
     "name": "stdout",
     "output_type": "stream",
     "text": [
      "81.6\n",
      "<class 'float'>\n"
     ]
    }
   ],
   "source": [
    "\"\"\"\n",
    "-> Python automatically converts data from one type into another without involvement of any user\n",
    "-> Python promotes converting integer to float to avoid the data loss\n",
    "\"\"\"\n",
    "integer_number = 56\n",
    "float_number = 25.6\n",
    "new_no = integer_number + float_number\n",
    "\n",
    "print(new_no)\n",
    "print(type(new_no))"
   ]
  },
  {
   "cell_type": "markdown",
   "metadata": {},
   "source": [
    "#### Explicit Type Conversion"
   ]
  },
  {
   "cell_type": "code",
   "execution_count": null,
   "metadata": {},
   "outputs": [],
   "source": [
    "\"\"\"\n",
    "-> user converts data type of object to required data type\n",
    "-> use predefined function like int(), float(), str()\n",
    "-> also known as typecasting; because user casts(change) data type of object\n",
    "Syntax: reqruired_datatype(expression)\n",
    "\"\"\""
   ]
  }
 ],
 "metadata": {
  "kernelspec": {
   "display_name": "Python 3",
   "language": "python",
   "name": "python3"
  },
  "language_info": {
   "codemirror_mode": {
    "name": "ipython",
    "version": 3
   },
   "file_extension": ".py",
   "mimetype": "text/x-python",
   "name": "python",
   "nbconvert_exporter": "python",
   "pygments_lexer": "ipython3",
   "version": "3.8.5"
  }
 },
 "nbformat": 4,
 "nbformat_minor": 4
}
