{
 "cells": [
  {
   "cell_type": "code",
   "execution_count": 1,
   "metadata": {},
   "outputs": [
    {
     "data": {
      "text/plain": [
       "'\\ninput(): this funciton is used for user input; inputed value will be string\\nprint(): this function is used for display/output data\\n'"
      ]
     },
     "execution_count": 1,
     "metadata": {},
     "output_type": "execute_result"
    }
   ],
   "source": [
    "\"\"\"\n",
    "input(): this funciton is used for user input; inputed value will be string\n",
    "print(): this function is used for display/output data\n",
    "\"\"\""
   ]
  },
  {
   "cell_type": "code",
   "execution_count": 2,
   "metadata": {},
   "outputs": [
    {
     "name": "stdout",
     "output_type": "stream",
     "text": [
      "This is example of the output.\n"
     ]
    }
   ],
   "source": [
    "print(\"This is example of the output.\")"
   ]
  },
  {
   "cell_type": "code",
   "execution_count": 3,
   "metadata": {},
   "outputs": [
    {
     "name": "stdout",
     "output_type": "stream",
     "text": [
      "23\n"
     ]
    }
   ],
   "source": [
    "number = 23\n",
    "print(number)"
   ]
  },
  {
   "cell_type": "code",
   "execution_count": 10,
   "metadata": {},
   "outputs": [
    {
     "name": "stdout",
     "output_type": "stream",
     "text": [
      "1 2 3 4\n",
      "1*2*3*4\n",
      "1#2#3#4&"
     ]
    }
   ],
   "source": [
    "\"\"\"\n",
    "Syntax of the print function is:\n",
    "print(*object, sep= \" \", end = \"\\n\", file = sus.stdout, flush = False)\n",
    "where:\n",
    "    object: value(s) to be printed\n",
    "    sep: separator between the values; defaults into space character\n",
    "    end: after all end will be printed; default into new line\n",
    "    file: object where values are printed; default is sys.stdout(screen)\n",
    "    \n",
    "\"\"\"\n",
    "print(1, 2, 3, 4)\n",
    "print(1, 2, 3, 4, sep = \"*\")\n",
    "print(1, 2, 3, 4, sep = \"#\", end = \"&\")"
   ]
  },
  {
   "cell_type": "markdown",
   "metadata": {},
   "source": [
    "#### Output Formatting"
   ]
  },
  {
   "cell_type": "code",
   "execution_count": 3,
   "metadata": {},
   "outputs": [
    {
     "name": "stdout",
     "output_type": "stream",
     "text": [
      "Enter your age: 22\n",
      "Enter your name: sabuj\n",
      "Enter your salary: 20000\n",
      "22 years sabuj has 20000 amount of salary.\n",
      "22 years sabuj has 20000 amount of salary.\n",
      "22 years Hari has 25000 amount of salary.\n",
      "22 years sabuj has 20000 amount of salary.\n",
      "22 years sabuj has 20000  amount of salary.\n",
      "22 years sabuj has 20000 amount of salary.\n"
     ]
    }
   ],
   "source": [
    "\"\"\"\n",
    "str.format()\n",
    "{} : used as placeholder\n",
    "\"\"\"\n",
    "age = int(input(\"Enter your age: \"))\n",
    "name = input(\"Enter your name: \")\n",
    "salary = int(input(\"Enter your salary: \"))\n",
    "\n",
    "print(\"{} years {} has {} amount of salary.\".format(age,name,salary))\n",
    "\n",
    "print(\"{1} years {0} has {2} amount of salary.\".format(name,age,salary)) #index \n",
    "\n",
    "print(\"{age} years {name} has {salary} amount of salary.\".format(name=\"Hari\",age=22,salary=25000)) #keyword arg\n",
    "\n",
    "print(\"%d years %s has %d amount of salary.\"%(age,name,salary)) #sprintf method\n",
    "\n",
    "print(str(age)+\" \"+\"years\"+\" \"+ name+\" \"+\"has\"+\" \"+str(salary)+\" \"+\" amount of salary.\")# concatenation\n",
    "\n",
    "print(f\"{age} years {name} has {salary} amount of salary.\")"
   ]
  },
  {
   "cell_type": "code",
   "execution_count": 22,
   "metadata": {},
   "outputs": [],
   "source": [
    "#Input\n",
    "# import : import (module name)"
   ]
  }
 ],
 "metadata": {
  "kernelspec": {
   "display_name": "Python 3",
   "language": "python",
   "name": "python3"
  },
  "language_info": {
   "codemirror_mode": {
    "name": "ipython",
    "version": 3
   },
   "file_extension": ".py",
   "mimetype": "text/x-python",
   "name": "python",
   "nbconvert_exporter": "python",
   "pygments_lexer": "ipython3",
   "version": "3.8.5"
  }
 },
 "nbformat": 4,
 "nbformat_minor": 4
}
