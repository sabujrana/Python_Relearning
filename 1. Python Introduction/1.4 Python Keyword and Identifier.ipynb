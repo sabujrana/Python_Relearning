{
 "cells": [
  {
   "cell_type": "markdown",
   "metadata": {},
   "source": [
    "## Python Keyword"
   ]
  },
  {
   "cell_type": "code",
   "execution_count": 1,
   "metadata": {},
   "outputs": [
    {
     "data": {
      "text/plain": [
       "\"\\n(1) Keyword are reserved words in Python\\n(2) keyword can't be used as variable, function or any other identifier name\\n(3) used to define syntax and structure of python language\\n(4) Keyword are case sensitive in python\\n(5) Except Ture, False and None are in lowercase\\n\""
      ]
     },
     "execution_count": 1,
     "metadata": {},
     "output_type": "execute_result"
    }
   ],
   "source": [
    "\"\"\"\n",
    "(1) Keyword are reserved words in Python\n",
    "(2) keyword can't be used as variable, function or any other identifier name\n",
    "(3) used to define syntax and structure of python language\n",
    "(4) Keyword are case sensitive in python\n",
    "(5) Except Ture, False and None are in lowercase\n",
    "\"\"\""
   ]
  },
  {
   "cell_type": "markdown",
   "metadata": {},
   "source": [
    "#### Reseseved Keywords in Python "
   ]
  },
  {
   "cell_type": "code",
   "execution_count": 3,
   "metadata": {},
   "outputs": [
    {
     "data": {
      "text/plain": [
       "'\\nFalse await else import pass None break except in raise True class finally is return and continue for lambda try\\nas def from nonlocal while assert del global not with async elif if or yield\\n'"
      ]
     },
     "execution_count": 3,
     "metadata": {},
     "output_type": "execute_result"
    }
   ],
   "source": [
    "\"\"\"\n",
    "False await else import pass None break except in raise True class finally is return and continue for lambda try\n",
    "as def from nonlocal while assert del global not with async elif if or yield\n",
    "\"\"\""
   ]
  },
  {
   "cell_type": "markdown",
   "metadata": {},
   "source": [
    "## Python Identifier"
   ]
  },
  {
   "cell_type": "code",
   "execution_count": 4,
   "metadata": {},
   "outputs": [
    {
     "data": {
      "text/plain": [
       "'\\n(1) Identifier is a name gien to entities like class, function, variables etc.\\n(2) It helps to differentiate one entity from another\\n'"
      ]
     },
     "execution_count": 4,
     "metadata": {},
     "output_type": "execute_result"
    }
   ],
   "source": [
    "\"\"\"\n",
    "(1) Identifier is a name gien to entities like class, function, variables etc.\n",
    "(2) It helps to differentiate one entity from another\n",
    "\"\"\""
   ]
  },
  {
   "cell_type": "markdown",
   "metadata": {},
   "source": [
    "#### Rules for identifier naming"
   ]
  },
  {
   "cell_type": "code",
   "execution_count": 5,
   "metadata": {},
   "outputs": [
    {
     "data": {
      "text/plain": [
       "\"\\n(1) consist of uppercase, lowercase or underscore. Eg: myClass, var_1\\n(2) can't start with digit. Eg: 1variable\\n(3) keyword can't be used as identifier.\\n(4) can't use special symbol like !,@,$,#% etc\\n(5) can be of any length\\n\""
      ]
     },
     "execution_count": 5,
     "metadata": {},
     "output_type": "execute_result"
    }
   ],
   "source": [
    "\"\"\"\n",
    "(1) consist of uppercase, lowercase or underscore. Eg: myClass, var_1\n",
    "(2) can't start with digit. Eg: 1variable\n",
    "(3) keyword can't be used as identifier.\n",
    "(4) can't use special symbol like !,@,$,#% etc\n",
    "(5) can be of any length\n",
    "\"\"\""
   ]
  },
  {
   "cell_type": "markdown",
   "metadata": {},
   "source": [
    "#### Thing to remember"
   ]
  },
  {
   "cell_type": "code",
   "execution_count": null,
   "metadata": {},
   "outputs": [],
   "source": [
    "\"\"\"\n",
    "(1) Python are case sensitive so number and Number are different\n",
    "(2) Sensible name of identifier is preferrable. eg count = 10 rather than c = 10\n",
    "(3) Multiple word can be separate using underscore. Eg count_variable \n",
    "\"\"\""
   ]
  }
 ],
 "metadata": {
  "kernelspec": {
   "display_name": "Python 3 (ipykernel)",
   "language": "python",
   "name": "python3"
  },
  "language_info": {
   "codemirror_mode": {
    "name": "ipython",
    "version": 3
   },
   "file_extension": ".py",
   "mimetype": "text/x-python",
   "name": "python",
   "nbconvert_exporter": "python",
   "pygments_lexer": "ipython3",
   "version": "3.12.3"
  }
 },
 "nbformat": 4,
 "nbformat_minor": 4
}
