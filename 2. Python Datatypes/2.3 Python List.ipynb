{
 "cells": [
  {
   "cell_type": "markdown",
   "metadata": {},
   "source": [
    "## List"
   ]
  },
  {
   "cell_type": "code",
   "execution_count": 11,
   "metadata": {},
   "outputs": [
    {
     "name": "stdout",
     "output_type": "stream",
     "text": [
      "[1, 2, 'Sabuj', [2.4, 6], ['a', 'b']]\n",
      "2.4\n"
     ]
    }
   ],
   "source": [
    "\"\"\"\n",
    "-> created by placing items inside square brackets []\n",
    "-> items could be of different types (integer, float, string etc) \n",
    "\"\"\"\n",
    "\n",
    "# empty list \n",
    "my_list = []\n",
    "\n",
    "#nested list \n",
    "nested_list = [1, 2, \"Sabuj\", [2.4, 6], ['a', 'b']]\n",
    "print(nested_list)\n",
    "print(nested_list[3][0])\n"
   ]
  },
  {
   "cell_type": "code",
   "execution_count": 22,
   "metadata": {},
   "outputs": [
    {
     "name": "stdout",
     "output_type": "stream",
     "text": [
      "b\n",
      "z\n",
      "Sabuj\n",
      "u\n",
      "3.14\n"
     ]
    }
   ],
   "source": [
    "## Acessing List elements\n",
    "\"\"\"\n",
    "List Index:index operator[] used to acess the element of the list, starting index will be 0 and must be integer\n",
    "          : nested list are acessed using nested indexing\n",
    "\"\"\"\n",
    "example_list = ['s', 'a', 'b', 'u', 'z']\n",
    "\n",
    "print(example_list[2])\n",
    "\n",
    "print(example_list[4])\n",
    "\n",
    "nested_example = [\"Sabuj\", [1, 'a', 3.14]]\n",
    "print(nested_example[0])\n",
    "print(nested_example[0][3])\n",
    "print(nested_example[1][2])\n"
   ]
  },
  {
   "cell_type": "code",
   "execution_count": 25,
   "metadata": {},
   "outputs": [
    {
     "name": "stdout",
     "output_type": "stream",
     "text": [
      "3.14\n",
      "[1, 'a', 3.14]\n"
     ]
    }
   ],
   "source": [
    "## Negative indexing\n",
    "\"\"\"\n",
    "-> allows negative indexing for sequencing\n",
    "-> -1 refers to last item and incremented so on\n",
    "\"\"\"\n",
    "\n",
    "print(nested_example[-1][-1])\n",
    "print(nested_example[-1])"
   ]
  },
  {
   "cell_type": "code",
   "execution_count": 42,
   "metadata": {},
   "outputs": [
    {
     "name": "stdout",
     "output_type": "stream",
     "text": [
      "['p', 'r', 'o', 'g', 'r', 'a', 'm', 'm', 'i', 'n', 'g']\n",
      "['g', 'r', 'a', 'm']\n",
      "['g', 'n', 'i', 'm', 'm', 'a', 'r', 'g', 'o', 'r', 'p']\n",
      "['a', 'm', 'm', 'i', 'n', 'g']\n"
     ]
    }
   ],
   "source": [
    "## Slicing list\n",
    "\"\"\"\n",
    "-> accessing range of items in list by using slicing operator :\n",
    "\"\"\"\n",
    "list_example = ['p','r','o','g','r','a', 'm', 'm', 'i', 'n', 'g']\n",
    "print(list_example)\n",
    "print(list_example[3:7])\n",
    "print(list_example[::-1])\n",
    "print(list_example[5:])"
   ]
  },
  {
   "cell_type": "code",
   "execution_count": 59,
   "metadata": {},
   "outputs": [
    {
     "name": "stdout",
     "output_type": "stream",
     "text": [
      "[2, 4, 6]\n",
      "[3, 4, 6]\n",
      "[3, 5, 7]\n",
      "[3, 5, 7, 9]\n",
      "[3, 5, 7, 9, 11, 13]\n",
      "['s', 'a', 'b', 'u', 'z', 3, 5, 7, 9, 11, 13]\n",
      "[3, 5, 7, 9, 11, 13, 3, 5, 7, 9, 11, 13]\n",
      "[3, 5, 7, 9, 11, 13, 15]\n"
     ]
    }
   ],
   "source": [
    "## Adding or changing list elements\n",
    "\"\"\"\n",
    "-> list are mutabale, i.e can be changed their elements\n",
    "-> can use assignment operator(=) to change item or range of item\n",
    "\"\"\"\n",
    "#change\n",
    "elements = [2, 4, 6]\n",
    "print(elements)\n",
    "elements[0] = 3\n",
    "print(elements)\n",
    "elements[1:] = [5, 7]\n",
    "print(elements)\n",
    "\n",
    "#add\n",
    "elements.append(9)\n",
    "print(elements)\n",
    "\n",
    "elements.extend([11, 13])\n",
    "print(elements)\n",
    "\n",
    "#concatenating\n",
    "print(example_list + elements)\n",
    "\n",
    "# Repetition\n",
    "print(elements *2)\n",
    "\n",
    "# insert\n",
    "\n",
    "elements.insert(6, 15)\n",
    "print(elements)"
   ]
  },
  {
   "cell_type": "code",
   "execution_count": 81,
   "metadata": {},
   "outputs": [
    {
     "name": "stdout",
     "output_type": "stream",
     "text": [
      "['p', 'r', 'o', 'b', 'l', 'e', 'm']\n",
      "['p', 'o', 'b', 'l', 'e', 'm']\n",
      "['p', 'o', 'b', 'l', 'e', 'm']\n",
      "['p', 'l', 'e', 'm']\n",
      "['p', 'r', 'o', 'b', 'l', 'e', 'm']\n",
      "['r', 'o', 'b', 'l', 'e', 'm']\n",
      "['r', 'o', 'b', 'l', 'e']\n",
      "['r', 'o', 'l', 'e']\n",
      "['r', 'o', 'l', 'e']\n",
      "['r', 'o', 'l', 'e']\n",
      "['r', 'e']\n"
     ]
    }
   ],
   "source": [
    "### Delete or remove list elements\n",
    "\"\"\"\n",
    "-> del keyword can be used for delete one or more items, can also delete entire list\n",
    "\"\"\"\n",
    "my_list1 = ['p', 'r', 'o', 'b', 'l', 'e', 'm']\n",
    "print(my_list1)\n",
    "\n",
    "#deleting single item\n",
    "del my_list1[1]\n",
    "print(my_list1)\n",
    "\n",
    "#deleting multiple item\n",
    "print(my_list1)\n",
    "del my_list1[1:3]\n",
    "print(my_list1)\n",
    "\n",
    "#delete entire list\n",
    "\n",
    "del my_list1\n",
    "#print(my_list1) #Error raised\n",
    "\n",
    "### remove element\n",
    "\"\"\"\n",
    "remove(): remove given item\n",
    "pop(): remove item at given index, remove and return last item if index is not provided\n",
    "     : helps to implement stack(first in last out)\n",
    "clear(): used to empty list\n",
    "\"\"\"\n",
    "my_list2 = ['p', 'r', 'o', 'b', 'l', 'e', 'm']\n",
    "print(my_list2)\n",
    "\n",
    "my_list2.remove(\"p\")\n",
    "print(my_list2)\n",
    "    \n",
    "my_list2.pop()\n",
    "print(my_list2)\n",
    "\n",
    "my_list2.pop(2)\n",
    "print(my_list2)\n",
    "\n",
    "#my_list2.clear()\n",
    "print(my_list2) #will be empty list\n",
    "\n",
    "\n",
    "\"\"\"\n",
    "we can delete item by assigning empty list\n",
    "\"\"\"\n",
    "print(my_list2)\n",
    "my_list2[1:3] = []\n",
    "print(my_list2)"
   ]
  },
  {
   "cell_type": "markdown",
   "metadata": {},
   "source": [
    "### Python List methods"
   ]
  },
  {
   "cell_type": "code",
   "execution_count": 82,
   "metadata": {},
   "outputs": [
    {
     "name": "stdout",
     "output_type": "stream",
     "text": [
      "Updated list:  [2, 'Rana', 15.23, 'Gorkha']\n",
      "0\n",
      "[2, 'Rana', 15.23, 'Gorkha', 'Chhetri', 23, 12.56]\n",
      "2\n",
      "['Chhetri', 23, 12.56, 'Chitwan']\n",
      "['Chhetri', 23, 12.56]\n",
      "['Chhetri', 23]\n",
      "[12.56, 23, 'Chhetri', 'Gorkha', 15.23, 'Rana', 2]\n",
      "[2, 9, 18, 23, 45, 56]\n",
      "[56, 45, 23, 18, 9, 2]\n"
     ]
    }
   ],
   "source": [
    "test1 = [2, \"Rana\", 15.23]\n",
    "test2 = [\"Chhetri\", 23, 12.56]\n",
    "\n",
    "test1.append(\"Gorkha\") \n",
    "print(\"Updated list: \",test1)\n",
    "\n",
    "print(test1.count(\"G\"))\n",
    "test1.extend(test2)\n",
    "print(test1)\n",
    "\n",
    "print(test2.index(12.56))\n",
    "\n",
    "test2.insert(3, \"Chitwan\")\n",
    "print(test2)\n",
    "    \n",
    "test2.pop()\n",
    "print(test2)\n",
    "\n",
    "test2.remove(12.56)\n",
    "print(test2)\n",
    "\n",
    "test1.reverse()\n",
    "print(test1)\n",
    "\n",
    "sort_list = [2, 45, 23, 56, 18, 9]\n",
    "sort_list.sort() #sorted in asdcending order\n",
    "print(sort_list)\n",
    "\n",
    "sort_list.sort(reverse=True) #sorted in descending order \n",
    "print(sort_list)\n"
   ]
  },
  {
   "cell_type": "markdown",
   "metadata": {},
   "source": [
    "### List Comprehension"
   ]
  },
  {
   "cell_type": "code",
   "execution_count": 90,
   "metadata": {},
   "outputs": [
    {
     "name": "stdout",
     "output_type": "stream",
     "text": [
      "[1, 2, 4, 8, 16, 32, 64, 128, 256, 512]\n",
      "[64, 128, 256, 512]\n",
      "[1, 3, 5, 7, 9, 11, 13, 15, 17, 19]\n"
     ]
    }
   ],
   "source": [
    "\"\"\"\n",
    "-> elegent and concise way to create new list from existing\n",
    "-> consist of expression followed by for statement inside square brackets\n",
    "\"\"\"\n",
    "power = [ 2 ** x for x in range(10)]\n",
    "print(power)\n",
    "\n",
    "\n",
    "\"\"\"\n",
    "-> optionally contain more for or if statement\n",
    "-> optional if statement filter out items for new list\n",
    "\"\"\"\n",
    "\n",
    "power = [ 2 ** x for x in range(10) if x > 5]\n",
    "print(power)\n",
    "\n",
    "odd = [x for x in range(20) if x % 2 == 1]\n",
    "print(odd)"
   ]
  },
  {
   "cell_type": "markdown",
   "metadata": {},
   "source": [
    "### Other list Operation in python"
   ]
  },
  {
   "cell_type": "code",
   "execution_count": 98,
   "metadata": {},
   "outputs": [
    {
     "name": "stdout",
     "output_type": "stream",
     "text": [
      "True\n",
      "False\n",
      "False\n"
     ]
    }
   ],
   "source": [
    "\"\"\"\n",
    "Membership Test: 'in' and 'not in' operator used, either True or False is returned\n",
    "\"\"\"\n",
    "my_list = [\"p\", \"r\", \"o\", \"g\", \"r\", \"a\", \"m\", \"m\", \"i\", \"n\", \"g\"]\n",
    "print(\"g\" in my_list)\n",
    "\n",
    "print(\"a\" not in my_list)\n",
    "\n",
    "print(\"s\" in my_list)"
   ]
  },
  {
   "cell_type": "code",
   "execution_count": 1,
   "metadata": {},
   "outputs": [
    {
     "name": "stdout",
     "output_type": "stream",
     "text": [
      "p r o g r a m m i n g "
     ]
    }
   ],
   "source": [
    "\"\"\"\n",
    "Iterating Through list: 'for' loop will be used\n",
    "\"\"\"\n",
    "my_list = [\"p\", \"r\", \"o\", \"g\", \"r\", \"a\", \"m\", \"m\", \"i\", \"n\", \"g\"]\n",
    "for character in my_list:\n",
    "    print(character, end = \" \")\n",
    "    #print(character)\n",
    "\n"
   ]
  },
  {
   "cell_type": "code",
   "execution_count": 9,
   "metadata": {},
   "outputs": [
    {
     "name": "stdout",
     "output_type": "stream",
     "text": [
      "[2, 3, 5]\n",
      "[2, 3, 5]\n",
      "[2, 3, 5, 7]\n",
      "[2, 3, 5, 7]\n"
     ]
    }
   ],
   "source": [
    "## copy list\n",
    "\"\"\"\n",
    "list can be copied using = operator\n",
    "\"\"\"\n",
    "\n",
    "old_list = [2, 3, 5]\n",
    "new_list = old_list\n",
    "print(old_list)\n",
    "print(new_list)\n",
    "\"\"\"\n",
    "-> the problem is that if we change new list old list also modified.\n",
    "-> This is because new_list is referencing/pointing same old list object\n",
    "\"\"\"\n",
    "new_list.append(7)\n",
    "print(old_list)\n",
    "print(new_list)\n",
    "\n",
    "# So for unchanged old list when new list is modified we can use copy() method\n",
    "# return new list which doesn't modify original list"
   ]
  },
  {
   "cell_type": "code",
   "execution_count": 10,
   "metadata": {},
   "outputs": [
    {
     "name": "stdout",
     "output_type": "stream",
     "text": [
      "['Sabuj', 'Gorkha']\n",
      "['Sabuj', 'Gorkha']\n",
      "['Sabuj', 'Gorkha']\n",
      "['Sabuj', 'Gorkha', 22]\n"
     ]
    }
   ],
   "source": [
    "my_old_list = [\"Sabuj\", \"Gorkha\"]\n",
    "\n",
    "my_new_list = my_old_list.copy()\n",
    "\n",
    "print(my_old_list)\n",
    "print(my_new_list)\n",
    "\n",
    "my_new_list.append(22)\n",
    "print(my_old_list)\n",
    "print(my_new_list)"
   ]
  },
  {
   "cell_type": "code",
   "execution_count": 14,
   "metadata": {},
   "outputs": [
    {
     "name": "stdout",
     "output_type": "stream",
     "text": [
      "copied list is ['Babu', 21, 2000.5]\n",
      "['Babu', 21, 2000.5]\n",
      "['Babu', 21, 2000.5, 'Gorkha']\n"
     ]
    }
   ],
   "source": [
    "example_list = [\"Babu\", 21, 2000.50]\n",
    "new_example_list = example_list.copy()\n",
    "print(\"copied list is\",new_example_list)\n",
    "\n",
    "\n",
    "#Copy using slicing syntax\n",
    "new_copied_list = new_example_list[:]\n",
    "print(new_copied_list)\n",
    "\n",
    "new_copied_list.append(\"Gorkha\")\n",
    "print(new_copied_list)"
   ]
  },
  {
   "cell_type": "markdown",
   "metadata": {},
   "source": [
    "### Python Deep copy and shallow copy"
   ]
  },
  {
   "cell_type": "code",
   "execution_count": 34,
   "metadata": {},
   "outputs": [
    {
     "name": "stdout",
     "output_type": "stream",
     "text": [
      "Original List  [[1, 2, 3], [4, 5, 6], [7, 8, 9]]\n",
      "ID of old list is:  140602879291328\n",
      "New List  [[1, 2, 3], [4, 5, 6], [7, 8, 9]]\n",
      "ID of new list is:  140602879291328\n"
     ]
    }
   ],
   "source": [
    "\"\"\"\n",
    "-> Using = opertor in copy means creating a object which reference to old object\n",
    "\"\"\"\n",
    "old_list = [[1, 2, 3],[4, 5, 6], [7, 8, 'a']]\n",
    "new_list = old_list\n",
    "\n",
    "new_list[2][2] = 9\n",
    "\n",
    "print(\"Original List \", old_list)\n",
    "print(\"ID of old list is: \",id(old_list))\n",
    "\n",
    "print(\"New List \",new_list)\n",
    "\n",
    "print(\"ID of new list is: \",id(new_list))\n",
    "\n",
    "# both list share same id,so change in new list appears on old too"
   ]
  },
  {
   "cell_type": "code",
   "execution_count": 19,
   "metadata": {},
   "outputs": [
    {
     "data": {
      "text/plain": [
       "\"\\nTo modify only new copied list without old we have two methods\\n(1) Shallow copy\\n(2) Deep copy\\nfor both copy methods we use 'copy' module\\n\""
      ]
     },
     "execution_count": 19,
     "metadata": {},
     "output_type": "execute_result"
    }
   ],
   "source": [
    "\"\"\"\n",
    "To modify only new copied list without old we have two methods\n",
    "(1) Shallow copy\n",
    "(2) Deep copy\n",
    "for both copy methods we use 'copy' module\n",
    "\"\"\"\n"
   ]
  },
  {
   "cell_type": "markdown",
   "metadata": {},
   "source": [
    "### copy module"
   ]
  },
  {
   "cell_type": "code",
   "execution_count": 23,
   "metadata": {},
   "outputs": [
    {
     "data": {
      "text/plain": [
       "'\\n-> for deep copy and shallow copy operation we use copy module\\n'"
      ]
     },
     "execution_count": 23,
     "metadata": {},
     "output_type": "execute_result"
    }
   ],
   "source": [
    "\"\"\"\n",
    "-> for deep copy and shallow copy operation we use copy module\n",
    "\"\"\"\n",
    "# to copy compound list x\n",
    "\n",
    "\n",
    "# import copy\n",
    "# copy.copy(x) # copy() returns the shallowcopy of x\n",
    "# copy.deepcopy(x) # deepcopy() returns deep copy of x\n"
   ]
  },
  {
   "cell_type": "markdown",
   "metadata": {},
   "source": [
    "#### Shallo copy"
   ]
  },
  {
   "cell_type": "code",
   "execution_count": 42,
   "metadata": {},
   "outputs": [
    {
     "name": "stdout",
     "output_type": "stream",
     "text": [
      "[[1, 2, 3], [4, 5, 6], [7, 8, 9]]\n",
      "[[1, 2, 3], [4, 5, 6], [7, 8, 9]]\n",
      "[[1, 2, 3], [4, 5, 6], [7, 8, 9], [11, 12, 13]]\n",
      "[[1, 2, 3], [4, 5, 6], [7, 8, 9]]\n"
     ]
    }
   ],
   "source": [
    "\"\"\"\n",
    "create a copy using shallow copy:\n",
    "-> creates a new object which store reference of original elements\n",
    "-> it doesn't create copy of nested object,instead just copies reference of nested object\n",
    "-> copy process doesn't recurse or create copies of nested object itself\n",
    "\n",
    "\"\"\"\n",
    "import copy\n",
    "old_list = [[1, 2, 3], [4, 5, 6], [7, 8, 9]]\n",
    "new_list = copy.copy(old_list) # shallow copy using copy method\n",
    "print(old_list)\n",
    "print(new_list)\n",
    "# i.e it creates new and independent object with same content.\n",
    "\n",
    "old_list.append([11, 12, 13])\n",
    "print(old_list)\n",
    "print(new_list)\n",
    "#shows different list because they have same content previous but they are different object \n"
   ]
  },
  {
   "cell_type": "code",
   "execution_count": 39,
   "metadata": {},
   "outputs": [
    {
     "name": "stdout",
     "output_type": "stream",
     "text": [
      "Before append list will be\n",
      "[[1, 1, 1], [2, 2, 2], [3, 3, 3]]\n",
      "[[1, 1, 1], [2, 2, 2], [3, 3, 3]]\n",
      "After append list will be\n",
      "[[1, 1, 1], [2, 2, 2], [3, 3, 3], [4, 4, 4]]\n",
      "[[1, 1, 1], [2, 2, 2], [3, 3, 3]]\n"
     ]
    }
   ],
   "source": [
    "## adding new elements to old_list using shallow copy\n",
    "import copy\n",
    "\n",
    "example_list1 = [[1, 1, 1], [2, 2, 2], [3, 3, 3]]\n",
    "example_list2 = copy.copy(example_list1)\n",
    "print(\"Before append list will be\")\n",
    "print(example_list1)\n",
    "print(example_list2)\n",
    "\n",
    "example_list1.append([4, 4, 4])\n",
    "print(\"After append list will be\")\n",
    "print(example_list1)\n",
    "print(example_list2)\n",
    "\n",
    "# we create shwllow copy of example_list1\n",
    "# example_list2 conatains references to nested object store in example_list1\n",
    "# we add new item to example_list1, this will not copied to example_list2\n",
    "# HOwever when we change nested object in exmaple_list1, change appear in example_list2"
   ]
  },
  {
   "cell_type": "code",
   "execution_count": 45,
   "metadata": {},
   "outputs": [
    {
     "name": "stdout",
     "output_type": "stream",
     "text": [
      "Previous list\n",
      "[['Sabuj', 22, 'Gorkha'], ['Ram', 24, 'Pokhara'], ['Hari', 26, 'Kathmandu']]\n",
      "[['Sabuj', 22, 'Gorkha'], ['Ram', 24, 'Pokhara'], ['Hari', 26, 'Kathmandu']]\n",
      "Later_on list\n",
      "[['Sabuj', 22, 'Gorkha'], ['Ram', 28, 'Pokhara'], ['Hari', 26, 'Kathmandu']]\n",
      "[['Sabuj', 22, 'Gorkha'], ['Ram', 28, 'Pokhara'], ['Hari', 26, 'Kathmandu']]\n"
     ]
    }
   ],
   "source": [
    "## adding nested object using shallow copy\n",
    "import copy\n",
    "old_list = [[\"Sabuj\", 22, \"Gorkha\"], [\"Ram\", 24, \"Pokhara\"], [\"Hari\", 26, \"Kathmandu\"]]\n",
    "new_list = copy.copy(old_list)\n",
    "print(\"Previous list\")\n",
    "print(old_list)\n",
    "print(new_list)\n",
    "old_list[1][1] = 28\n",
    "print(\"Later_on list\")\n",
    "print(old_list)\n",
    "print(new_list)\n",
    "\n",
    "## We made changes to old_list[1][1] = 28, both sublist of old_list and new_list at [1][1] were modified\n",
    "## Because both list share reference of same nested objects\n"
   ]
  },
  {
   "cell_type": "markdown",
   "metadata": {},
   "source": [
    "### Deep Copy"
   ]
  },
  {
   "cell_type": "code",
   "execution_count": 47,
   "metadata": {},
   "outputs": [
    {
     "name": "stdout",
     "output_type": "stream",
     "text": [
      "[[1, 1, 1], [2, 2, 2], [3, 3, 3]]\n",
      "[[1, 1, 1], [2, 2, 2], [3, 3, 3]]\n"
     ]
    }
   ],
   "source": [
    "\"\"\"\n",
    "-> Deep copy creates new object and recursively add copies of nested object present in original element\n",
    "-> we use deepcopy() function present in copy module to create deep copy\n",
    "-> It willl creates independent copy of original object and all it's nested object\n",
    "\n",
    "\"\"\"\n",
    "## copying a list using deepcopy\n",
    "\n",
    "import copy\n",
    "hello_list = [[1, 1, 1],[2, 2, 2], [3, 3, 3]]\n",
    "hi_list = copy.deepcopy(hello_list)\n",
    "print(hello_list)\n",
    "print(hi_list)\n",
    "\n",
    "## we use deepcopy() to create copy which looks similar\n",
    "##if we make changes to any nested object in original object hello_list,we'll see no changes to copy hi_list\n"
   ]
  },
  {
   "cell_type": "code",
   "execution_count": 50,
   "metadata": {},
   "outputs": [
    {
     "name": "stdout",
     "output_type": "stream",
     "text": [
      "Previous list\n",
      "[['a', 'a', 'a'], ['b', 'b', 'b'], ['c', 'c', 'c']]\n",
      "[['a', 'a', 'a'], ['b', 'b', 'b'], ['c', 'c', 'c']]\n",
      "Present list\n",
      "[['a', 'a', 'a'], ['b', 1, 'b'], ['c', 'c', 'c']]\n",
      "[['a', 'a', 'a'], ['b', 'b', 'b'], ['c', 'c', 'c']]\n"
     ]
    }
   ],
   "source": [
    "## Adding new nested object in list using deepcopy\n",
    "import copy\n",
    "\n",
    "ex_list = [['a', 'a', 'a'], ['b', 'b', 'b'], ['c', 'c', 'c']]\n",
    "now_list = copy.deepcopy(ex_list)\n",
    "print(\"Previous list\")\n",
    "print(ex_list)\n",
    "print(now_list)\n",
    "ex_list[1][1] = 1\n",
    "print(\"Present list\")\n",
    "print(ex_list)\n",
    "print(now_list)\n",
    "\n",
    "## changes in old list does not effect on new list, because old list and new list are independet\n",
    "## This is because old list was recursively copied, which is true for all it's nested object"
   ]
  },
  {
   "cell_type": "code",
   "execution_count": 1,
   "metadata": {},
   "outputs": [],
   "source": [
    "## =, copy and deepcopy\n",
    "\n",
    "lst1 = [1, 2, 3, 4]\n",
    "lst2 = lst1 #share same memory location i.e reference to same list"
   ]
  },
  {
   "cell_type": "code",
   "execution_count": 2,
   "metadata": {},
   "outputs": [
    {
     "data": {
      "text/plain": [
       "([1, 2, 3, 4], [1, 2, 3, 4])"
      ]
     },
     "execution_count": 2,
     "metadata": {},
     "output_type": "execute_result"
    }
   ],
   "source": [
    "lst1, lst2"
   ]
  },
  {
   "cell_type": "code",
   "execution_count": 3,
   "metadata": {},
   "outputs": [
    {
     "data": {
      "text/plain": [
       "2"
      ]
     },
     "execution_count": 3,
     "metadata": {},
     "output_type": "execute_result"
    }
   ],
   "source": [
    "lst2[1]"
   ]
  },
  {
   "cell_type": "code",
   "execution_count": 4,
   "metadata": {},
   "outputs": [],
   "source": [
    "lst1[1] = 1000"
   ]
  },
  {
   "cell_type": "code",
   "execution_count": 5,
   "metadata": {},
   "outputs": [
    {
     "data": {
      "text/plain": [
       "([1, 1000, 3, 4], [1, 1000, 3, 4])"
      ]
     },
     "execution_count": 5,
     "metadata": {},
     "output_type": "execute_result"
    }
   ],
   "source": [
    "lst1, lst2"
   ]
  },
  {
   "cell_type": "code",
   "execution_count": 6,
   "metadata": {},
   "outputs": [],
   "source": [
    "#both the list values are changed, because both list object refer to same memory location"
   ]
  },
  {
   "cell_type": "code",
   "execution_count": 7,
   "metadata": {},
   "outputs": [],
   "source": [
    "## copy() i.e shallowcopy\n",
    "lst1 = [1, 2, 3, 4]\n",
    "lst2 = lst1.copy()"
   ]
  },
  {
   "cell_type": "code",
   "execution_count": 8,
   "metadata": {},
   "outputs": [
    {
     "data": {
      "text/plain": [
       "([1, 2, 3, 4], [1, 2, 3, 4])"
      ]
     },
     "execution_count": 8,
     "metadata": {},
     "output_type": "execute_result"
    }
   ],
   "source": [
    "lst1, lst2"
   ]
  },
  {
   "cell_type": "code",
   "execution_count": 9,
   "metadata": {},
   "outputs": [
    {
     "data": {
      "text/plain": [
       "2"
      ]
     },
     "execution_count": 9,
     "metadata": {},
     "output_type": "execute_result"
    }
   ],
   "source": [
    "lst2[1]"
   ]
  },
  {
   "cell_type": "code",
   "execution_count": 10,
   "metadata": {},
   "outputs": [],
   "source": [
    "lst2[1] = 1000"
   ]
  },
  {
   "cell_type": "code",
   "execution_count": 11,
   "metadata": {},
   "outputs": [
    {
     "data": {
      "text/plain": [
       "([1, 2, 3, 4], [1, 1000, 3, 4])"
      ]
     },
     "execution_count": 11,
     "metadata": {},
     "output_type": "execute_result"
    }
   ],
   "source": [
    "lst1, lst2"
   ]
  },
  {
   "cell_type": "code",
   "execution_count": 12,
   "metadata": {},
   "outputs": [],
   "source": [
    "## shallow copy will create different memory location for lst2 after changing the value"
   ]
  },
  {
   "cell_type": "code",
   "execution_count": 13,
   "metadata": {},
   "outputs": [],
   "source": [
    "## shallow copy nested list\n",
    "lst1 = [[1, 2, 3, 4], [5,6,7,8]]\n",
    "lst2 = lst1.copy()"
   ]
  },
  {
   "cell_type": "code",
   "execution_count": 14,
   "metadata": {},
   "outputs": [
    {
     "data": {
      "text/plain": [
       "[[1, 2, 3, 4], [5, 6, 7, 8]]"
      ]
     },
     "execution_count": 14,
     "metadata": {},
     "output_type": "execute_result"
    }
   ],
   "source": [
    "lst1"
   ]
  },
  {
   "cell_type": "code",
   "execution_count": 15,
   "metadata": {},
   "outputs": [
    {
     "data": {
      "text/plain": [
       "[[1, 2, 3, 4], [5, 6, 7, 8]]"
      ]
     },
     "execution_count": 15,
     "metadata": {},
     "output_type": "execute_result"
    }
   ],
   "source": [
    "lst2"
   ]
  },
  {
   "cell_type": "code",
   "execution_count": 16,
   "metadata": {},
   "outputs": [
    {
     "data": {
      "text/plain": [
       "5"
      ]
     },
     "execution_count": 16,
     "metadata": {},
     "output_type": "execute_result"
    }
   ],
   "source": [
    "lst2[1][0]"
   ]
  },
  {
   "cell_type": "code",
   "execution_count": 17,
   "metadata": {},
   "outputs": [],
   "source": [
    "lst1[1][0] = 100"
   ]
  },
  {
   "cell_type": "code",
   "execution_count": 18,
   "metadata": {},
   "outputs": [
    {
     "data": {
      "text/plain": [
       "([[1, 2, 3, 4], [100, 6, 7, 8]], [[1, 2, 3, 4], [100, 6, 7, 8]])"
      ]
     },
     "execution_count": 18,
     "metadata": {},
     "output_type": "execute_result"
    }
   ],
   "source": [
    "lst1, lst2"
   ]
  },
  {
   "cell_type": "code",
   "execution_count": 19,
   "metadata": {},
   "outputs": [],
   "source": [
    "# changes will reflect to both \n",
    "# when we have nested list, each index value will consider as single item\n",
    "# Each item in list have different different objects\n",
    "# When we tried to change particular value of any item;the values will copied in both the list after we made change\n",
    "# Reason: It refers to the same object inside nested list i.e both the variable are refering to the same object that is present inside the list\n"
   ]
  },
  {
   "cell_type": "code",
   "execution_count": 20,
   "metadata": {},
   "outputs": [
    {
     "data": {
      "text/plain": [
       "[[1, 2, 3, 4], [100, 6, 7, 8]]"
      ]
     },
     "execution_count": 20,
     "metadata": {},
     "output_type": "execute_result"
    }
   ],
   "source": [
    "lst1"
   ]
  },
  {
   "cell_type": "code",
   "execution_count": 21,
   "metadata": {},
   "outputs": [],
   "source": [
    "lst1.append([2,3,4,5])"
   ]
  },
  {
   "cell_type": "code",
   "execution_count": 22,
   "metadata": {},
   "outputs": [
    {
     "data": {
      "text/plain": [
       "[[1, 2, 3, 4], [100, 6, 7, 8], [2, 3, 4, 5]]"
      ]
     },
     "execution_count": 22,
     "metadata": {},
     "output_type": "execute_result"
    }
   ],
   "source": [
    "lst1\n"
   ]
  },
  {
   "cell_type": "code",
   "execution_count": 23,
   "metadata": {},
   "outputs": [
    {
     "data": {
      "text/plain": [
       "[[1, 2, 3, 4], [100, 6, 7, 8]]"
      ]
     },
     "execution_count": 23,
     "metadata": {},
     "output_type": "execute_result"
    }
   ],
   "source": [
    "lst2"
   ]
  },
  {
   "cell_type": "code",
   "execution_count": 24,
   "metadata": {},
   "outputs": [],
   "source": [
    "# item will not get copied when you append\n",
    "# when you changes to the object present inside the list it will definitely make a change\n"
   ]
  },
  {
   "cell_type": "code",
   "execution_count": 25,
   "metadata": {},
   "outputs": [],
   "source": [
    "## deep copy\n",
    "import copy\n",
    "lst1 = [1,2,3,4]\n",
    "lst2 = copy.deepcopy(lst1)"
   ]
  },
  {
   "cell_type": "code",
   "execution_count": 26,
   "metadata": {},
   "outputs": [
    {
     "data": {
      "text/plain": [
       "[1, 2, 3, 4]"
      ]
     },
     "execution_count": 26,
     "metadata": {},
     "output_type": "execute_result"
    }
   ],
   "source": [
    "lst2"
   ]
  },
  {
   "cell_type": "code",
   "execution_count": 27,
   "metadata": {},
   "outputs": [],
   "source": [
    "lst2[1] = 100"
   ]
  },
  {
   "cell_type": "code",
   "execution_count": 28,
   "metadata": {},
   "outputs": [
    {
     "data": {
      "text/plain": [
       "[1, 100, 3, 4]"
      ]
     },
     "execution_count": 28,
     "metadata": {},
     "output_type": "execute_result"
    }
   ],
   "source": [
    "lst2"
   ]
  },
  {
   "cell_type": "code",
   "execution_count": 29,
   "metadata": {},
   "outputs": [
    {
     "data": {
      "text/plain": [
       "[1, 2, 3, 4]"
      ]
     },
     "execution_count": 29,
     "metadata": {},
     "output_type": "execute_result"
    }
   ],
   "source": [
    "lst1"
   ]
  },
  {
   "cell_type": "code",
   "execution_count": 30,
   "metadata": {},
   "outputs": [
    {
     "data": {
      "text/plain": [
       "([1, 2, 3, 4], [1, 100, 3, 4])"
      ]
     },
     "execution_count": 30,
     "metadata": {},
     "output_type": "execute_result"
    }
   ],
   "source": [
    "lst1, lst2"
   ]
  },
  {
   "cell_type": "code",
   "execution_count": 31,
   "metadata": {},
   "outputs": [],
   "source": [
    "# It acts as shallow copy for normal list"
   ]
  },
  {
   "cell_type": "code",
   "execution_count": 32,
   "metadata": {},
   "outputs": [],
   "source": [
    "#for nested list"
   ]
  },
  {
   "cell_type": "code",
   "execution_count": 33,
   "metadata": {},
   "outputs": [],
   "source": [
    "lst1 = [[1,2,3], [3,4,5], [5,6,7]]\n",
    "lst2 = copy.deepcopy(lst1)"
   ]
  },
  {
   "cell_type": "code",
   "execution_count": 34,
   "metadata": {},
   "outputs": [
    {
     "data": {
      "text/plain": [
       "[[1, 2, 3], [3, 4, 5], [5, 6, 7]]"
      ]
     },
     "execution_count": 34,
     "metadata": {},
     "output_type": "execute_result"
    }
   ],
   "source": [
    "lst1"
   ]
  },
  {
   "cell_type": "code",
   "execution_count": 35,
   "metadata": {},
   "outputs": [
    {
     "data": {
      "text/plain": [
       "[[1, 2, 3], [3, 4, 5], [5, 6, 7]]"
      ]
     },
     "execution_count": 35,
     "metadata": {},
     "output_type": "execute_result"
    }
   ],
   "source": [
    "lst2"
   ]
  },
  {
   "cell_type": "code",
   "execution_count": 36,
   "metadata": {},
   "outputs": [
    {
     "data": {
      "text/plain": [
       "3"
      ]
     },
     "execution_count": 36,
     "metadata": {},
     "output_type": "execute_result"
    }
   ],
   "source": [
    "lst2[1][0]"
   ]
  },
  {
   "cell_type": "code",
   "execution_count": 37,
   "metadata": {},
   "outputs": [],
   "source": [
    "lst2[1][0] = 100"
   ]
  },
  {
   "cell_type": "code",
   "execution_count": 38,
   "metadata": {},
   "outputs": [
    {
     "data": {
      "text/plain": [
       "[[1, 2, 3], [3, 4, 5], [5, 6, 7]]"
      ]
     },
     "execution_count": 38,
     "metadata": {},
     "output_type": "execute_result"
    }
   ],
   "source": [
    "lst1"
   ]
  },
  {
   "cell_type": "code",
   "execution_count": 39,
   "metadata": {},
   "outputs": [
    {
     "data": {
      "text/plain": [
       "[[1, 2, 3], [100, 4, 5], [5, 6, 7]]"
      ]
     },
     "execution_count": 39,
     "metadata": {},
     "output_type": "execute_result"
    }
   ],
   "source": [
    "lst2"
   ]
  },
  {
   "cell_type": "code",
   "execution_count": 40,
   "metadata": {},
   "outputs": [],
   "source": [
    "## for every variable we created, separate memory location is created"
   ]
  },
  {
   "cell_type": "code",
   "execution_count": null,
   "metadata": {},
   "outputs": [],
   "source": []
  }
 ],
 "metadata": {
  "kernelspec": {
   "display_name": "Python 3 (ipykernel)",
   "language": "python",
   "name": "python3"
  },
  "language_info": {
   "codemirror_mode": {
    "name": "ipython",
    "version": 3
   },
   "file_extension": ".py",
   "mimetype": "text/x-python",
   "name": "python",
   "nbconvert_exporter": "python",
   "pygments_lexer": "ipython3",
   "version": "3.12.3"
  }
 },
 "nbformat": 4,
 "nbformat_minor": 4
}
