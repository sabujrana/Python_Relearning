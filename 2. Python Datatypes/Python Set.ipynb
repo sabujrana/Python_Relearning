{
 "cells": [
  {
   "cell_type": "markdown",
   "metadata": {},
   "source": [
    "## Set"
   ]
  },
  {
   "cell_type": "code",
   "execution_count": 138,
   "metadata": {},
   "outputs": [
    {
     "data": {
      "text/plain": [
       "'\\n-> Unordered collection of items\\n-> every set element is unique\\n-> element must be immutable\\n-> set are mutable\\n-> used to perform mathematical set operation like union, intersection, symmetric difference\\n-> {} or built in set() function used to create set\\n-> can not have list and dictionaries(mutable) as element \\n'"
      ]
     },
     "execution_count": 138,
     "metadata": {},
     "output_type": "execute_result"
    }
   ],
   "source": [
    "\"\"\"\n",
    "-> Unordered collection of items\n",
    "-> every set element is unique\n",
    "-> element must be immutable\n",
    "-> set are mutable\n",
    "-> used to perform mathematical set operation like union, intersection, symmetric difference\n",
    "-> {} or built in set() function used to create set\n",
    "-> can not have list and dictionaries(mutable) as element \n",
    "\"\"\""
   ]
  },
  {
   "cell_type": "code",
   "execution_count": 139,
   "metadata": {},
   "outputs": [
    {
     "name": "stdout",
     "output_type": "stream",
     "text": [
      "<class 'dict'>\n",
      "<class 'set'>\n",
      "{1, 3.5, ('a', 'e', 'i', 'o', 'u'), 'Hi'}\n"
     ]
    }
   ],
   "source": [
    "## Creating a empty set\n",
    "\"\"\"\n",
    "-> {} this will create empty dictionary, for set we use set() without any argument.\n",
    "\"\"\"\n",
    "example = {}\n",
    "print(type(example))\n",
    "\n",
    "#creating empty set\n",
    "set_a = set()\n",
    "print(type(set_a))\n",
    "\n",
    "#set of mixed data types\n",
    "my_set = {1, 3.5, \"Hi\", ('a', 'e', 'i', 'o', 'u')}\n",
    "print(my_set)"
   ]
  },
  {
   "cell_type": "code",
   "execution_count": 140,
   "metadata": {},
   "outputs": [
    {
     "name": "stdout",
     "output_type": "stream",
     "text": [
      "{1, 3, 5}\n",
      "{2, 3, 4}\n"
     ]
    }
   ],
   "source": [
    "set_example1 = {1, 3, 5, 3}\n",
    "print(set_example1) # can not have dulicate items\n",
    "\n",
    "# we can make set from list\n",
    "set_example2 = set([2, 3, 4])\n",
    "print(set_example2)\n",
    "\n",
    "#set_example = {[1, 2, 3], {1:2, 2:3}}\n",
    "#print(set_example)# error will be raised because set element can't be mutable"
   ]
  },
  {
   "cell_type": "markdown",
   "metadata": {},
   "source": [
    "### Modifying Set"
   ]
  },
  {
   "cell_type": "code",
   "execution_count": 141,
   "metadata": {},
   "outputs": [
    {
     "name": "stdout",
     "output_type": "stream",
     "text": [
      "{2, 5}\n",
      "{2, 3, 5}\n",
      "{2, 3, 5, 7, 9, 11}\n"
     ]
    }
   ],
   "source": [
    "\"\"\"\n",
    "-> sets are mutable but unordered so we can't use indexing.\n",
    "-> slicing and indexing can't use to acess set elements.\n",
    "-> add() used to add single item\n",
    "-> update() used to add multiple item; arg could be tuple, list, set but duplicate must avoid\n",
    "\"\"\"\n",
    "my_set = {2, 5}\n",
    "print(my_set)\n",
    "\n",
    "my_set.add(3)\n",
    "print(my_set)\n",
    "\n",
    "my_set.update([7, 9, 11])\n",
    "print(my_set)"
   ]
  },
  {
   "cell_type": "markdown",
   "metadata": {},
   "source": [
    "### Removing elements"
   ]
  },
  {
   "cell_type": "code",
   "execution_count": 142,
   "metadata": {},
   "outputs": [
    {
     "name": "stdout",
     "output_type": "stream",
     "text": [
      "{1, 2, 3, 4, 5}\n",
      "{1, 3, 4, 5}\n",
      "{1, 3, 5}\n",
      "{1, 3, 5}\n",
      "{'S', 'u', 'a', 'j', 'b'}\n",
      "S\n",
      "{'u', 'a', 'j', 'b'}\n",
      "u\n",
      "set()\n"
     ]
    }
   ],
   "source": [
    "\"\"\"\n",
    "-> discard() and remove() method can be used to remove particulat item\n",
    "-> discard() will return the unchanged set if items not found\n",
    "-> remove() will raise an error if item not found(item not found in set)\n",
    "\"\"\"\n",
    "my_set = {1, 2, 3, 4, 5}\n",
    "print(my_set)\n",
    "\n",
    "# discard item\n",
    "my_set.discard(2)\n",
    "print(my_set)\n",
    "\n",
    "#remove item\n",
    "my_set.remove(4)\n",
    "print(my_set)\n",
    "\n",
    "my_set.discard(4)\n",
    "print(my_set)# return original set\n",
    "\n",
    "#my_set.remove(4)\n",
    "#print(my_set) #KeyError is raised\n",
    "\n",
    "\n",
    "\"\"\"\n",
    "-> we can also use pop() to remove item but can't determine which itme is removed due to unordered type\n",
    "-> removal process will be completely arbitary\n",
    "-> to remove all item we can use clear() method\n",
    "\"\"\" \n",
    "my_set = set(\"Sabuj\")\n",
    "print(my_set)\n",
    "print(my_set.pop())\n",
    "print(my_set)\n",
    "\n",
    "print(my_set.pop())\n",
    "\n",
    "my_set.clear()\n",
    "print(my_set)# empty set return\n"
   ]
  },
  {
   "cell_type": "markdown",
   "metadata": {},
   "source": [
    "### Set Operation"
   ]
  },
  {
   "cell_type": "code",
   "execution_count": 143,
   "metadata": {},
   "outputs": [
    {
     "data": {
      "text/plain": [
       "'\\n-> can carry out mathemeatical set operation like union, intersection, difference and symmetric difference\\n-> perform those operation using operator or method\\n'"
      ]
     },
     "execution_count": 143,
     "metadata": {},
     "output_type": "execute_result"
    }
   ],
   "source": [
    "\"\"\"\n",
    "-> can carry out mathemeatical set operation like union, intersection, difference and symmetric difference\n",
    "-> perform those operation using operator or method\n",
    "\"\"\"\n"
   ]
  },
  {
   "cell_type": "code",
   "execution_count": 144,
   "metadata": {},
   "outputs": [
    {
     "name": "stdout",
     "output_type": "stream",
     "text": [
      "{1, 2, 3, 4, 5, 6, 7, 8}\n",
      "{1, 2, 3, 4, 5, 6, 7, 8}\n",
      "{1, 2, 3, 4, 5, 6, 7, 8}\n"
     ]
    }
   ],
   "source": [
    "A = {1, 2, 3, 4, 5}\n",
    "B = {4, 5, 6, 7, 8}\n",
    "\n",
    "# Union:\n",
    "\"\"\"\n",
    "-> set of all elements from involved set\n",
    "-> performed using (|) operator\n",
    "-> can be accomplish using union() methods\n",
    "\"\"\"\n",
    "# using | operator\n",
    "print(A | B)\n",
    "\n",
    "# using union function on A\n",
    "print(A.union(B))\n",
    "\n",
    "# using union function on B\n",
    "print(B.union(A))"
   ]
  },
  {
   "cell_type": "code",
   "execution_count": 145,
   "metadata": {},
   "outputs": [
    {
     "name": "stdout",
     "output_type": "stream",
     "text": [
      "{4, 5}\n",
      "{4, 5}\n",
      "{4, 5}\n"
     ]
    }
   ],
   "source": [
    "# Intersection:\n",
    "\"\"\"\n",
    "-> set of elements that are common in boths involved set\n",
    "-> performed using (&) opearator\n",
    "-> can be accomplish using intersection() method\n",
    "\"\"\"\n",
    "#using & operator\n",
    "print(A & B)\n",
    "\n",
    "# using intersection function on A\n",
    "print(A.intersection(B))\n",
    "\n",
    "# using intersection function on B\n",
    "print(B.intersection(A))"
   ]
  },
  {
   "cell_type": "code",
   "execution_count": 146,
   "metadata": {},
   "outputs": [
    {
     "name": "stdout",
     "output_type": "stream",
     "text": [
      "{1, 2, 3}\n",
      "{8, 6, 7}\n",
      "{1, 2, 3}\n",
      "{8, 6, 7}\n"
     ]
    }
   ],
   "source": [
    "# Differences\n",
    "\"\"\"\n",
    "-> Difference of Set B from set A (A-B)\n",
    "-> set of elements that are only in A but not in B\n",
    "-> Difference of Set A from B (B-A)\n",
    "-> set of elements that are only in B but not in A\n",
    "-> performed using (-) operator\n",
    "-> can be accomplish using difference() method\n",
    "\"\"\"\n",
    "\n",
    "# using - operator\n",
    "print(A - B)\n",
    "print(B - A)\n",
    "\n",
    "# using difference function on A\n",
    "print(A.difference(B))\n",
    "\n",
    "# using difference function on B\n",
    "print(B.difference(A))"
   ]
  },
  {
   "cell_type": "code",
   "execution_count": 147,
   "metadata": {},
   "outputs": [
    {
     "name": "stdout",
     "output_type": "stream",
     "text": [
      "{1, 2, 3, 6, 7, 8}\n",
      "{1, 2, 3, 6, 7, 8}\n",
      "{1, 2, 3, 6, 7, 8}\n"
     ]
    }
   ],
   "source": [
    "# Symmetric Difference\n",
    "\"\"\"\n",
    "-> symmetric difference of A and B is a set of elemennts in A and B but not in both(i.e excluding intersection)\n",
    "-> performed using (^) operator\n",
    "-> can be accoplished using symmetric_difference()\n",
    "\"\"\"\n",
    "# using ^ operator\n",
    "print(A ^ B)\n",
    "\n",
    "# using symmetric_difference() on A\n",
    "print(A.symmetric_difference(B))\n",
    "\n",
    "# using symmetric_difference() on B\n",
    "print(B.symmetric_difference(A))"
   ]
  },
  {
   "cell_type": "markdown",
   "metadata": {},
   "source": [
    "### Set Methods "
   ]
  },
  {
   "cell_type": "code",
   "execution_count": 148,
   "metadata": {},
   "outputs": [
    {
     "name": "stdout",
     "output_type": "stream",
     "text": [
      "{'Sabuj', 3.14, 'hello'}\n",
      "139696642398464\n",
      "139696642398240\n",
      "set()\n",
      "{1, 2, 3, 4, 5}\n",
      "{4, 5, 6, 7, 8}\n",
      "{1, 2, 3, 4, 5}\n",
      "{4, 5}\n",
      "{1, 2, 3, 4, 5}\n",
      "{4, 5, 6, 7, 8}\n",
      "True\n",
      "False\n",
      "False\n",
      "{2, 3, 4, 5}\n",
      "{2, 3, 6, 7, 8}\n",
      "{2, 3, 4, 5}\n",
      "{2, 3, 4, 5, 6, 7, 8}\n",
      "{2, 3, 4, 5, 6, 7, 8}\n"
     ]
    }
   ],
   "source": [
    "my_set = {\"hello\", 3.14}\n",
    "\n",
    "# add(): add an element to set \n",
    "my_set.add(\"Sabuj\")\n",
    "print(my_set)\n",
    "\n",
    "# copy: return copy of set\n",
    "new_set = my_set.copy()\n",
    "print(id(my_set))\n",
    "print(id(new_set))\n",
    "\n",
    "#difference() : returns difference of two or more sets as new set\n",
    "print(my_set.difference(new_set))\n",
    "\n",
    "#clear(): removes all elements from se\n",
    "new_set.clear()\n",
    "\n",
    "\n",
    "A = {1, 2, 3, 4, 5}\n",
    "B = {4, 5, 6, 7, 8}\n",
    "\n",
    "# difference_update(): removes all element of another set from this set\n",
    "#print(A.difference_update(B)) # returns None\n",
    "print(A)# will be equal to A-B\n",
    "print(B)# will be unchanged\\\n",
    "\n",
    "# discard(): removes element from set if it is member, do nothing if element not present\n",
    "A.discard(6)\n",
    "print(A)\n",
    "\n",
    "# intersection(): returns intersection of two sets\n",
    "print(A.intersection(B))\n",
    "\n",
    "# intersection_update(): update set with intersection of itself and another\n",
    "#print(A.intersection_update(B)) # return None\n",
    "print(A) # will be equal to A & B\n",
    "print(B) # will be unchanged\n",
    "\n",
    "# isdisjoint(): returns True if two sets have a null intersection\n",
    "print(A.isdisjoint(my_set))\n",
    "\n",
    "# issubset(): returns True if another set contains this set\n",
    "print(A.issubset(B))\n",
    "\n",
    "# issuperset(): returns True if this set contains another set\n",
    "print(A.issuperset(B))\n",
    "\n",
    "# pop(): removes and return from set. raises KeyError if set is empty.\n",
    "#print(new_set.pop())\n",
    "\n",
    "# remove(): remove an element from set. If element is not a memeber, raises KeyError.\n",
    "A.remove(1)\n",
    "print(A)\n",
    "\n",
    "#symmetric_difference(): returns symmetric differences of two set as new set\n",
    "print(A.symmetric_difference(B))\n",
    "\n",
    "# symmetric_difference_update(): updates set with symmetric difference of itself with another\n",
    "#A.symmetric_difference_update(B)\n",
    "print(A)\n",
    "\n",
    "# union(): returns union of sets in a new set\n",
    "print(A.union(B))\n",
    "\n",
    "# update(): update set with union of itself and others\n",
    "A.update(B)\n",
    "print(A)\n"
   ]
  },
  {
   "cell_type": "markdown",
   "metadata": {},
   "source": [
    "### Other set Operation\n"
   ]
  },
  {
   "cell_type": "code",
   "execution_count": 149,
   "metadata": {},
   "outputs": [
    {
     "name": "stdout",
     "output_type": "stream",
     "text": [
      "{'h', 'e', 'o', 'l'}\n",
      "True\n",
      "<class 'set'>\n",
      "False\n",
      "False\n",
      "H e o l "
     ]
    }
   ],
   "source": [
    "## set membership test:\n",
    "\"\"\"\n",
    "-> in and not in keyword will used for set membership test\n",
    "\n",
    "\"\"\"\n",
    "my_set = set(\"hello\")\n",
    "print(my_set)\n",
    "print('l' in my_set)\n",
    "print(type(my_set))\n",
    "\n",
    "print(\"a\" in my_set)\n",
    "print(\"o\" not in my_set)\n",
    "\n",
    "\n",
    "## Iterating through a set\n",
    "for letter in set(\"Hello\"):\n",
    "    print(letter, end = \" \")"
   ]
  },
  {
   "cell_type": "markdown",
   "metadata": {},
   "source": [
    "### Built-in function with set`"
   ]
  },
  {
   "cell_type": "code",
   "execution_count": 150,
   "metadata": {},
   "outputs": [
    {
     "name": "stdout",
     "output_type": "stream",
     "text": [
      "all() with list\n",
      "True\n",
      "False\n",
      "False\n",
      "False\n",
      "True\n",
      "all() with string\n",
      "True\n",
      "True\n",
      "True\n",
      "all() with dictionaries\n",
      "False\n",
      "True\n",
      "True\n",
      "True\n"
     ]
    }
   ],
   "source": [
    "\"\"\"\n",
    "Some of the built in function used with set for various opeation.\n",
    "\"\"\"\n",
    "\n",
    "#### all(): return if all the elements in the set are true( of if set is empty)\n",
    "\"\"\"\n",
    "parameters:\n",
    "only single iterable: list, tuple, string, dictionary\n",
    "\n",
    "if all values are true: Return value will be True\n",
    "all values are false: Return value will be False\n",
    "one value true other false: Return value will be False\n",
    "one value is false other true: Return value will be false\n",
    "empty iterable: True\n",
    "\"\"\"\n",
    "# work with list\n",
    "print(\"all() with list\")\n",
    "my_list1 = [1, 2, 3, 4]\n",
    "print(all(my_list1))\n",
    "\n",
    "my_list2 = [0, False]\n",
    "print(all(my_list2))\n",
    "\n",
    "my_list3 = [0, 1, 2]\n",
    "print(all(my_list3))\n",
    "\n",
    "my_list4 = [0, False, 4]\n",
    "print(all(my_list4))\n",
    "\n",
    "my_list5 = []\n",
    "print(all(my_list5))\n",
    "\n",
    "\n",
    "#work for string\n",
    "print(\"all() with string\")\n",
    "\n",
    "string_example1 = \"Hello\"\n",
    "print(all(string_example1))\n",
    "\n",
    "\n",
    "# 0 is false, \"0\" is true\n",
    "string_example = \"000\"\n",
    "print(all(string_example))\n",
    "\n",
    "s = ''\n",
    "print(all(s))\n",
    "\n",
    "#work with dictionaries\n",
    "print(\"all() with dictionaries\")\n",
    "\n",
    "dictionaries_example = {0:\"a\", 1:'e', 2:'o'}\n",
    "print(all(dictionaries_example))\n",
    "\n",
    "dictionaries_example1 = {1: True, 2: 5}\n",
    "print(all(dictionaries_example1))\n",
    "\n",
    "dictionaries_example2 = {}\n",
    "print(all(dictionaries_example2))\n",
    "\n",
    "# 0 is False but \"0\" is True\n",
    "\n",
    "d1 = {\"0\":\"hello\", 1:\"Hi\"}\n",
    "print(all(d1))"
   ]
  },
  {
   "cell_type": "code",
   "execution_count": 172,
   "metadata": {},
   "outputs": [
    {
     "name": "stdout",
     "output_type": "stream",
     "text": [
      "any() with list\n",
      "True\n",
      "False\n",
      "True\n",
      "False\n",
      "any() with string\n",
      "True\n",
      "True\n",
      "False\n",
      "any() with dictionaries\n",
      "False\n",
      "True\n",
      "False\n",
      "False\n"
     ]
    }
   ],
   "source": [
    "#### any()\n",
    "\"\"\"\n",
    "-> returns True if any element of an iterable is True, if not returns False\n",
    "parameters: single parameter; iterable(list, string, dictionary)\n",
    "all values are true: True\n",
    "all values are false: False\n",
    "one value is true(others are false): True\n",
    "one values is False(others are false): False\n",
    "Empty iterable: false\n",
    "\"\"\"\n",
    "# any() with list:\n",
    "print(\"any() with list\")\n",
    "list1 = [0, 1, 2] \n",
    "print(any(list1))\n",
    "\n",
    "list2 = [0, False]\n",
    "print(any(list2))\n",
    "\n",
    "list4 = [0, False, 4]\n",
    "print(any(list4))\n",
    "\n",
    "list3 = []\n",
    "print(any(list3))\n",
    "\n",
    "\n",
    "# any() with string\n",
    "print(\"any() with string\")\n",
    "examplestr = \"Hello\"\n",
    "print(any(examplestr))\n",
    "\n",
    "examplestr2 = \"000\"\n",
    "print(any(examplestr2))\n",
    "\n",
    "examplestr3 = \"\"\n",
    "print(any(examplestr3))\n",
    "\n",
    "\n",
    "# any() with Dictionaries\n",
    "print(\"any() with dictionaries\")\n",
    "dict1 = {0: \"hi\"}\n",
    "print(any(dict1))\n",
    "\n",
    "dict2 = {0:\"Hello\", 1: 34}\n",
    "print(any(dict2))\n",
    "\n",
    "dict3 = {0: \"sabuj\", False: 3}\n",
    "print(any(dict3))\n",
    "\n",
    "dict4 = {}\n",
    "print(any(dict4))"
   ]
  },
  {
   "cell_type": "code",
   "execution_count": 198,
   "metadata": {},
   "outputs": [
    {
     "name": "stdout",
     "output_type": "stream",
     "text": [
      "(0, 'a') (1, 'e') (2, 'i') (3, 'o') (4, 'u') \n",
      "\n",
      "0 a 1 e 2 i 3 o 4 u \n",
      "\n",
      "10 a 11 e 12 i 13 o 14 u "
     ]
    }
   ],
   "source": [
    "#### enumerate()\n",
    "\"\"\"\n",
    "-> adds counter to an iterable and returns it(enumerate object)\n",
    "-> iterable: sequence, iterator, object supporting iteration\n",
    "-> start(optional) : enumerate() starts counting from this no; if ommited 0 is taken as start\n",
    "-> can convert enumerate object to tuple or list using tuple() and list() method\n",
    "\"\"\"\n",
    "verbs = ['a', 'e', 'i', 'o', 'u']\n",
    "#looping over enumerate\n",
    "\n",
    "for verb in enumerate(verbs):\n",
    "    print(verb, end = \" \")\n",
    "    \n",
    "print(\"\\n\")\n",
    "for count, verb in enumerate(verbs):\n",
    "    print(count, verb, end = \" \")\n",
    "    \n",
    "print(\"\\n\")\n",
    "#changing default start value\n",
    "for count,verb in enumerate(verbs, 10):\n",
    "    print(count, verb, end = \" \")"
   ]
  },
  {
   "cell_type": "code",
   "execution_count": 217,
   "metadata": {},
   "outputs": [
    {
     "name": "stdout",
     "output_type": "stream",
     "text": [
      "3\n",
      "3\n",
      "9\n",
      "0\n",
      "5\n",
      "5\n",
      "b'\\x03\\x07\\x0b'\n",
      "3\n",
      "len() with set\n",
      "3\n",
      "0\n",
      "len() with dictionary\n",
      "2\n",
      "0\n",
      "2\n",
      "with custom objects\n",
      "0\n",
      "5\n"
     ]
    }
   ],
   "source": [
    "#### len()\n",
    "\"\"\"\n",
    "-> returns number of items(length) in an object\n",
    "-> parameter: a sequence (string, bytes, tuple, list, or tange), or colection(dictionary, set or frozenset)\n",
    "\"\"\"\n",
    "my_list = [9, 7, 4]\n",
    "print(len(my_list))\n",
    "\n",
    "test_tuple = (9, 6, 3)\n",
    "print(len(test_tuple))\n",
    "\n",
    "test_range = range(1,10)\n",
    "print(len(test_range))\n",
    "\n",
    "test_string = \"\"\n",
    "print(len(test_string))\n",
    "\n",
    "testString = \"Sabuj\"\n",
    "print(len(testString))\n",
    "\n",
    "#byte object\n",
    "testByte = b'Sabuj'\n",
    "print(len(testByte))\n",
    "\n",
    "testList = [3, 7, 11]\n",
    "#convertin to bytes object\n",
    "testByte1 = bytes(testList)\n",
    "print(testByte1)\n",
    "print(len(testByte1))\n",
    "\n",
    "\n",
    "## with dictionariess and set\n",
    "print(\"len() with set\")\n",
    "testSet = {2, 4, 6}\n",
    "print(len(testSet))\n",
    "\n",
    "# empty set\n",
    "testSet1 = set()\n",
    "print(len(testSet1))\n",
    "\n",
    "## with dictionaries\n",
    "print(\"len() with dictionary\")\n",
    "testDict = {0: \"Hi\", 1: \"hello\"}\n",
    "print(len(testDict))\n",
    "\n",
    "testDict1 = {}\n",
    "print(len(testDict1))\n",
    "\n",
    "# with frozenset\n",
    "testSet = {2, 4}\n",
    "frozenTestSet = frozenset(testSet)\n",
    "print(len(frozenTestSet))\n",
    "\n",
    "\n",
    "\"\"\"\n",
    "-> initially len() calls object's __len__ method.\n",
    "we can think len() as:\n",
    "\n",
    "def len(s):\n",
    "    return s.__len__()\n",
    "\"\"\"\n",
    "## len() with custom objects\n",
    "print(\"with custom objects\")\n",
    "class Session:\n",
    "    def __init__(self, number = 0):\n",
    "        self.number = number\n",
    "        \n",
    "    def __len__(self):\n",
    "        return self.number\n",
    "    \n",
    "#default length is 0\n",
    "s1 = Session()\n",
    "print(len(s1))\n",
    "\n",
    "#giving custom length\n",
    "s2 = Session(5)\n",
    "print(len(s2))"
   ]
  },
  {
   "cell_type": "code",
   "execution_count": 227,
   "metadata": {},
   "outputs": [
    {
     "name": "stdout",
     "output_type": "stream",
     "text": [
      "19\n",
      "Python\n",
      "4\n",
      "-1\n",
      "largest value is  14\n"
     ]
    },
    {
     "data": {
      "text/plain": [
       "'\\nNote:\\n-> If we pass empty iterator, ValueError excepton is raised, to avoid this, we can pass default parameter\\n-> If we pass more than one iterators, the largest item from given iterators is returned.\\n'"
      ]
     },
     "execution_count": 227,
     "metadata": {},
     "output_type": "execute_result"
    }
   ],
   "source": [
    "#### max():\n",
    "\"\"\"\n",
    "-> returns largest item in an iterable\n",
    "-> can also used to find largest item between two or more parameters\n",
    "# max() with iterable arguments:\n",
    "max(iterable, *iterables, key, default)\n",
    "\n",
    "iterable: iterable like list tuple, set dictionary\n",
    "*iterables(optional): any no of iterables; can be more than one\n",
    "key(optional): key function; iterable are passed and cpmparision is performed based on its return value\n",
    "default(optional): default value if given iterable is empty\n",
    "\n",
    "\"\"\"\n",
    "#list\n",
    "number = [5, 7, 11, 19, 13, 15]\n",
    "print(max(number))\n",
    "\n",
    "#largest string in list\n",
    "languages = [\"Python\", \"C programming\", \"Java\", \"Javascript\"]\n",
    "print(max(languages))\n",
    "## if items in iterable are string, largest item(ordered alphabetically) is returned\n",
    "\n",
    "## In case of dictionary largest key will be return\n",
    "# use key parameter to find out dictionary's key having largest value\n",
    "square = {4: 12, 2: 5, -3: 9, -1: 14}\n",
    "#largest key\n",
    "key1 = max(square)\n",
    "print(key1)\n",
    "\n",
    "# keys whose value is largest\n",
    "key2 = max(square, key = lambda k: square[k])\n",
    "print(key2)\n",
    "\n",
    "#largest value\n",
    "print(\"largest value is \",square[key2])\n",
    "\n",
    "\n",
    "#key = lambda k: square[k]\n",
    "#The function returns the values of dictionaries. Based on the values (rather than the dictionary's keys), the key having the maximum value is returned.\n",
    "\"\"\"\n",
    "Note:\n",
    "-> If we pass empty iterator, ValueError excepton is raised, to avoid this, we can pass default parameter\n",
    "-> If we pass more than one iterators, the largest item from given iterators is returned.\n",
    "\"\"\"\n",
    "\n"
   ]
  },
  {
   "cell_type": "markdown",
   "metadata": {},
   "source": [
    "#### Max without iterable\n"
   ]
  },
  {
   "cell_type": "code",
   "execution_count": 229,
   "metadata": {},
   "outputs": [
    {
     "name": "stdout",
     "output_type": "stream",
     "text": [
      "The maximum number is:  35\n"
     ]
    }
   ],
   "source": [
    "\"\"\"\n",
    "To find out largest object between two or more parameters, we can use this syntax:\n",
    "max(arg1, arg2, *args, key)\n",
    "parameters:\n",
    "arg1: object, cane be number string etc\n",
    "arg2: object, cane be number string etc\n",
    "*args:(optional): any number of objects\n",
    "key(optional): key function where each argument is passed, and compariosion is performed based on it's return value\n",
    "\n",
    "#Basically max() finds the largest item between tow or more objects\n",
    "\"\"\"\n",
    "\n",
    "# maximum among given number\n",
    "result = max(4, -5, 35, 6)\n",
    "print(\"The maximum number is: \", result)"
   ]
  },
  {
   "cell_type": "code",
   "execution_count": 15,
   "metadata": {},
   "outputs": [
    {
     "name": "stdout",
     "output_type": "stream",
     "text": [
      "23\n",
      "Java\n",
      "-4\n",
      "1\n",
      "Smallest value is:  2\n",
      "-5\n"
     ]
    }
   ],
   "source": [
    "### min():\n",
    "\"\"\"\n",
    "-> retruns the smallest item in an iterable\n",
    "-> can also be used to find the smallest item between two or more parameter\n",
    "\n",
    "# min() with iterable arg\n",
    "min(iterable, *iterables, key, default)\n",
    "\n",
    "parameters:\n",
    "iterable: iterable like list, tuple, set, dictionary etc.\n",
    "*iterables(optional): any no of iterable, can be more than one\n",
    "key(optional): key function where iterable are passed and comparision is performed based on it's return value\n",
    "default(optional): default value if the given iterable is empty\n",
    "\"\"\"\n",
    "# getting smallest item in list\n",
    "number = [34, 65, 23, 45, 67]\n",
    "print(min(number))\n",
    "\n",
    "# if iterable are strings, smallest item (ordered alphabetically) is returned\n",
    "languages = [\"Python\", \"Java\", \"Swift\", \"Ruby\", \"R\"]\n",
    "print(min(languages))\n",
    "\n",
    "## min() in dictionary: return smallest key\n",
    "\n",
    "square = {1:2, -4:4, 3: 6, -1:8}\n",
    "#smallest key\n",
    "key1 = min(square)\n",
    "print(key1)\n",
    "\n",
    "#smallest value key\n",
    "key2 = min(square, key = lambda k: square[k])\n",
    "print(key2)\n",
    "\n",
    "print(\"Smallest value is: \",square[key2])\n",
    "\n",
    "\"\"\"\n",
    "# min() without iterable\n",
    "min(arg1, arg2, *args, key)\n",
    "arg1: object; can be numbers, string etc\n",
    "arg2: object; can be numbers, string etc\n",
    "*args(optional): any no of objects\n",
    "key:(optional): key function where each argument is passed, comparision is performed based on its return value\n",
    "\n",
    "# Basically min() function can find the smallest item between two or more objects\n",
    "\n",
    "\"\"\"\n",
    "result = min(2, 3, 4, 5, -5, -3, -2)\n",
    "print(result)\n"
   ]
  },
  {
   "cell_type": "code",
   "execution_count": 35,
   "metadata": {},
   "outputs": [
    {
     "name": "stdout",
     "output_type": "stream",
     "text": [
      "['a', 'e', 'i', 'o', 'u']\n",
      "['S', 'a', 'b', 'j', 'u']\n",
      "['a', 'e', 'i', 'o', 'u']\n",
      "['a', 'e', 'i', 'o', 'u']\n",
      "['u', 'o', 'i', 'e', 'a']\n",
      "['u', 'o', 'i', 'e', 'a']\n",
      "[(4, 1), (2, 2), (1, 3), (3, 4)]\n",
      "[('Sangita', 90, 22), ('Shyam', 75, 12), ('Ramhari', 75, 20), ('Hari', 50, 18), ('Jesike', 45, 12)]\n",
      "[('Sangita', 90, 22), ('Shyam', 75, 12), ('Ramhari', 75, 20), ('Hari', 50, 18), ('Jesike', 45, 12)]\n"
     ]
    }
   ],
   "source": [
    "## sorted()\n",
    "\"\"\"\n",
    "-> returns a sorted list from the items in an iterable\n",
    "-> sorts the elements of a given iterable in a specific order(ascending, descending) and returns sorted iterable as list\n",
    "Syntax: sorted(iterable, key=None, reverse=False)\n",
    "\n",
    "parameter:\n",
    "iterable: sequence(string, tuple, list) or collection(set,dictionary, frozenset)\n",
    "reverse(optional): If True, the sorted list is reversed(sorted in descending order), default to False if not provided\n",
    "key(optional): A function that serves as key for sort comparision, Default to None\n",
    "\n",
    "\"\"\"\n",
    "#list\n",
    "vowel = ['e', 'a', 'o', 'u', 'i']\n",
    "print(sorted(vowel))\n",
    "\n",
    "#string\n",
    "stringExample = \"Sabuj\"\n",
    "print(sorted(stringExample))\n",
    "\n",
    "#tuple\n",
    "tupleExample = ('e', 'a', 'o', 'u', 'i')\n",
    "print(sorted(tupleExample))\n",
    "\n",
    "\"\"\"\n",
    "list has sort() which perform same way as sorted()\n",
    "difference is sort() method doesn't return any value and changes original list\n",
    "\"\"\"\n",
    "\n",
    "\"\"\"\n",
    "sorting in descending order: \n",
    "-> sorted() function accepts reverse parameter as optional args\n",
    "-> reverse = True sorts the iterable in the descending order\n",
    "\"\"\"\n",
    "# set\n",
    "setExample = {'e', 'a', 'o', 'u', 'i'}\n",
    "print(sorted(setExample))\n",
    "\n",
    "# dictionary\n",
    "dictExample = {'e':5, 'a':9, 'o':6, 'u':3, 'i':-1}\n",
    "print(sorted(dictExample, reverse=True))\n",
    "\n",
    "#frozenset\n",
    "frozenSetExample = frozenset(('e', 'a', 'o', 'u', 'i'))\n",
    "print(sorted(frozenSetExample, reverse=True))\n",
    "\n",
    "\n",
    "#### Key parameter in sorted function\n",
    "\"\"\"\n",
    "-> If we wants our own implementation for sorting, sorted() also accepts key function as an optional parameter\n",
    "-> Based on returned value of the key function, we can sort given iterable\n",
    "\n",
    "Syntax: sorted(iterable, key=len); len() is built-in function to count length of an object\n",
    "-> list is sorted based on length of element, from lowest count to highest\n",
    "\"\"\"\n",
    "#sort list using sorted having key function\n",
    "\n",
    "#take second element for sort\n",
    "def take_second(elem):\n",
    "    return elem[1]\n",
    "\n",
    "#random list\n",
    "random = [(2, 2), (3, 4), (4, 1), (1, 3)]\n",
    "\n",
    "#sort list with key\n",
    "sorted_list = sorted(random, key=take_second)\n",
    "\n",
    "print(sorted_list)\n",
    "\n",
    "\n",
    "### sorting with multiple keys\n",
    "\n",
    "# Nested list of student's info\n",
    "# List elements: (Student's Name, Marks out of 100, Age)\n",
    "\n",
    "participants_list = [\n",
    "    ('Hari', 50, 18),\n",
    "    ('Shyam', 75, 12),\n",
    "    ('Ramhari', 75, 20),\n",
    "    ('Sangita', 90, 22),\n",
    "    ('Jesike', 45, 12)\n",
    "                     \n",
    "    \n",
    "]\n",
    "\"\"\"\n",
    "-> sort list based on marks and if they occur same marks then sorted as youngest participant come first\n",
    "-> can achieve this type of sorting with multiple keys by returning tuple instead of number\n",
    "-> tuple compare their elements strating from first, if there is tie second element is compare\n",
    "\n",
    "\"\"\"\n",
    "def sorter(item):\n",
    "    #highest marks first, least error = most marks\n",
    "    error = 100 - item[1]\n",
    "    age = item[2]\n",
    "    return(error, age)\n",
    "\n",
    "sorted_list = sorted(participants_list, key=sorter)\n",
    "print(sorted_list)\n",
    "\n",
    "\n",
    "\"\"\"\n",
    "-> sorting logic function is small and fits in one line, lambda function used inside key rather than \n",
    "passing separate function name\n",
    "\n",
    "# above program can be used using lambda function\n",
    "\"\"\"\n",
    "sorted_list = sorted(participants_list, key = lambda item:(100-item[1], item[2]))\n",
    "print(sorted_list)"
   ]
  },
  {
   "cell_type": "code",
   "execution_count": 39,
   "metadata": {},
   "outputs": [
    {
     "name": "stdout",
     "output_type": "stream",
     "text": [
      "9.5\n",
      "17.5\n",
      "Sabuj\n"
     ]
    }
   ],
   "source": [
    "### sum()\n",
    "\"\"\"\n",
    "-> adds item of an iterable and returns sum\n",
    "Syntax:\n",
    "sum(iterable,start)\n",
    "\n",
    "parameters:\n",
    "iterable: iterable(list, tuple, dict). items of iterable should be number\n",
    "start(optional): this value is added to sum of items of iterable. Default value is 0\n",
    "\"\"\"\n",
    "\n",
    "numbers = [3.5, 2, 8, -4]\n",
    "#without start parameter\n",
    "print(sum(numbers))\n",
    "\n",
    "# with start from 8\n",
    "print(sum(numbers, 8))\n",
    "\n",
    "\"\"\"\n",
    "->If we need to add floating-point numbers with exact precision, we should use math.fsum(iterable)\n",
    "instead\n",
    "\n",
    "-> If we need to concatenate items of given iterable(must be string) we can use join()\n",
    "method\n",
    "\n",
    "\"\"\"\n",
    "\n",
    "name = \"\"\n",
    "print(name.join(\"Sabuj\"))\n"
   ]
  },
  {
   "cell_type": "markdown",
   "metadata": {},
   "source": [
    "## Python Frozenset"
   ]
  },
  {
   "cell_type": "code",
   "execution_count": 48,
   "metadata": {},
   "outputs": [
    {
     "name": "stdout",
     "output_type": "stream",
     "text": [
      "False\n",
      "frozenset({1, 2})\n",
      "frozenset({3, 4})\n",
      "False\n",
      "False\n",
      "frozenset({1, 2, 5, 6})\n",
      "frozenset({1, 2, 3, 4, 5, 6})\n"
     ]
    }
   ],
   "source": [
    "\"\"\"\n",
    "-> new class that has characteristics of set,but its elements can't changed once assigned.\n",
    "-> while tuples are immutable lists, frozenset are immutable sets\n",
    "-> sets being mutable are unhashable, so they can't be used as dictionary keys.\n",
    "-> On the other hand, frozensets are hashable and can be used as keys to a dictionary.\n",
    "-> created using frozenset() function\n",
    "-> supports copy(), difference(), intersection(), isdisjoint(), issubset(), issuperseet(),\n",
    "symmetric_difference() and union()\n",
    "\"\"\"\n",
    "# initialize A and B\n",
    "A = frozenset([1, 2, 3, 4])\n",
    "B = frozenset([3, 4, 5, 6])\n",
    "\n",
    "print(A.isdisjoint(B))\n",
    "print(A.difference(B))\n",
    "print(A.intersection(B))\n",
    "print(A.issubset(B))\n",
    "print(A.issuperset(B))\n",
    "print(A.symmetric_difference(B))\n",
    "print(A.union(B))"
   ]
  },
  {
   "cell_type": "code",
   "execution_count": null,
   "metadata": {},
   "outputs": [],
   "source": [
    "\n"
   ]
  }
 ],
 "metadata": {
  "kernelspec": {
   "display_name": "Python 3",
   "language": "python",
   "name": "python3"
  },
  "language_info": {
   "codemirror_mode": {
    "name": "ipython",
    "version": 3
   },
   "file_extension": ".py",
   "mimetype": "text/x-python",
   "name": "python",
   "nbconvert_exporter": "python",
   "pygments_lexer": "ipython3",
   "version": "3.8.5"
  }
 },
 "nbformat": 4,
 "nbformat_minor": 4
}
