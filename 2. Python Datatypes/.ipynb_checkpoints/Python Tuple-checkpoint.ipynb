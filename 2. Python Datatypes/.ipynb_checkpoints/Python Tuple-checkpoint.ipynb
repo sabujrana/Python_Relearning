{
 "cells": [
  {
   "cell_type": "markdown",
   "metadata": {},
   "source": [
    "## Tuple"
   ]
  },
  {
   "cell_type": "code",
   "execution_count": 6,
   "metadata": {},
   "outputs": [
    {
     "name": "stdout",
     "output_type": "stream",
     "text": [
      "()\n",
      "(2, 3, 4)\n",
      "(2.3, 6, 'Hello')\n",
      "(3, 'Sabuj', [1, 1, 2], ('hi', 'a'))\n"
     ]
    }
   ],
   "source": [
    "\"\"\"\n",
    "-> tuple are immutable, i.e element can't be change once it is assigned\n",
    "\n",
    "Creating Tuple:\n",
    "-> tuples are created by placing item inside parenthesis()\n",
    "-> parenthesis is optional however, it is good practice to use them\n",
    "-> can have any no of item and may be of different type(integer, float, list, string)\n",
    "\"\"\"\n",
    "\n",
    "#empty tuple\n",
    "my_tuple = ()\n",
    "print(my_tuple)\n",
    "\n",
    "tuple_example = (2, 3, 4)\n",
    "print(tuple_example)\n",
    "\n",
    "tuple_example1 = (2.3, 6, \"Hello\")\n",
    "print(tuple_example1)\n",
    "\n",
    "#nested tuple\n",
    "tuple_example2 = (3, \"Sabuj\", [1, 1, 2], (\"hi\", 'a'))\n",
    "print(tuple_example2)"
   ]
  },
  {
   "cell_type": "code",
   "execution_count": 10,
   "metadata": {},
   "outputs": [
    {
     "name": "stdout",
     "output_type": "stream",
     "text": [
      "(2, 3.14, 'Ram')\n",
      "2\n",
      "3.14\n",
      "Ram\n"
     ]
    }
   ],
   "source": [
    "## tuple created using parenthesis is know as tuple packing\n",
    "\n",
    "tuple_packing = 2, 3.14, \"Ram\"\n",
    "print(tuple_packing)\n",
    "\n",
    "# tuple unpacking\n",
    "a, b, c = tuple_packing\n",
    "print(a)\n",
    "print(b)\n",
    "print(c)"
   ]
  },
  {
   "cell_type": "code",
   "execution_count": 14,
   "metadata": {},
   "outputs": [
    {
     "name": "stdout",
     "output_type": "stream",
     "text": [
      "<class 'str'>\n",
      "<class 'tuple'>\n",
      "<class 'tuple'>\n"
     ]
    }
   ],
   "source": [
    "## creating tuple with one element is tricky, need trailing comma(,) for single element\n",
    "t1 = (\"hello\")\n",
    "print(type(t1))# return string\n",
    "t2 = (\"hello\", )\n",
    "print(type(t2))\n",
    "\n",
    "t3 = \"goodmorning\",\n",
    "print(type(t3))\n",
    " "
   ]
  },
  {
   "cell_type": "markdown",
   "metadata": {},
   "source": [
    "### Acessing tuple element"
   ]
  },
  {
   "cell_type": "code",
   "execution_count": 18,
   "metadata": {},
   "outputs": [
    {
     "name": "stdout",
     "output_type": "stream",
     "text": [
      "3.14\n",
      "c\n",
      "2\n"
     ]
    }
   ],
   "source": [
    "\"\"\"\n",
    "(1) Indexing:\n",
    "-> can use index operator[] to acces item in tuple, index start from 0, must be integer\n",
    "-> nested tuple accessed using nested indexing\n",
    "\"\"\"\n",
    "tuple1 = ['a', 1, 3.14]\n",
    "print(tuple1[2])\n",
    "\n",
    "tuple2 = (4.2, ['a','b','c'], [1, 2, 3])\n",
    "print(tuple2[1][2])\n",
    "print(tuple2[2][1])"
   ]
  },
  {
   "cell_type": "code",
   "execution_count": 23,
   "metadata": {},
   "outputs": [
    {
     "name": "stdout",
     "output_type": "stream",
     "text": [
      "('o', 'l', 'l', 'e', 'h')\n",
      "e\n",
      "('h',)\n"
     ]
    }
   ],
   "source": [
    "\"\"\"\n",
    "(2) Negative Indexing\n",
    "-> allows negative indexing for sequencing, start from -1 \n",
    "\"\"\"\n",
    "example_tuple = ('h', 'e', 'l', 'l', 'o')\n",
    "print(example_tuple[::-1])\n",
    "print(example_tuple[-4])\n",
    "\n",
    "t = ('h',)\n",
    "print(t[::-1])"
   ]
  },
  {
   "cell_type": "code",
   "execution_count": 30,
   "metadata": {},
   "outputs": [
    {
     "name": "stdout",
     "output_type": "stream",
     "text": [
      "('g', 'r', 'a', 'm')\n",
      "('g', 'g')\n",
      "('p',)\n",
      "('g', 'n', 'i', 'm', 'm', 'a', 'r', 'g', 'o', 'r', 'p')\n"
     ]
    }
   ],
   "source": [
    "\"\"\"\n",
    "(3) slicing\n",
    "-> can access range of items in tuple by using slicing operator :.\n",
    "\"\"\"\n",
    "tuple1 = ('p', 'r', 'o', 'g', 'r', 'a', 'm', 'm', 'i', 'n', 'g')\n",
    "\n",
    "print(tuple1[3:7])\n",
    "print(tuple1[::-7])\n",
    "\n",
    "print(tuple1[0::-7])\n",
    "print(tuple1[::-1])"
   ]
  },
  {
   "cell_type": "markdown",
   "metadata": {},
   "source": [
    "### Changing a Tuple"
   ]
  },
  {
   "cell_type": "code",
   "execution_count": 37,
   "metadata": {},
   "outputs": [
    {
     "name": "stdout",
     "output_type": "stream",
     "text": [
      "(2.3, 23, ['a', 'e', 'i', 'o', 'u'])\n",
      "('Sabuj',)\n",
      "('Sabuj', 'Rana')\n",
      "('Rana', 'Rana', 'Rana', 'Rana')\n"
     ]
    }
   ],
   "source": [
    "\"\"\"\n",
    "-> element of tuple can't be changed once they are assigned.\n",
    "-> if it's element is mutable datatype then it's nested item can be changed.\n",
    "-> we can also assign a tuple to different value(reassignment)\n",
    "\"\"\"\n",
    "\n",
    "my_example_tuple = (2.3, 23, ['a', 's', 'i', 'o', 'u'])\n",
    "\n",
    "my_example_tuple[2][1] = 'e'\n",
    "print(my_example_tuple)\n",
    "\n",
    "my_example_tuple = (\"Sabuj\",) # reassignment\n",
    "print(my_example_tuple)\n",
    "\n",
    "t2 = \"Rana\", \n",
    "print(my_example_tuple + t2) # concatenation\n",
    "\n",
    "print(t2 * 4) # repetition"
   ]
  },
  {
   "cell_type": "markdown",
   "metadata": {},
   "source": [
    "### Deleting Tuple"
   ]
  },
  {
   "cell_type": "code",
   "execution_count": 43,
   "metadata": {},
   "outputs": [
    {
     "name": "stdout",
     "output_type": "stream",
     "text": [
      "(1, 2, 3)\n"
     ]
    }
   ],
   "source": [
    "\"\"\"\n",
    "-> Tuple is immutable so that we can't delete single item of tuple but entire tuple can be delete using 'del'.\n",
    "\"\"\"\n",
    "t = (1, 2, 3)\n",
    "# del t[0] # does not support\n",
    "print(t)\n",
    "del t\n",
    "\n",
    "#print(t)"
   ]
  },
  {
   "cell_type": "markdown",
   "metadata": {},
   "source": [
    "### Tuple Methods"
   ]
  },
  {
   "cell_type": "code",
   "execution_count": 47,
   "metadata": {},
   "outputs": [
    {
     "name": "stdout",
     "output_type": "stream",
     "text": [
      "2\n",
      "0\n"
     ]
    }
   ],
   "source": [
    "\"\"\"\n",
    "-> item addition and removal is not available in tuple.\n",
    "-> two methods i.e count and index is availabe\n",
    "\"\"\"\n",
    "tuple_example = (\"hari\", 3.14, 2, \"hari\")\n",
    "print(tuple_example.count(\"hari\"))\n",
    "\n",
    "print(tuple_example.index(\"hari\"))"
   ]
  },
  {
   "cell_type": "markdown",
   "metadata": {},
   "source": [
    "### Other Tuple Operation"
   ]
  },
  {
   "cell_type": "code",
   "execution_count": 50,
   "metadata": {},
   "outputs": [
    {
     "name": "stdout",
     "output_type": "stream",
     "text": [
      "True\n",
      "False\n",
      "False\n"
     ]
    }
   ],
   "source": [
    "\"\"\"\n",
    "(1) Membership test: 'in' and 'not in', returns either True or False\n",
    "\"\"\"\n",
    "print(\"hari\" in tuple_example)\n",
    "print(3 in tuple_example)\n",
    "print(3.14 not in tuple_example)"
   ]
  },
  {
   "cell_type": "code",
   "execution_count": 51,
   "metadata": {},
   "outputs": [
    {
     "name": "stdout",
     "output_type": "stream",
     "text": [
      "hari 3.14 2 hari "
     ]
    }
   ],
   "source": [
    "\"\"\"\n",
    "(2) Iterating through a Tuple: for loop to iterate through tuple\n",
    "\n",
    "\"\"\"\n",
    "for item in tuple_example:\n",
    "    print(item, end = ' ')"
   ]
  },
  {
   "cell_type": "markdown",
   "metadata": {},
   "source": [
    "### Advantages of tuple ocer List:"
   ]
  },
  {
   "cell_type": "code",
   "execution_count": null,
   "metadata": {},
   "outputs": [],
   "source": [
    "\"\"\"\n",
    "(1) Tuples are used for heterogenous data types but list are used for homogenous data types.\n",
    "(2) better performance, i.e iterating through tuple is faster than list due to immutability.\n",
    "(3) Immutable item of tuple can be used as dictionary key, but list item is not possible.\n",
    "(4) If data that doesnot change are available then assign it as tuple that guarentee write protected.\n",
    "\"\"\""
   ]
  }
 ],
 "metadata": {
  "kernelspec": {
   "display_name": "Python 3",
   "language": "python",
   "name": "python3"
  },
  "language_info": {
   "codemirror_mode": {
    "name": "ipython",
    "version": 3
   },
   "file_extension": ".py",
   "mimetype": "text/x-python",
   "name": "python",
   "nbconvert_exporter": "python",
   "pygments_lexer": "ipython3",
   "version": "3.8.5"
  }
 },
 "nbformat": 4,
 "nbformat_minor": 4
}
