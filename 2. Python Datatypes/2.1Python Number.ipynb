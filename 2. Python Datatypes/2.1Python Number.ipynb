{
 "cells": [
  {
   "cell_type": "markdown",
   "metadata": {},
   "source": [
    "## Number Data type"
   ]
  },
  {
   "cell_type": "code",
   "execution_count": 1,
   "metadata": {},
   "outputs": [
    {
     "name": "stdout",
     "output_type": "stream",
     "text": [
      "5\n",
      "<class 'int'>\n"
     ]
    }
   ],
   "source": [
    "\"\"\"\n",
    "-> Supports integer, float and complex number \n",
    "-> interger and float are differentiate by decimal(.) and complex are in real+imgj\n",
    "type() : to know which class a vriable or value belongs to\n",
    "isinstance(): to check if it belongs to particular class\n",
    "\"\"\"\n",
    "a = 5\n",
    "print(a)\n",
    "print(type(a))"
   ]
  },
  {
   "cell_type": "code",
   "execution_count": 6,
   "metadata": {},
   "outputs": [
    {
     "name": "stdout",
     "output_type": "stream",
     "text": [
      "3.5\n",
      "<class 'float'>\n"
     ]
    }
   ],
   "source": [
    "b = 3.5\n",
    "print(b)\n",
    "print(type(b))"
   ]
  },
  {
   "cell_type": "code",
   "execution_count": 7,
   "metadata": {},
   "outputs": [
    {
     "name": "stdout",
     "output_type": "stream",
     "text": [
      "(2+3j)\n",
      "3.0\n",
      "2.0\n",
      "<class 'complex'>\n"
     ]
    }
   ],
   "source": [
    "c = 2+3j\n",
    "print(c)\n",
    "print(c.imag)\n",
    "print(c.real)\n",
    "print(type(c))"
   ]
  },
  {
   "cell_type": "code",
   "execution_count": 17,
   "metadata": {},
   "outputs": [
    {
     "name": "stdout",
     "output_type": "stream",
     "text": [
      "(2+3j)\n",
      "0b101\n",
      "0o13\n",
      "0xf\n",
      "5\n",
      "Enter a number to convert into binary: 20\n",
      "The converted binary number of input is 0b10100\n",
      "Enter a binary number to convert into decimal: 10001\n",
      "The converted decimal number of input is 17\n"
     ]
    }
   ],
   "source": [
    "number = 5\n",
    "\n",
    "print(complex(2,3))\n",
    "\n",
    "\n",
    "binary_number = bin(number)\n",
    "print(binary_number)\n",
    "\n",
    "octal_number = oct(11)\n",
    "print(octal_number)\n",
    "\n",
    "hexadecimal_number = hex(15)\n",
    "print(hexadecimal_number)\n",
    "\n",
    "decimal_from_binary = int('101',2)\n",
    "print(decimal_from_binary)\n",
    "\n",
    "some_number = int(input(\"Enter a number to convert into binary: \"))\n",
    "print(\"The converted binary number of input is {}\".format(bin(some_number)))\n",
    "\n",
    "example_number = input(\"Enter a binary number to convert into decimal: \")\n",
    "print(\"The converted decimal number of input is {}\".format(int(example_number,2)))\n"
   ]
  },
  {
   "cell_type": "code",
   "execution_count": 22,
   "metadata": {},
   "outputs": [
    {
     "name": "stdout",
     "output_type": "stream",
     "text": [
      "False\n",
      "3.3000000000000003\n"
     ]
    }
   ],
   "source": [
    "\"\"\"\n",
    "When to use decimal instead of float:\n",
    "(1) financila application that needs exacts decimal representation\n",
    "(2) when we want to control level of precision  required \n",
    "(3) when we want to implement notion of significant decimal places\n",
    "\"\"\"\n",
    "print((1.1 + 2.2 ) == 3.3)\n",
    "print(1.1 + 2.2)\n",
    "\n",
    "# floating point number have precision upto 15 decimal places\n",
    "# decimal module has user-settable precision\n"
   ]
  },
  {
   "cell_type": "code",
   "execution_count": 25,
   "metadata": {},
   "outputs": [
    {
     "name": "stdout",
     "output_type": "stream",
     "text": [
      "0.1\n",
      "0.1000000000000000055511151231257827021181583404541015625\n"
     ]
    }
   ],
   "source": [
    "import decimal\n",
    "print(0.1)\n",
    "print(decimal.Decimal(0.1))\n"
   ]
  },
  {
   "cell_type": "code",
   "execution_count": 31,
   "metadata": {},
   "outputs": [
    {
     "name": "stdout",
     "output_type": "stream",
     "text": [
      "3.3\n",
      "3.000\n"
     ]
    }
   ],
   "source": [
    "from decimal import Decimal as D\n",
    "print(D('1.1') + D('2.2'))\n",
    "print(D('1.2') * D ('2.50'))\n",
    "\n",
    "# floating point operation are much faster than decimal operation"
   ]
  },
  {
   "cell_type": "markdown",
   "metadata": {},
   "source": [
    "### Python Fraction"
   ]
  },
  {
   "cell_type": "code",
   "execution_count": 35,
   "metadata": {},
   "outputs": [
    {
     "name": "stdout",
     "output_type": "stream",
     "text": [
      "3/2\n",
      "5\n",
      "2/3\n"
     ]
    }
   ],
   "source": [
    "\"\"\"\n",
    "-> provide operation involving fractional number through its \"fractions\" module\n",
    "-> fraction has numerator and denominator, both are integers\n",
    "\"\"\"\n",
    "import fractions\n",
    "print(fractions.Fraction(1.5))\n",
    "print(fractions.Fraction(5))\n",
    "print(fractions.Fraction(2,3))"
   ]
  },
  {
   "cell_type": "code",
   "execution_count": 38,
   "metadata": {},
   "outputs": [
    {
     "name": "stdout",
     "output_type": "stream",
     "text": [
      "2476979795053773/2251799813685248\n",
      "11/10\n"
     ]
    }
   ],
   "source": [
    "\"\"\"\n",
    "Fraction allows us to instantiate with string as well\n",
    "\"\"\"\n",
    "import fractions\n",
    "#as float\n",
    "print(fractions.Fraction(1.1))\n",
    "\n",
    "#as string\n",
    "print(fractions.Fraction('1.1'))\n"
   ]
  },
  {
   "cell_type": "code",
   "execution_count": 43,
   "metadata": {},
   "outputs": [
    {
     "name": "stdout",
     "output_type": "stream",
     "text": [
      "2/3\n",
      "1\n",
      "False\n",
      "True\n"
     ]
    }
   ],
   "source": [
    "\"\"\"\n",
    "Supports all basic operations\n",
    "\"\"\"\n",
    "from fractions import Fraction as F\n",
    "\n",
    "print(F(1,3) + F(1, 3))\n",
    "\n",
    "print(1 / F(5, 5))\n",
    "\n",
    "print(F(-3, 10) > 0)\n",
    "\n",
    "print(F(-3, 10) < 0)"
   ]
  },
  {
   "cell_type": "markdown",
   "metadata": {},
   "source": [
    "## Python mathematics"
   ]
  },
  {
   "cell_type": "code",
   "execution_count": 44,
   "metadata": {},
   "outputs": [
    {
     "name": "stdout",
     "output_type": "stream",
     "text": [
      "23\n",
      "24\n",
      "7.38905609893065\n",
      "2.0\n",
      "2\n",
      "0.6931471805599453\n",
      "2.0492180226701815\n",
      "5\n",
      "1\n",
      "(0.12000000000000455, 200.0)\n",
      "4\n",
      "2.35\n",
      "3.0\n"
     ]
    }
   ],
   "source": [
    "\"\"\"\n",
    "Offers math and random module to carry out different mathematics operation\n",
    "\"\"\"\n",
    "import math\n",
    "\n",
    "print(abs(-23))\n",
    "\n",
    "print(math.ceil(23.54))\n",
    "\n",
    "print(math.exp(2))\n",
    "\n",
    "print(math.fabs(-2)) #printed value in float form\n",
    "\n",
    "print(math.floor(2.54))\n",
    "\n",
    "print(math.log(2))\n",
    "\n",
    "print(math.log10(112))\n",
    "\n",
    "print(max(3,4,5))\n",
    "\n",
    "print(min(1,3,7))\n",
    "\n",
    "print(math.modf(200.12))\n",
    "\n",
    "print(pow(2,2))\n",
    "\n",
    "print(round(2.34789,2))\n",
    "\n",
    "print(math.sqrt(9))\n"
   ]
  },
  {
   "cell_type": "code",
   "execution_count": 45,
   "metadata": {},
   "outputs": [
    {
     "name": "stdout",
     "output_type": "stream",
     "text": [
      "0\n",
      "89\n",
      "0.46300692233333973\n",
      "random number with default seed 0.16886189951927266\n",
      "random number with int seed 0.5714025946899135\n",
      "random number with string seed 0.3537754404730722\n",
      "shuffled list is:  ['Gorkha', 21, 30000, 'Sabuj']\n",
      "2.153260075897998\n"
     ]
    }
   ],
   "source": [
    "### Random number Function\n",
    "\n",
    "import random\n",
    "num = random.choice(range(5))\n",
    "print(num)\n",
    "\n",
    "random_number = random.randrange(1,100,2)\n",
    "print(random_number)\n",
    "\n",
    "rand_number = random.random()\n",
    "print(rand_number)\n",
    "random.seed()\n",
    "print (\"random number with default seed\", random.random())\n",
    "random.seed(10)\n",
    "print (\"random number with int seed\", random.random())\n",
    "random.seed(\"hello\",2)\n",
    "print (\"random number with string seed\", random.random())\n",
    "\n",
    "mylist = [\"Sabuj\", 21, \"Gorkha\", 30000]\n",
    "random.shuffle(mylist)\n",
    "print(\"shuffled list is: \",mylist)\n",
    "\n",
    "print(random.uniform(2,5))\n"
   ]
  },
  {
   "cell_type": "code",
   "execution_count": 46,
   "metadata": {},
   "outputs": [
    {
     "name": "stdout",
     "output_type": "stream",
     "text": [
      "The value of mathematical pi is:  3.141592653589793\n",
      "The value of e is:  2.718281828459045\n"
     ]
    }
   ],
   "source": [
    "### Mathematical Constanat\n",
    "import math\n",
    "print(\"The value of mathematical pi is: \",math.pi)\n",
    "\n",
    "print(\"The value of e is: \",math.e)"
   ]
  }
 ],
 "metadata": {
  "kernelspec": {
   "display_name": "Python 3 (ipykernel)",
   "language": "python",
   "name": "python3"
  },
  "language_info": {
   "codemirror_mode": {
    "name": "ipython",
    "version": 3
   },
   "file_extension": ".py",
   "mimetype": "text/x-python",
   "name": "python",
   "nbconvert_exporter": "python",
   "pygments_lexer": "ipython3",
   "version": "3.12.3"
  }
 },
 "nbformat": 4,
 "nbformat_minor": 4
}
