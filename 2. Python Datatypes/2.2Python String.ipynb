{
 "cells": [
  {
   "cell_type": "markdown",
   "metadata": {},
   "source": [
    "## String"
   ]
  },
  {
   "cell_type": "code",
   "execution_count": 4,
   "metadata": {},
   "outputs": [
    {
     "name": "stdout",
     "output_type": "stream",
     "text": [
      "Sabuj\n",
      "\n",
      "Hello\n",
      "\n"
     ]
    }
   ],
   "source": [
    "\"\"\"\n",
    "-> sequence of characters\n",
    "-> ASCCII and Unicode are the popular string encoding method\n",
    "-> Python used Unicode for encoding string\n",
    "-> single or double quotation ('',\"\") are used to create string\n",
    "-> '''''',\"\"\"\"\"\" are used for multiline or docstring\n",
    "-> immutable\n",
    "\"\"\"\n",
    "name = \"Sabuj\"\n",
    "print(name)\n",
    "my_string = \"\"\"\n",
    "Hello\n",
    "\"\"\"\n",
    "print(my_string)\n"
   ]
  },
  {
   "cell_type": "markdown",
   "metadata": {},
   "source": [
    "### Accesing Character in the String"
   ]
  },
  {
   "cell_type": "code",
   "execution_count": 10,
   "metadata": {},
   "outputs": [
    {
     "name": "stdout",
     "output_type": "stream",
     "text": [
      "Programming\n",
      "P\n",
      "g\n",
      "ogramming\n",
      "Progr\n"
     ]
    }
   ],
   "source": [
    "\"\"\"\n",
    "-> can access individual character using indexing and range of character using slicing\n",
    "-> outof index will raise IndexError, other than int in index raise TypeError\n",
    "-> index start from 0 and always integer\n",
    "-> allows negative index for sequence, start will from -1\n",
    "\"\"\"\n",
    "str_example = \"Programming\"\n",
    "print(str_example)\n",
    "\n",
    "print(str_example[0])\n",
    "\n",
    "print(str_example[-1])\n",
    "\n",
    "print(str_example[2:])\n",
    "\n",
    "print(str_example[:5])"
   ]
  },
  {
   "cell_type": "markdown",
   "metadata": {},
   "source": [
    "### Changing or deleting string"
   ]
  },
  {
   "cell_type": "code",
   "execution_count": 17,
   "metadata": {},
   "outputs": [
    {
     "name": "stdout",
     "output_type": "stream",
     "text": [
      "Python\n",
      "Nepal\n"
     ]
    }
   ],
   "source": [
    "\"\"\"\n",
    "-> we can change the string once they have assigned but can reassign different string to same name\n",
    "-> we can't remove or delete character from string but can delete entire string using del keyword\n",
    "\"\"\"\n",
    "my_string = \"Python\"\n",
    "print(my_string)\n",
    "\n",
    "my_string = \"Nepal\"\n",
    "print(my_string)\n",
    "\n",
    "#my_string[2] = 'a'\n",
    "#del my_string[3]\n",
    "\n",
    "del my_string\n",
    "#print(my_string)"
   ]
  },
  {
   "cell_type": "markdown",
   "metadata": {},
   "source": [
    "### Python String Operation"
   ]
  },
  {
   "cell_type": "code",
   "execution_count": 26,
   "metadata": {},
   "outputs": [
    {
     "name": "stdout",
     "output_type": "stream",
     "text": [
      "HariChaudhary\n",
      "ChaudharyChaudharyChaudharyChaudharyChaudhary\n",
      "RamchandraAle\n"
     ]
    }
   ],
   "source": [
    "# concatenation\n",
    "\n",
    "name = \"Hari\"\n",
    "cast = \"Chaudhary\"\n",
    "print(name + cast)\n",
    "\n",
    "#repetition\n",
    "print(cast*5)\n",
    "\n",
    "#if we want concatenate string in different lines, we can use parenthesis\n",
    "name = (\"Ramchandra\"\n",
    "        \"Ale\")\n",
    "print(name)"
   ]
  },
  {
   "cell_type": "code",
   "execution_count": 31,
   "metadata": {},
   "outputs": [
    {
     "name": "stdout",
     "output_type": "stream",
     "text": [
      "2\n"
     ]
    }
   ],
   "source": [
    "### Iterating through string\n",
    "\"\"\"\n",
    "We can iterate string using for loop\n",
    "\"\"\"\n",
    "count = 0\n",
    "for character in \"programming\":\n",
    "    if character == 'r':\n",
    "        count += 1\n",
    "print(count)"
   ]
  },
  {
   "cell_type": "code",
   "execution_count": 33,
   "metadata": {},
   "outputs": [
    {
     "name": "stdout",
     "output_type": "stream",
     "text": [
      "True\n",
      "False\n"
     ]
    }
   ],
   "source": [
    "### String membership test\n",
    "print('i' in 'programming')\n",
    "print('g' not in 'programming')"
   ]
  },
  {
   "cell_type": "markdown",
   "metadata": {},
   "source": [
    "### Built in Function"
   ]
  },
  {
   "cell_type": "code",
   "execution_count": 35,
   "metadata": {},
   "outputs": [
    {
     "name": "stdout",
     "output_type": "stream",
     "text": [
      "Sabuj rana\n",
      "sabuj rana\n",
      "##########sAbUj RaNa##########\n",
      "1\n",
      "False\n",
      "sAbUj RaNa\n",
      "7\n",
      "1\n",
      "a_b_c_d\n",
      "2\n",
      "sAbUj RaNa__________\n",
      "th3s 3s str3ng 2x1mpl2....w4w!!!\n",
      "sabuj rana\n",
      "sabuj\n",
      "Max character: y\n",
      "Max character: x\n",
      "Min character: .\n",
      "Min character: A\n",
      "sAbUj R1Na\n",
      "9\n",
      "9\n",
      "______name\n",
      "nm\n",
      "['Hi', 'Good', 'Morning!!!']\n",
      "['H', ' Good Morn', 'ng!!!']\n",
      "['Good ', 'Morning ', 'Sir']\n",
      "True\n",
      "Oh my lord\n",
      "SaBuJ rAnA\n",
      "Sabuj Rana\n",
      "SABUJ RANA\n",
      "00000sAbUj RaNa\n",
      "False\n"
     ]
    }
   ],
   "source": [
    "name = \"sAbUj RaNa\"\n",
    "\n",
    "print(name.capitalize())\n",
    "\n",
    "print(name.casefold())\n",
    "\n",
    "print(name.center(30, \"#\"))\n",
    "\n",
    "print(name.count(\"s\"))\n",
    "\n",
    "print(name.endswith(\"a\",0,6))\n",
    "\n",
    "print(name.expandtabs())\n",
    "\n",
    "print(name.find(\"a\"))\n",
    "\n",
    "print(name.index(\"A\"))\n",
    "\n",
    "print(name.lower())\n",
    "\n",
    "\n",
    "\n"
   ]
  },
  {
   "cell_type": "code",
   "execution_count": 37,
   "metadata": {},
   "outputs": [
    {
     "name": "stdout",
     "output_type": "stream",
     "text": [
      "True\n",
      "True\n",
      "False\n",
      "False\n",
      "False\n",
      "False\n",
      "True\n",
      "False\n"
     ]
    }
   ],
   "source": [
    "ha = \"nAm\"\n",
    "print(ha.isalnum())\n",
    "\n",
    "print(ha.isalpha())\n",
    "\n",
    "print(ha.isdigit())\n",
    "\n",
    "print(ha.islower())\n",
    "\n",
    "print(ha.isnumeric())\n",
    "\n",
    "print(ha.isspace())\n",
    "tt = \"Hi\"\n",
    "print(tt.istitle())\n",
    "\n",
    "print(tt.isupper())\n",
    "\n",
    "# name = \"\"\n",
    "# cast = \"Sabuj Rana\"\n",
    "# print(name.join(cast))\n"
   ]
  },
  {
   "cell_type": "code",
   "execution_count": 43,
   "metadata": {},
   "outputs": [
    {
     "name": "stdout",
     "output_type": "stream",
     "text": [
      "a_b_c_d\n",
      "4\n",
      "sAbUj RaNa__________\n",
      "sabuj\n",
      "sAbUj R1Na\n",
      "9\n",
      "9\n",
      "______name\n",
      "nm\n"
     ]
    }
   ],
   "source": [
    "number1 = \"_\"\n",
    "alpha1 = \"a\", \"b\" ,\"c\" ,\"d\"\n",
    "print(number1.join(alpha1))\n",
    "\n",
    "print(len(alpha1))\n",
    "\n",
    "a = print(name.ljust(20,\"_\"))\n",
    "\n",
    "naa = \"-----sabuj\"\n",
    "print(naa.lstrip(\"-\"))\n",
    "\n",
    "print(name.replace(\"a\",\"1\",1))\n",
    "\n",
    "print(name.rfind(\"a\"))\n",
    "\n",
    "print(name.rindex(\"a\"))\n",
    "\n",
    "ex = \"name\"\n",
    "print(ex.rjust(10,\"_\"))\n",
    "\n",
    "e = \"nm____\"\n",
    "print(e.rstrip(\"_\"))\n",
    "\n",
    "\n"
   ]
  },
  {
   "cell_type": "code",
   "execution_count": 40,
   "metadata": {},
   "outputs": [
    {
     "name": "stdout",
     "output_type": "stream",
     "text": [
      "th3s 3s str3ng 2x1mpl2....w4w!!!\n"
     ]
    }
   ],
   "source": [
    "intab = \"aeiou\"\n",
    "outtab = \"12345\"\n",
    "trantab = str.maketrans(intab, outtab)\n",
    "str = \"this is string example....wow!!!\"\n",
    "print (str.translate(trantab))\n"
   ]
  },
  {
   "cell_type": "code",
   "execution_count": 42,
   "metadata": {},
   "outputs": [
    {
     "name": "stdout",
     "output_type": "stream",
     "text": [
      "Max character: y\n",
      "Max character: x\n",
      "Min character: .\n",
      "Min character: A\n"
     ]
    }
   ],
   "source": [
    "# print(max(name))\n",
    "\n",
    "str = \"this is a string example....really!!!\"\n",
    "print (\"Max character: \" + max(str))\n",
    "str = \"this is a string example....wow!!!\"\n",
    "print (\"Max character: \" + max(str))\n",
    "\n",
    "# print(min(name))\n",
    "str = \"www.tutorialspoint.com\"\n",
    "print (\"Min character: \" + min(str))\n",
    "str = \"TUTORIALSPOINT\"\n",
    "print (\"Min character: \" + min(str))\n"
   ]
  },
  {
   "cell_type": "code",
   "execution_count": 44,
   "metadata": {},
   "outputs": [
    {
     "name": "stdout",
     "output_type": "stream",
     "text": [
      "['Hi', 'Good', 'Morning!!!']\n",
      "['H', ' Good Morn', 'ng!!!']\n",
      "['Good ', 'Morning ', 'Sir']\n",
      "True\n",
      "Oh my lord\n",
      "SaBuJ rAnA\n",
      "Sabuj Rana\n",
      "SABUJ RANA\n",
      "00000sAbUj RaNa\n",
      "False\n"
     ]
    }
   ],
   "source": [
    "greet = \"Hi Good Morning!!!\" \n",
    "print(greet.split())\n",
    "print(greet.split(\"i\"))\n",
    "\n",
    "mygreet = \"Good \\nMorning \\nSir\"\n",
    "print(mygreet.splitlines())\n",
    "\n",
    "print(mygreet.startswith(\"G\"))\n",
    "\n",
    "mylord = \"------Oh my lord-------\"\n",
    "print(mylord.strip(\"-\"))\n",
    "\n",
    "print(name.swapcase())\n",
    "\n",
    "print(name.title())\n",
    "\n",
    "print(name.upper())\n",
    "\n",
    "print(name.zfill(15))\n",
    "\n",
    "print(number1.isdecimal())\n",
    "\n"
   ]
  },
  {
   "cell_type": "code",
   "execution_count": 46,
   "metadata": {},
   "outputs": [
    {
     "name": "stdout",
     "output_type": "stream",
     "text": [
      "11\n",
      "[(0, 'P'), (1, 'r'), (2, 'o'), (3, 'g'), (4, 'r'), (5, 'a'), (6, 'm'), (7, 'm'), (8, 'i'), (9, 'n'), (10, 'g')]\n"
     ]
    }
   ],
   "source": [
    "### Another important built in function is enumerate()\n",
    "\"\"\"\n",
    "returns an enumerate object which contains index and value of all items in string as pairs, which can be \n",
    "useful for iteration\n",
    "\"\"\"\n",
    "string_example = \"Programming\"\n",
    "print(len(string_example))\n",
    "list_enumerate = list(enumerate(string_example))\n",
    "print(list_enumerate)"
   ]
  },
  {
   "cell_type": "markdown",
   "metadata": {},
   "source": [
    "### Python string formating"
   ]
  },
  {
   "cell_type": "markdown",
   "metadata": {},
   "source": [
    "#### Escape Sequence"
   ]
  },
  {
   "cell_type": "code",
   "execution_count": 16,
   "metadata": {},
   "outputs": [
    {
     "name": "stdout",
     "output_type": "stream",
     "text": [
      "He said, \"what's there?\"\n",
      "He said,\"what's there?\" \n",
      "He said, \"what's there?\"\n",
      "He said \"What's there?\" \n",
      "Sabuj Rana\n",
      "Sabuj Rana\n",
      "This is \n",
      " Sabuj Rana\n",
      "This is \\n sabuj Rana\n",
      "sabuj\tRana\n",
      "Sabuj\\tRana\n",
      "\\n\n",
      "\\n\n"
     ]
    }
   ],
   "source": [
    "\"\"\"\n",
    "-> Starts with backslash and it interpreted differently.\n",
    "\"\"\"\n",
    "# using triple quotes\n",
    "print('''He said, \"what's there?\"''')\n",
    "print(\"\"\"He said,\"what's there?\" \"\"\")\n",
    "\n",
    "# escaping single quotes\n",
    "print('He said, \"what\\'s there?\"')\n",
    "\n",
    "# escaping double quotes\n",
    "print(\"He said \\\"What's there?\\\" \")\n",
    "\n",
    "#r and R: Raw string\n",
    "\"\"\"\n",
    "-> Ignore the escape sequences inside a string\n",
    "-> we can place r or R in front  of string\n",
    "-> This means that it is raw string and any escape sequence it will be ignored.\n",
    "\"\"\"\n",
    "print(r\"Sabuj Rana\")\n",
    "print(R\"Sabuj Rana\")\n",
    "print(\"This is \\n Sabuj Rana\")\n",
    "print(r\"This is \\n sabuj Rana\")\n",
    "print(\"sabuj\\tRana\")\n",
    "print(r\"Sabuj\\tRana\")\n",
    "print(r\"\\n\")\n",
    "print(R\"\\n\")\n"
   ]
  },
  {
   "cell_type": "code",
   "execution_count": 21,
   "metadata": {},
   "outputs": [
    {
     "name": "stdout",
     "output_type": "stream",
     "text": [
      "Sabuj Rana is 22 years old.\n",
      "Sabuj Rana is 22 years old.\n",
      "Sabuj Rana is 22 years old.\n",
      "Sabuj Rana is 22 years old.\n"
     ]
    }
   ],
   "source": [
    "### Format method for formatting string\n",
    "\"\"\"\n",
    "-> format() method can be used, contains curly braces{}, as place holder or replacement fields\n",
    "-> can use positional or keyword argument to specify order.\n",
    "\"\"\"\n",
    "# default(implicit) order\n",
    "name = \"Sabuj Rana\"\n",
    "age = 22\n",
    "print(\"{} is {} years old.\".format(name, age))\n",
    "\n",
    "#positional argument\n",
    "print(\"{1} is {0} years old.\".format(age, name))\n",
    "\n",
    "#keyword argument\n",
    "print(\"{a} is {b} years old.\".format(a = name, b= age))\n",
    "\n",
    "# old style formating\n",
    "print(\"%s is %d years old.\"%(name, age))"
   ]
  },
  {
   "cell_type": "code",
   "execution_count": null,
   "metadata": {},
   "outputs": [],
   "source": []
  }
 ],
 "metadata": {
  "kernelspec": {
   "display_name": "Python 3 (ipykernel)",
   "language": "python",
   "name": "python3"
  },
  "language_info": {
   "codemirror_mode": {
    "name": "ipython",
    "version": 3
   },
   "file_extension": ".py",
   "mimetype": "text/x-python",
   "name": "python",
   "nbconvert_exporter": "python",
   "pygments_lexer": "ipython3",
   "version": "3.12.3"
  }
 },
 "nbformat": 4,
 "nbformat_minor": 4
}
