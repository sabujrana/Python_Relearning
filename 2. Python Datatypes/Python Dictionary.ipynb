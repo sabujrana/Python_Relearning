{
 "cells": [
  {
   "cell_type": "markdown",
   "metadata": {},
   "source": [
    "## Dictionary"
   ]
  },
  {
   "cell_type": "code",
   "execution_count": 1,
   "metadata": {},
   "outputs": [
    {
     "data": {
      "text/plain": [
       "'\\n-> unordered collection of items\\n-> each item has key and value pair\\n-> optimize to retrive value when key is known\\n'"
      ]
     },
     "execution_count": 1,
     "metadata": {},
     "output_type": "execute_result"
    }
   ],
   "source": [
    "\"\"\"\n",
    "-> unordered collection of items\n",
    "-> each item has key and value pair\n",
    "-> optimize to retrive value when key is known\n",
    "\"\"\""
   ]
  },
  {
   "cell_type": "markdown",
   "metadata": {},
   "source": [
    "### Creating Dictionary"
   ]
  },
  {
   "cell_type": "code",
   "execution_count": 6,
   "metadata": {},
   "outputs": [
    {
     "name": "stdout",
     "output_type": "stream",
     "text": [
      "{1: 'hello', 'a': 5, (2, 3): 2}\n",
      "{1: 'a', 2: 'b'}\n"
     ]
    }
   ],
   "source": [
    "\"\"\"\n",
    "-> creating by placing item inside curly braces{} separated by comma\n",
    "-> key and value are expressed as key: value\n",
    "-> values can be of any type and can repeat\n",
    "-> keys must be immutable(string, number, tuple)\n",
    "\"\"\"\n",
    "my_dict = {1:'hello','a': 5, (2, 3): 2}\n",
    "print(my_dict)\n",
    "\n",
    "#sequence havin each pair as item\n",
    "dict1 = dict([(1,\"a\"), (2,'b')])\n",
    "print(dict1)\n"
   ]
  },
  {
   "cell_type": "markdown",
   "metadata": {},
   "source": [
    "### Accesing elements"
   ]
  },
  {
   "cell_type": "code",
   "execution_count": 12,
   "metadata": {},
   "outputs": [
    {
     "name": "stdout",
     "output_type": "stream",
     "text": [
      "23\n",
      "None\n",
      "Shyam\n"
     ]
    }
   ],
   "source": [
    "\"\"\"\n",
    "-> keys are used to access values\n",
    "-> keys are used either inside [] or get() method\n",
    "-> get() return None and [] return KeyError if key is not found\n",
    "\"\"\"\n",
    "dictionaryExample = {'name': 'Shyam', 'age': 23}\n",
    "\n",
    "#get\n",
    "print(dictionaryExample.get('age'))\n",
    "print(dictionaryExample.get('salary'))\n",
    "\n",
    "#[]\n",
    "print(dictionaryExample['name'])\n",
    "#print(dictionaryExample['salary'])\n"
   ]
  },
  {
   "cell_type": "markdown",
   "metadata": {},
   "source": [
    "### Changing and adding elements"
   ]
  },
  {
   "cell_type": "code",
   "execution_count": 15,
   "metadata": {},
   "outputs": [
    {
     "name": "stdout",
     "output_type": "stream",
     "text": [
      "{'name': 'Shyam', 'age': 22, 'salary': 20000}\n",
      "{'name': 'Shyam', 'age': 22, 'salary': 20000}\n"
     ]
    }
   ],
   "source": [
    "\"\"\"\n",
    "-> mutable \n",
    "-> add or change value of existing item using assignment operator\n",
    "-> if key is already existed then existing value will be updated\n",
    "-> If key is not present new Key:value pair will be added \n",
    "\"\"\"\n",
    "dictionaryExample['age'] = 22\n",
    "print(dictionaryExample)#value updated\n",
    "\n",
    "dictionaryExample['salary'] = 20000\n",
    "print(dictionaryExample)#item added\n"
   ]
  },
  {
   "cell_type": "markdown",
   "metadata": {},
   "source": [
    "### Removing elements"
   ]
  },
  {
   "cell_type": "code",
   "execution_count": 34,
   "metadata": {},
   "outputs": [
    {
     "name": "stdout",
     "output_type": "stream",
     "text": [
      "{1: 1, 2: 4, 3: 9, 4: 16, 5: 25}\n",
      "4\n",
      "{1: 1, 3: 9, 4: 16, 5: 25}\n",
      "(5, 25)\n",
      "{1: 1, 3: 9, 4: 16}\n",
      "{}\n"
     ]
    }
   ],
   "source": [
    "\"\"\"\n",
    "-> removing particular item by using pop(); removes item with provided key\n",
    "-> popitem() can be used to remove and return arbitrary (key, value) pair\n",
    "-> all items can be removed by using clear()\n",
    "-> del remove individual item or entire dictionary itself\n",
    "\n",
    "\"\"\"\n",
    "squares = {1: 1, 2: 4, 3: 9, 4: 16, 5: 25}\n",
    "print(squares)\n",
    "\n",
    "#particular item\n",
    "print(squares.pop(2))\n",
    "print(squares)\n",
    "\n",
    "#arbitrary value\n",
    "print(squares.popitem())\n",
    "print(squares)\n",
    "\n",
    "#remove all item\n",
    "squares.clear()\n",
    "print(squares)\n",
    "\n",
    "del squares\n",
    "# print(squares) throws error"
   ]
  },
  {
   "cell_type": "markdown",
   "metadata": {},
   "source": [
    "### Dictionary Methods"
   ]
  },
  {
   "cell_type": "code",
   "execution_count": 35,
   "metadata": {},
   "outputs": [
    {
     "name": "stdout",
     "output_type": "stream",
     "text": [
      "{}\n",
      "{'Name': 'Ram', 'Salary': 25000, 'Gender': 'Male'}\n",
      "{'name': None, 'age': None, 'salary': None}\n",
      "{'name': 'Sabuj', 'age': 'Sabuj', 'salary': 'Sabuj'}\n",
      "None\n",
      "dict_items([('Name', 'Ram'), ('Salary', 25000), ('Gender', 'Male')])\n",
      "dict_keys(['Name', 'Salary', 'Gender'])\n",
      "Gorkha\n",
      "{'Name': 'Ram', 'Salary': 25000, 'Gender': 'Male', 'Address': 'Gorkha'}\n",
      "{'Name': 'Ram', 'Salary': 25000, 'Gender': 'Male', 'Address': 'Gorkha'}\n",
      "dict_values(['Ram', 25000, 'Male', 'Gorkha'])\n"
     ]
    }
   ],
   "source": [
    "\"\"\"Dictionary Methods\"\"\"\n",
    "My_dictionary = {\"name\": \"sabuj\", \n",
    "\"age\": 22,\n",
    "\"Address\": \"Gorkha\"\n",
    "}\n",
    "\n",
    "test_dictionary = {\"Name\": \"Ram\", \"Salary\": 25000, \"Gender\": \"Male\"}\n",
    "\n",
    "\n",
    "My_dictionary.clear()\n",
    "print(My_dictionary)\n",
    "\n",
    "My_dictionary = test_dictionary.copy()\n",
    "print(My_dictionary)\n",
    "\n",
    "\"\"\"important\"\"\"\n",
    "seq = (\"name\", \"age\", \"salary\")\n",
    "new_dictionary = dict.fromkeys(seq)\n",
    "print(new_dictionary)\n",
    "\n",
    "updated_dictionary = dict.fromkeys(seq,\"Sabuj\")\n",
    "print(updated_dictionary)\n",
    "\n",
    "print(My_dictionary.get(\"Address\",\"None\"))\n",
    "\n",
    "print(My_dictionary.items())\n",
    "\n",
    "print(My_dictionary.keys())\n",
    "\n",
    "print(My_dictionary.setdefault(\"Address\",\"Gorkha\"))\n",
    "print(My_dictionary)\n",
    "\n",
    "My_dictionary.update(test_dictionary)\n",
    "\n",
    "print(My_dictionary)\n",
    "\n",
    "print(My_dictionary.values())\n"
   ]
  },
  {
   "cell_type": "code",
   "execution_count": 56,
   "metadata": {},
   "outputs": [
    {
     "name": "stdout",
     "output_type": "stream",
     "text": [
      "{'i': None, 'u': None, 'e': None, 'o': None, 'a': None}\n",
      "{'i': 'vowel', 'u': 'vowel', 'e': 'vowel', 'o': 'vowel', 'a': 'vowel'}\n",
      "{'i': [1], 'u': [1], 'e': [1], 'o': [1], 'a': [1]}\n",
      "[1, 2]\n",
      "{'i': [1, 2], 'u': [1, 2], 'e': [1, 2], 'o': [1, 2], 'a': [1, 2]}\n",
      "{'i': [5], 'u': [5], 'e': [5], 'o': [5], 'a': [5]}\n",
      "[5, 10]\n",
      "{'i': [5], 'u': [5], 'e': [5], 'o': [5], 'a': [5]}\n"
     ]
    }
   ],
   "source": [
    "### fromkeys Example\n",
    "\"\"\"\n",
    "-> creates new dictoinary from given seqeunce of element with value provided by the user\n",
    "Syntax: \n",
    "dictionary.fromkeys(sequence[,values])\n",
    "\n",
    "parameters:\n",
    "sequence: sequence of elements which is to be used as keys for the new dictionary\n",
    "value(optional): value which is set to each element of dictionary\n",
    "\"\"\"\n",
    "\n",
    "#creating dictionary from sequence of keys\n",
    "sequence = {'a', 'e', 'i', 'o', 'u'}\n",
    "\n",
    "vowels = dict.fromkeys(sequence)\n",
    "print(vowels)\n",
    "\n",
    "\n",
    "#creating dictionary from seequence of keys with values\n",
    "value = \"vowel\"\n",
    "vowels1 = dict.fromkeys(sequence, value)\n",
    "print(vowels1)\n",
    "\n",
    "#creating dictionary from mutable object list\n",
    "keys = {'a', 'e', 'i', 'o', 'u'}\n",
    "value = [1]\n",
    "\n",
    "vowels3 = dict.fromkeys(keys, value)\n",
    "print(vowels3)\n",
    "\n",
    "value.append(2)\n",
    "print(value)\n",
    "print(vowels3)\n",
    "\n",
    "\"\"\"\n",
    "-> value is mutable object(whose value can be modified) like list, dictionary etc. when mutable object is modified\n",
    "each object is modified, each element of sequence also gets updated.\n",
    "-> this is because each element is assigned a reference to same object (point to same object in memory)\n",
    "## to avoid this we use dictionary comprehension\n",
    "\"\"\"\n",
    "keys = {'a', 'e', 'i', 'o', 'u'}\n",
    "value = [5]\n",
    "\n",
    "vowels = {key: list(value) for key in keys}\n",
    "#we can also use {key: value[:] for key in keys}\n",
    "print(vowels)\n",
    "\n",
    "\n",
    "\n",
    "\"\"\"\n",
    "-> for each key in 'keys' new list from 'value' is created and assigned to it.\n",
    "-> In essence, 'value' isn't assigned to element but a new list is created from it, which is then assigned to each\n",
    "element in dictionary.\n",
    "\n",
    "\"\"\"\n",
    "value.append(10)\n",
    "print(value)\n",
    "print(vowels)"
   ]
  },
  {
   "cell_type": "code",
   "execution_count": 64,
   "metadata": {},
   "outputs": [
    {
     "name": "stdout",
     "output_type": "stream",
     "text": [
      "{'Maths': 0, 'Sciene': 0, 'English': 0}\n",
      "('Maths', 0)\n",
      "('Sciene', 0)\n",
      "('English', 0)\n",
      "['English', 'Maths', 'Sciene']\n"
     ]
    }
   ],
   "source": [
    "### dictionary methods\n",
    "\n",
    "marks = {}.fromkeys(['Maths', 'Sciene', 'English'], 0)\n",
    "print(marks)\n",
    "\n",
    "for item in marks.items():\n",
    "    print(item)\n",
    "    \n",
    "value = (list(sorted(marks.keys())))\n",
    "print(value)"
   ]
  },
  {
   "cell_type": "markdown",
   "metadata": {},
   "source": [
    "### Dictionary Comprehension"
   ]
  },
  {
   "cell_type": "code",
   "execution_count": 67,
   "metadata": {},
   "outputs": [
    {
     "name": "stdout",
     "output_type": "stream",
     "text": [
      "{0: 0, 1: 1, 2: 4, 3: 9, 4: 16}\n",
      "{0: 0, 1: 1, 2: 4, 3: 9, 4: 16}\n",
      "{0: 0, 2: 4, 4: 16}\n"
     ]
    }
   ],
   "source": [
    "\"\"\"\n",
    "-> elegant and concise way to create a new dictionary from an iterable\n",
    "Expression: key:value followed by 'for' keyword.\n",
    "\n",
    "\"\"\"\n",
    "squares = {x: x**2 for x in range(5)}\n",
    "print(squares)\n",
    "\n",
    "#equvalent with\n",
    "square = {}\n",
    "for x in range(5):\n",
    "    square[x] = x**2\n",
    "print(squares)\n",
    "\n",
    "\n",
    "\"\"\"\n",
    "-> dictionary comprehension can optionally contain more for or if statement\n",
    "-> optional 'if' statement can filter out items to form new dictionary\n",
    "\"\"\"\n",
    "even_square = {x: x**2 for x in range(5) if x % 2 == 0}\n",
    "print(even_square)"
   ]
  },
  {
   "cell_type": "markdown",
   "metadata": {},
   "source": [
    "### Other Dictionary Operations"
   ]
  },
  {
   "cell_type": "code",
   "execution_count": 84,
   "metadata": {},
   "outputs": [
    {
     "name": "stdout",
     "output_type": "stream",
     "text": [
      "True\n",
      "False\n",
      "False\n",
      "True\n",
      "1 4 9 16 25 "
     ]
    }
   ],
   "source": [
    "## Membership Test\n",
    "\"\"\"\n",
    "-> can test either 'key' is present or not using 'in'\n",
    "-> membership test is only for key not for value\n",
    "\"\"\"\n",
    "squares = {1: 1, 2: 4, 3: 9, 4: 16, 5: 25}\n",
    "print(1 in squares)\n",
    "\n",
    "print(2 not in squares)\n",
    "\n",
    "print(6 in squares)\n",
    "\n",
    "print(9 not in squares)\n",
    "\n",
    "\n",
    "## Iterating through a Dictionary\n",
    "\"\"\"\n",
    "We can iterate through each key in dictionary using 'for' loop\n",
    "\"\"\"\n",
    "for key in squares:\n",
    "    #key\n",
    "    #print(key,end = \" \", sep = \" \")\n",
    "    #value\n",
    "    print(squares[key], end = \" \")\n"
   ]
  },
  {
   "cell_type": "markdown",
   "metadata": {},
   "source": [
    "### Dictionary Built-in Fuction"
   ]
  },
  {
   "cell_type": "code",
   "execution_count": 90,
   "metadata": {},
   "outputs": [
    {
     "name": "stdout",
     "output_type": "stream",
     "text": [
      "True\n",
      "True\n",
      "5\n",
      "[5, 4, 3, 2, 1]\n"
     ]
    }
   ],
   "source": [
    "\"\"\"\n",
    "all(), any(), len(), sorted(), are commonly used with dictionary to prform different tasks\n",
    "\"\"\"\n",
    "print(all(squares))\n",
    "\n",
    "print(any(squares))\n",
    "\n",
    "print(len(squares))\n",
    "\n",
    "print(sorted(squares, reverse=True))"
   ]
  }
 ],
 "metadata": {
  "kernelspec": {
   "display_name": "Python 3",
   "language": "python",
   "name": "python3"
  },
  "language_info": {
   "codemirror_mode": {
    "name": "ipython",
    "version": 3
   },
   "file_extension": ".py",
   "mimetype": "text/x-python",
   "name": "python",
   "nbconvert_exporter": "python",
   "pygments_lexer": "ipython3",
   "version": "3.8.5"
  }
 },
 "nbformat": 4,
 "nbformat_minor": 4
}
