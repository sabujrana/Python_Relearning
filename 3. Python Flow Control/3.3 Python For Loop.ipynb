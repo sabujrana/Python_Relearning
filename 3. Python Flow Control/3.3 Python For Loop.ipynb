{
 "cells": [
  {
   "cell_type": "markdown",
   "metadata": {},
   "source": [
    "### For loop"
   ]
  },
  {
   "cell_type": "code",
   "execution_count": 1,
   "metadata": {},
   "outputs": [
    {
     "name": "stdout",
     "output_type": "stream",
     "text": [
      "73\n"
     ]
    }
   ],
   "source": [
    "\"\"\"\n",
    "-> for loop is used to interate over a sequence(list, tuple, string) or iterable objects\n",
    "-> iterating over a sequence is called traversal\n",
    "Syntax: \n",
    "\n",
    "for val in sequence:\n",
    "    Body of for loop\n",
    "\n",
    "-> Here val is variable which takes value of item inside sequence on each iteration\n",
    "-> loop will continue until reach the last item in the sequence\n",
    "\n",
    "\"\"\"\n",
    "sum = 0\n",
    "number = [1,7,22, 8, 23,12]\n",
    "for item in number:\n",
    "    sum += item\n",
    "print(sum)"
   ]
  },
  {
   "cell_type": "code",
   "execution_count": 6,
   "metadata": {},
   "outputs": [
    {
     "name": "stdout",
     "output_type": "stream",
     "text": [
      "range(0, 10)\n",
      "[0, 1, 2, 3, 4, 5, 6, 7, 8, 9]\n",
      "[2, 3, 4, 5, 6, 7]\n",
      "[2, 5, 8, 11, 14, 17]\n",
      "I like pop\n",
      "I like rock\n",
      "I like jazz\n"
     ]
    }
   ],
   "source": [
    "\"\"\"\n",
    "## range() Function\n",
    "-> used to generate sequence of number\n",
    "-> range object is \"lazy\" in sense beacause it doesn't generate every no that it \"contains\" when we create it.\n",
    "-> it is not iterator because it supports in, len and __getitem__ operation\n",
    "-> doesnot store all values in memory, it would be inefficient.\n",
    "-> Due to above reason it remember start, stop and step size and generated next number\n",
    "-> To force this function to ouput all items we can use list() function\n",
    "\"\"\"\n",
    "print(range(10))\n",
    "print(list(range(10)))\n",
    "print(list(range(2, 8)))\n",
    "print(list(range(2, 20, 3)))\n",
    "\n",
    "\"\"\"\n",
    "-> we can use range() function in for loops to iterate through sequence of numbers.\n",
    "-> can be combined with len() to iterate through sequence using index\n",
    "\"\"\"\n",
    "\n",
    "genre_of_songs = ['pop', 'rock', 'jazz']\n",
    "#iterate over a list using index\n",
    "for i in range(len(genre_of_songs)):\n",
    "    print(f\"I like {genre_of_songs[i]}\")\n",
    "\n"
   ]
  },
  {
   "cell_type": "code",
   "execution_count": 3,
   "metadata": {},
   "outputs": [
    {
     "name": "stdout",
     "output_type": "stream",
     "text": [
      "0\n",
      "2\n",
      "7\n",
      "9\n",
      "No items left.\n",
      "40\n"
     ]
    }
   ],
   "source": [
    "\"\"\"\n",
    "## For loop with else\n",
    "-> for loop can have optional else block\n",
    "-> else part will be executed if items in sequence used in for loop exhaust\n",
    "-> break keyword can be used to stop for loop, in such case else part will ignored\n",
    "-> So else part in for loop will execute if no break occurs \n",
    "\"\"\"\n",
    "digits = [0, 2, 7, 9]\n",
    "for items in digits:\n",
    "    print(items)\n",
    "else: \n",
    "    print(\"No items left.\")\n",
    "    \n",
    "\"\"\"\n",
    "Else block in for else will execute only when break keyword is not execute\n",
    "\"\"\"\n",
    "match_name = 'Sabuj'\n",
    "\n",
    "marks_match = {'sanju':29, 'Sabuj':40, 'Hari':25}\n",
    "\n",
    "for items in marks_match:\n",
    "    if items == match_name:\n",
    "        print(marks_match[items])\n",
    "        break\n",
    "else:\n",
    "    print(\"No entry with that name found.\")"
   ]
  },
  {
   "cell_type": "code",
   "execution_count": null,
   "metadata": {},
   "outputs": [],
   "source": []
  }
 ],
 "metadata": {
  "kernelspec": {
   "display_name": "Python 3 (ipykernel)",
   "language": "python",
   "name": "python3"
  },
  "language_info": {
   "codemirror_mode": {
    "name": "ipython",
    "version": 3
   },
   "file_extension": ".py",
   "mimetype": "text/x-python",
   "name": "python",
   "nbconvert_exporter": "python",
   "pygments_lexer": "ipython3",
   "version": "3.12.3"
  }
 },
 "nbformat": 4,
 "nbformat_minor": 4
}
