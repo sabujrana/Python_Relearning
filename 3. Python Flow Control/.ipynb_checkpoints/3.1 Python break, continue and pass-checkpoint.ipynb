{
 "cells": [
  {
   "cell_type": "markdown",
   "metadata": {},
   "source": [
    "## Break and continue Statement"
   ]
  },
  {
   "cell_type": "markdown",
   "metadata": {},
   "source": [
    "### Use of break and conitnue statement"
   ]
  },
  {
   "cell_type": "code",
   "execution_count": 1,
   "metadata": {},
   "outputs": [
    {
     "data": {
      "text/plain": [
       "'\\n-> both statement is used to altered the flow of normal loop\\n-> loop iterate until test expression evaluates False, but if we wish to terminate current iteration or whole loop\\nwithout checking test expression we use \"break\" and \"continue\" statement\\n'"
      ]
     },
     "execution_count": 1,
     "metadata": {},
     "output_type": "execute_result"
    }
   ],
   "source": [
    "\"\"\"\n",
    "-> both statement is used to altered the flow of normal loop\n",
    "-> loop iterate until test expression evaluates False, but if we wish to terminate current iteration or whole loop\n",
    "without checking test expression we use \"break\" and \"continue\" statement\n",
    "\"\"\""
   ]
  },
  {
   "cell_type": "markdown",
   "metadata": {},
   "source": [
    "### Python break statement"
   ]
  },
  {
   "cell_type": "code",
   "execution_count": 2,
   "metadata": {},
   "outputs": [
    {
     "data": {
      "text/plain": [
       "'\\n-> terminates the loop containing it.\\n-> flow of control will be immediately switch to the statement outside the body of loop.\\n-> If break statement is in nested loop then, it will terminate the innermost loop\\nSyntax:\\nbreak\\n'"
      ]
     },
     "execution_count": 2,
     "metadata": {},
     "output_type": "execute_result"
    }
   ],
   "source": [
    "\"\"\"\n",
    "-> terminates the loop containing it.\n",
    "-> flow of control will be immediately switch to the statement outside the body of loop.\n",
    "-> If break statement is in nested loop then, it will terminate the innermost loop\n",
    "Syntax:\n",
    "break\n",
    "\"\"\""
   ]
  },
  {
   "cell_type": "code",
   "execution_count": 9,
   "metadata": {
    "scrolled": true
   },
   "outputs": [
    {
     "name": "stdout",
     "output_type": "stream",
     "text": [
      "n\n",
      "a\n",
      "Outer part of loop\n",
      "0\n",
      "1\n",
      "2\n",
      "3\n",
      "4\n",
      "5\n",
      "6\n"
     ]
    }
   ],
   "source": [
    "for name in \"names\":\n",
    "    if name == \"m\":\n",
    "        break\n",
    "    print(name)\n",
    "print(\"Outer part of loop\")\n",
    "\n",
    "for val in range(10):\n",
    "    if val == 7:\n",
    "        break\n",
    "    print(val)\n",
    "else:\n",
    "    print(\"For loop Succefully executed.\")"
   ]
  },
  {
   "cell_type": "markdown",
   "metadata": {},
   "source": [
    "### Python Continue Statement"
   ]
  },
  {
   "cell_type": "code",
   "execution_count": 11,
   "metadata": {},
   "outputs": [
    {
     "name": "stdout",
     "output_type": "stream",
     "text": [
      "N\n",
      "e\n",
      "a\n",
      "l\n",
      "Outer part of the loop\n"
     ]
    }
   ],
   "source": [
    "\"\"\"\n",
    "-> python \"continue\" statement used to skip rest of code inside a loop for current interation only.\n",
    "-> loop does not terminate but continue on next iteration.\n",
    "Syntax:\n",
    "continue\n",
    "\"\"\"\n",
    "for letter in \"Nepal\":\n",
    "    if letter == \"p\":\n",
    "        continue\n",
    "    print(letter)\n",
    "print(\"Outer part of the loop\")"
   ]
  }
 ],
 "metadata": {
  "kernelspec": {
   "display_name": "Python 3 (ipykernel)",
   "language": "python",
   "name": "python3"
  },
  "language_info": {
   "codemirror_mode": {
    "name": "ipython",
    "version": 3
   },
   "file_extension": ".py",
   "mimetype": "text/x-python",
   "name": "python",
   "nbconvert_exporter": "python",
   "pygments_lexer": "ipython3",
   "version": "3.12.3"
  }
 },
 "nbformat": 4,
 "nbformat_minor": 4
}
