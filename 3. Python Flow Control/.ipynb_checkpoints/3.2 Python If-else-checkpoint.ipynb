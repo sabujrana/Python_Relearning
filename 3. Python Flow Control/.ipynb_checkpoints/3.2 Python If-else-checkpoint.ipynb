{
 "cells": [
  {
   "cell_type": "markdown",
   "metadata": {},
   "source": [
    "## If-else Statement"
   ]
  },
  {
   "cell_type": "code",
   "execution_count": 9,
   "metadata": {},
   "outputs": [
    {
     "name": "stdout",
     "output_type": "stream",
     "text": [
      "9 is positive.\n",
      "This statement will always printed.\n",
      "This statement is always printed.\n"
     ]
    }
   ],
   "source": [
    "\"\"\"\n",
    "-> decision making is required when we want to execute a code only if certain condition is satisfied.\n",
    "-> if..elif..else statement is used for python decision making\n",
    "# If statement syntax:\n",
    "if test_expression:# evaluates test_expression\n",
    "    statement(s) # True: statement(s) execute\n",
    "                   False: statement(s) not execute\n",
    "-> python interprets non-zero values as True. None and 0 are interpret as False\n",
    "\"\"\"\n",
    "num = 9\n",
    "if num > 0:\n",
    "    print(f\"{num} is positive.\")\n",
    "print(\"This statement will always printed.\")\n",
    "    \n",
    "num = -5\n",
    "if num > 0:\n",
    "    print(f\"{num} is positive\")\n",
    "print(\"This statement is always printed.\")\n"
   ]
  },
  {
   "cell_type": "code",
   "execution_count": 7,
   "metadata": {},
   "outputs": [
    {
     "name": "stdout",
     "output_type": "stream",
     "text": [
      "3\n",
      "3 is odd.\n"
     ]
    }
   ],
   "source": [
    "\"\"\"\n",
    "## Python if..else statement\n",
    "syntax: \n",
    "\n",
    "if test_expression:\n",
    "    body of if\n",
    "else:\n",
    "    body of else\n",
    "    \n",
    "-> evaluates test_expression and execute body of if only when test_expression is True.\n",
    "-> body of else will execute only when test_expression is False.\n",
    "\n",
    "\"\"\"\n",
    "number = int(input())\n",
    "if number % 2 == 0:\n",
    "    print(f\"{number} is even.\")\n",
    "else:\n",
    "    print(f\"{number} is odd.\")"
   ]
  },
  {
   "cell_type": "code",
   "execution_count": 13,
   "metadata": {},
   "outputs": [
    {
     "name": "stdout",
     "output_type": "stream",
     "text": [
      "2\n",
      "2 is positive.\n"
     ]
    }
   ],
   "source": [
    "\"\"\"\n",
    "## Python if..elif..else statement\n",
    "syntax:\n",
    "\n",
    "if test_expression1:\n",
    "    Bodey of if\n",
    "elif test_expression2:# elif is short form of else if which allows to check for multiple expression\n",
    "    body of elif\n",
    "else:\n",
    "    body of else\n",
    "\n",
    "-> test_expression1 is evaluated first if it is True then body of if will execute;\n",
    "-> if test_expression is False then test_expression2 is evaluaed, while it is True body of elif will execute\n",
    "-> if test_expression2 is False then body of else will executed.\n",
    "\"\"\"\n",
    "number = int(input())\n",
    "\n",
    "if number < 0:\n",
    "    print(f\"{number} is neagative.\")\n",
    "elif number > 0:\n",
    "    print(f\"{number} is positive.\")\n",
    "else:\n",
    "    print(f\"value is {number}.\")"
   ]
  },
  {
   "cell_type": "markdown",
   "metadata": {},
   "source": [
    "### Nested if Statement"
   ]
  },
  {
   "cell_type": "code",
   "execution_count": 16,
   "metadata": {},
   "outputs": [
    {
     "name": "stdout",
     "output_type": "stream",
     "text": [
      "0\n",
      "Value is 0.\n"
     ]
    }
   ],
   "source": [
    "\"\"\"\n",
    "-> if there is if..elif..else statement inside if..elif..else statement then it will be nested.\n",
    "-> any number of statement can be nested in which indentation is used for figure out level of nesting\n",
    "\"\"\"\n",
    "value = int(input())\n",
    "if value >= 0:\n",
    "    \n",
    "    if value == 0:\n",
    "        print(f\"Value is {value}.\")\n",
    "    else: \n",
    "        print(f\"{value} is positive.\")\n",
    "else:\n",
    "    print(f\"{value} is negative.\")"
   ]
  }
 ],
 "metadata": {
  "kernelspec": {
   "display_name": "Python 3 (ipykernel)",
   "language": "python",
   "name": "python3"
  },
  "language_info": {
   "codemirror_mode": {
    "name": "ipython",
    "version": 3
   },
   "file_extension": ".py",
   "mimetype": "text/x-python",
   "name": "python",
   "nbconvert_exporter": "python",
   "pygments_lexer": "ipython3",
   "version": "3.12.3"
  }
 },
 "nbformat": 4,
 "nbformat_minor": 4
}
