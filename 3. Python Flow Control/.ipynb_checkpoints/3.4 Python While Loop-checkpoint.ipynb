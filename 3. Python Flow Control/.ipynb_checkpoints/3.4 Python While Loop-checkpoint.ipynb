{
 "cells": [
  {
   "cell_type": "markdown",
   "metadata": {},
   "source": [
    "## While Loop"
   ]
  },
  {
   "cell_type": "code",
   "execution_count": 5,
   "metadata": {},
   "outputs": [
    {
     "name": "stdout",
     "output_type": "stream",
     "text": [
      "Enter the no of terms: 20\n",
      "The sum up to 20 term is 210.\n"
     ]
    }
   ],
   "source": [
    "\"\"\"\n",
    "-> loops are used to repeate a specific block of code\n",
    "-> while loop is used to iterate over a block of code as long as test expression(condition) is true\n",
    "-> used this loop when we don't know the exact number of iteration\n",
    "\n",
    "Syntax: \n",
    "\n",
    "while test_expression:\n",
    "    Body of while\n",
    "    \n",
    "-> test expression is checked first, if it returns true then body of while will execute\n",
    "-> after first iteration it again check test_expression this will continue till the test_expression evaluates False\n",
    "-> Python interprets non-zero value as True. None and 0 as False\n",
    "\n",
    "\"\"\"\n",
    "# program to calculate sum of natural number up to n \n",
    "# sum = 1+2+3+....+n\n",
    "\n",
    "n = int(input(\"Enter the no of terms: \"))\n",
    "sum = 0\n",
    "i = 1\n",
    "\n",
    "while i <= n:\n",
    "    sum += i\n",
    "    i += 1 #update counter\n",
    "print(f\"The sum up to {n} term is {sum}.\")\n"
   ]
  },
  {
   "cell_type": "code",
   "execution_count": 6,
   "metadata": {},
   "outputs": [
    {
     "name": "stdout",
     "output_type": "stream",
     "text": [
      "Inside while loop.\n",
      "Inside while loop.\n",
      "Inside while loop.\n",
      "Inside while loop.\n",
      "Inside else block.\n"
     ]
    }
   ],
   "source": [
    "\"\"\"\n",
    "# While loop with else\n",
    "-> Similar with for loop while loop also can have else block\n",
    "-> the else block will execured if condition in while loop evaluateds to False\n",
    "-> while loop can be terminated with break statement, in such cases else part will ignored.\n",
    "-> So else part will executed if no break statement is occured and condition is False\n",
    "\n",
    "\"\"\"\n",
    "number = 0\n",
    "while number <= 3:\n",
    "    print(\"Inside while loop.\")\n",
    "    number += 1\n",
    "else:\n",
    "    print(\"Inside else block.\")"
   ]
  },
  {
   "cell_type": "code",
   "execution_count": null,
   "metadata": {},
   "outputs": [],
   "source": []
  }
 ],
 "metadata": {
  "kernelspec": {
   "display_name": "Python 3 (ipykernel)",
   "language": "python",
   "name": "python3"
  },
  "language_info": {
   "codemirror_mode": {
    "name": "ipython",
    "version": 3
   },
   "file_extension": ".py",
   "mimetype": "text/x-python",
   "name": "python",
   "nbconvert_exporter": "python",
   "pygments_lexer": "ipython3",
   "version": "3.12.3"
  }
 },
 "nbformat": 4,
 "nbformat_minor": 4
}
